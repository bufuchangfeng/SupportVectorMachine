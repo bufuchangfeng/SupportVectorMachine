{
 "cells": [
  {
   "cell_type": "code",
   "execution_count": 1,
   "metadata": {},
   "outputs": [],
   "source": [
    "import numpy as np\n",
    "import matplotlib.pyplot as plt\n",
    "from scipy.io import loadmat\n",
    "from scipy.sparse import coo_matrix\n",
    "from sklearn.utils import shuffle\n",
    "from sklearn.model_selection import train_test_split\n",
    "import copy\n",
    "import pickle\n",
    "import pandas as pd\n",
    "from tqdm import tqdm\n",
    "from typing import Counter\n",
    "import math\n",
    "from sklearn.decomposition import PCA\n",
    "from sklearn.metrics import f1_score, recall_score, precision_score\n",
    "import threading\n",
    "from sklearn.svm import SVC\n",
    "\n",
    "\n",
    "def load_data():\n",
    "    data = loadmat(\"data/mnist_all.mat\")\n",
    "\n",
    "    # print(data.keys())\n",
    "\n",
    "    train_data = pd.DataFrame()\n",
    "    test_data = pd.DataFrame()\n",
    "\n",
    "    for i in range(10):\n",
    "        temp_df = pd.DataFrame(data[\"train\" + str(i)])\n",
    "        temp_df['label'] = i\n",
    "        train_data = train_data.append(temp_df)\n",
    "        temp_df = pd.DataFrame(data[\"test\" + str(i)])\n",
    "        temp_df['label'] = i\n",
    "        test_data = test_data.append(temp_df)\n",
    "\n",
    "    train_data = shuffle(train_data)\n",
    "    test_data = shuffle(test_data)\n",
    "\n",
    "    train_labels = np.array(train_data['label'])\n",
    "    test_labels = np.array(test_data['label'])\n",
    "\n",
    "    train_data = train_data.drop('label', axis=1)\n",
    "    test_data = test_data.drop('label', axis=1)\n",
    "    \n",
    "    train_data = np.array(train_data) / 255\n",
    "    test_data = np.array(test_data) / 255\n",
    "    \n",
    "    pca = PCA(0.95)\n",
    "    pca.fit(train_data)\n",
    "    train_data = pca.transform(train_data)\n",
    "    test_data = pca.transform(test_data)\n",
    "\n",
    "    return train_data, test_data, train_labels, test_labels\n",
    "\n",
    "\n",
    "X_train, X_test, y_train, y_test = load_data()\n",
    "\n",
    "X_train, X_valid, y_train, y_valid = train_test_split(\n",
    "    X_train, y_train, test_size=0.2, random_state=0)"
   ]
  },
  {
   "cell_type": "code",
   "execution_count": 2,
   "metadata": {},
   "outputs": [
    {
     "name": "stdout",
     "output_type": "stream",
     "text": [
      "(48000, 154)\n"
     ]
    }
   ],
   "source": [
    "print(X_train.shape)"
   ]
  },
  {
   "cell_type": "code",
   "execution_count": 3,
   "metadata": {},
   "outputs": [],
   "source": [
    "class SVM:\n",
    "    def __init__(self, C):\n",
    "        self.C = C\n",
    "        self.b = 0\n",
    "    \n",
    "    def train(self, X_data, Y_data, valid_x, valid_y, epochs, kernel_type):\n",
    "        self.x_num = X_data.shape[0]\n",
    "        \n",
    "        self.epochs = epochs\n",
    "        self.X_data = X_data\n",
    "        self.Y_data = Y_data\n",
    "        \n",
    "        self.valid_x  = valid_x\n",
    "        self.valid_y = valid_y\n",
    "        \n",
    "        self.E = np.zeros(self.x_num)\n",
    "        self.alpha = np.zeros(self.x_num)\n",
    "        \n",
    "        self.best_alpha = None\n",
    "        self.best_f1 = 0\n",
    "        self.best_b = None\n",
    "        \n",
    "        self.kernel_type = kernel_type\n",
    "        \n",
    "        self.kernel_matrix = np.zeros(shape=(self.x_num, self.x_num))\n",
    "        \n",
    "        self.valid_kernel_matrix = np.zeros(shape=(self.x_num, len(self.valid_y)))\n",
    "        \n",
    "        self.init_valid_kernel_matrix()\n",
    "        self.init_kernel_matrix()\n",
    "        self.init_E()\n",
    "        \n",
    "        pair_changed = 0\n",
    "        for epoch in tqdm(range(self.epochs)):\n",
    "            for i in range(self.x_num):\n",
    "    \n",
    "                if not ((self.Y_data[i] * self.E[i] < -0.001) and (self.alpha[i] <self.C) or \\\n",
    "                     (self.Y_data[i] * self.E[i] > 0.001) and (self.alpha[i] > 0)):\n",
    "                    continue\n",
    "                \n",
    "                val, j = self.select_j(i)\n",
    "                \n",
    "                while j < self.x_num:\n",
    "                    if i == j:\n",
    "                        j += 1\n",
    "                        continue\n",
    "                    if self.Y_data[i] == self.Y_data[j]:\n",
    "                        L = max(0, self.alpha[j] + self.alpha[i] - self.C)\n",
    "                        H = min(self.C, self.alpha[j] + self.alpha[i])\n",
    "                    else:\n",
    "                        L = max(0, self.alpha[j] - self.alpha[i])\n",
    "                        H = min(self.C, self.C + self.alpha[j] - self.alpha[i])\n",
    "\n",
    "                    if L == H:\n",
    "                        j += 1\n",
    "                        continue\n",
    "                    old_alpha_j = self.alpha[j]\n",
    "                    yita = self.kernel_matrix[i][i] + self.kernel_matrix[j][j] \\\n",
    "                               - 2 * self.kernel_matrix[i][j]\n",
    "\n",
    "                    if yita <= 0:\n",
    "                        j += 1\n",
    "                        continue\n",
    "\n",
    "                    new_alpha_unc_j = old_alpha_j + self.Y_data[j] * (self.E[i] - self.E[j]) / yita\n",
    "\n",
    "                    if new_alpha_unc_j >= H:\n",
    "                        new_alpha_clippd_j = H\n",
    "                    elif new_alpha_unc_j <= L:\n",
    "                        new_alpha_clippd_j = L\n",
    "                    else:\n",
    "                        new_alpha_clippd_j = new_alpha_unc_j\n",
    "\n",
    "                    if(np.abs(old_alpha_j-new_alpha_clippd_j) <= 1e-5):\n",
    "                        j += 1\n",
    "                        continue\n",
    "                    \n",
    "                    break\n",
    "                \n",
    "                if j >= self.x_num:\n",
    "                    continue\n",
    "                    \n",
    "                self.alpha[j] = new_alpha_clippd_j\n",
    "                \n",
    "                old_alpha_i = self.alpha[i]\n",
    "                self.alpha[i] = old_alpha_i + self.Y_data[i] * self.Y_data[j] * (old_alpha_j - self.alpha[j])\n",
    "\n",
    "                old_b = self.b\n",
    "\n",
    "                bi_new = -self.E[i] - self.Y_data[i] * self.kernel_matrix[i][i] * (self.alpha[i] - old_alpha_i) \\\n",
    "                             - self.Y_data[j] * self.kernel_matrix[i][j] * (self.alpha[j] - old_alpha_j) + old_b\n",
    "\n",
    "                bj_new = -self.E[j] - self.Y_data[i] * self.kernel_matrix[i][j] * (self.alpha[i] - old_alpha_i) \\\n",
    "                             - self.Y_data[j] * self.kernel_matrix[j][j] * (self.alpha[j] - old_alpha_j) + old_b\n",
    "                \n",
    "                if self.alpha[i] > 0 and self.alpha[i] < self.C:\n",
    "                    self.b = bi_new\n",
    "                elif self.alpha[j] > 0 and self.alpha[j] < self.C:\n",
    "                    self.b = bj_new\n",
    "                else:\n",
    "                    self.b = (bi_new + bj_new)/2.0\n",
    "\n",
    "                self.update_E(i)\n",
    "                self.update_E(j)\n",
    "\n",
    "                \n",
    "                pair_changed += 1\n",
    "                if pair_changed % 10 == 0:\n",
    "                    state = self.valid()\n",
    "                    if state is True:\n",
    "                        return\n",
    "        \n",
    "\n",
    "    def init_kernel_matrix(self):\n",
    "        print('start initing kernel matrix...')\n",
    "        num = self.x_num\n",
    "        for i in tqdm(range(0, num)):\n",
    "            for j in range(0, num):\n",
    "                if i > j:\n",
    "                    self.kernel_matrix[i][j] = self.kernel_matrix[j][i]\n",
    "                    continue\n",
    "                if self.kernel_type == 'rbf':\n",
    "                    self.kernel_matrix[i][j] = self.rbf_kernel(self.X_data[i], self.X_data[j])\n",
    "                elif self.kernel_type == 'poly':\n",
    "                    self.kernel_matrix[i][j] = self.polynominal_kernel(self.X_data[i], self.X_data[j])\n",
    "        print('finish initing kernel matrix...')\n",
    "    \n",
    "    \n",
    "    def init_valid_kernel_matrix(self):\n",
    "        print('start initing valid kernel matrix...')\n",
    "        for i in tqdm(range(self.x_num)):\n",
    "            for j in range(len(self.valid_y)):\n",
    "                if self.kernel_type == 'rbf':\n",
    "                    self.valid_kernel_matrix[i][j] = self.rbf_kernel(self.X_data[i], self.valid_x[j])\n",
    "                elif self.kernel_type == 'poly':\n",
    "                    self.valid_kernel_matrix[i][j] = self.polynominal_kernel(self.X_data[i], self.valid_x[j])\n",
    "        print('finish initing valid kernel matrix...')\n",
    "        \n",
    "\n",
    "    def update_E(self, index):\n",
    "        \n",
    "        sv = self.get_support_vectors()\n",
    "        s = 0\n",
    "        for i in range(len(sv)):\n",
    "            s += self.Y_data[i]*self.alpha[i]*self.kernel_matrix[i][index]\n",
    "        s += self.b - self.Y_data[index]\n",
    "        \n",
    "       \n",
    "        self.E[index] = s\n",
    "        \n",
    "        \n",
    "\n",
    "    def init_E(self):\n",
    "        print('start initing E...')\n",
    "        for i in tqdm(range(self.x_num)):\n",
    "            self.E[i] = self.g_x_with_kernel_matrix(i) - self.Y_data[i]\n",
    "        print('finish initing E...')\n",
    "    \n",
    "\n",
    "    def select_j(self, i):\n",
    "        max_abs = 0\n",
    "        max_index = -1\n",
    "        for j in range(self.x_num):\n",
    "            if i == j:\n",
    "                continue\n",
    "                \n",
    "            temp_abs = np.abs(self.E[i]-self.E[j])\n",
    "            if temp_abs > max_abs:\n",
    "                max_abs = temp_abs\n",
    "                max_index = j\n",
    "        \n",
    "        return max_abs, max_index\n",
    "    \n",
    "\n",
    "    def predict(self, x, opt):\n",
    "        s = 0\n",
    "        if opt == 'valid':\n",
    "            for i in range(self.x_num):\n",
    "                s += self.alpha[i] * self.Y_data[i] * self.valid_kernel_matrix[i][x]\n",
    "            s += self.b\n",
    "        elif opt == 'test':\n",
    "            for i in range(self.x_num):\n",
    "                if self.kernel_type == 'rbf':\n",
    "                    s += self.best_alpha[i] * self.Y_data[i] * self.rbf_kernel(self.X_data[i], x)\n",
    "                elif self.kernel_type == 'poly':\n",
    "                    s += self.best_alpha[i] * self.Y_data[i] * self.polynominal_kernel(self.X_data[i], x)\n",
    "            s += self.best_b\n",
    "        \n",
    "        return np.sign(s)\n",
    "    \n",
    "\n",
    "    def g_x(self, x):\n",
    "        s = 0\n",
    "        for k in range(self.x_num):\n",
    "            if self.kernel_type == 'rbf':\n",
    "                s += self.alpha[k]*self.Y_data[k]*self.rbf_kernel(x, self.X_data[k])\n",
    "            elif self.kernel_type == 'poly':\n",
    "                s += self.alpha[k]*self.Y_data[k]*self.polynominal_kernel(x, self.X_data[k])\n",
    "        return s + self.b\n",
    "    \n",
    "    \n",
    "\n",
    "    def g_x_with_kernel_matrix(self, i):\n",
    "        s = 0\n",
    "        for k in range(self.x_num):\n",
    "            s += self.alpha[k]*self.Y_data[k]*self.kernel_matrix[i][k]\n",
    "        \n",
    "        return s + self.b\n",
    "    \n",
    "\n",
    "    def rbf_kernel(self, x, z):\n",
    "        gamma = 0.5     # gamma > 0\n",
    "        return np.exp(-gamma*np.linalg.norm(x-z))\n",
    "    \n",
    "\n",
    "    def get_support_vectors(self):\n",
    "        sv = []\n",
    "        for i in range(self.x_num):\n",
    "            if self.alpha[i] > 0 and self.alpha[i] < self.C:\n",
    "                sv.append(i)\n",
    "                \n",
    "        return sv\n",
    "    \n",
    "    \n",
    "    def predict_of_probability(self, x):\n",
    "        s = 0\n",
    "       \n",
    "        for i in range(self.x_num):\n",
    "            if self.kernel_type == 'rbf':\n",
    "                s += self.best_alpha[i] * self.Y_data[i] * self.rbf_kernel(self.X_data[i], x)\n",
    "            elif self.kernel_type == 'poly':\n",
    "                s += self.best_alpha[i] * self.Y_data[i] * self.polynominal_kernel(self.X_data[i], x)\n",
    "                \n",
    "        s += self.best_b\n",
    "        \n",
    "        return s\n",
    "    \n",
    "    \n",
    "    def polynominal_kernel(self, x, z):\n",
    "        return math.pow(np.dot(x, z) + 1, 3)\n",
    "    \n",
    "    \n",
    "    def valid(self):\n",
    "        y_predict = []\n",
    "        for i in range(len(self.valid_x)):\n",
    "            p = self.predict(i, opt='valid')\n",
    "            y_predict.append(p)\n",
    "        \n",
    "        valid_f1 = f1_score(self.valid_y, y_predict)\n",
    "        print('valid f1: {} precision: {} recall: {}'.format(valid_f1 , precision_score(self.valid_y, y_predict) \\\n",
    "                                                           , recall_score(self.valid_y, y_predict)))\n",
    "        \n",
    "        if valid_f1 >= self.best_f1:\n",
    "            self.best_f1 = valid_f1\n",
    "            self.best_alpha = copy.deepcopy(self.alpha)\n",
    "            self.best_b = self.b\n",
    "            print('           get new model')\n",
    "            \n",
    "            if self.best_f1 >= 0.95:\n",
    "                return True\n",
    "            else:\n",
    "                return False"
   ]
  },
  {
   "cell_type": "code",
   "execution_count": 4,
   "metadata": {},
   "outputs": [],
   "source": [
    "def make_data_of_digit_i_and_j(x, y, digit_i, digit_j):\n",
    "    pos_sample_num = 0\n",
    "    neg_sample_num = 0\n",
    "    _data = []\n",
    "    \n",
    "    for i in range(len(x)):\n",
    "        if y[i] == digit_i and pos_sample_num < 1000:\n",
    "            _data.append([x[i], 1])\n",
    "            pos_sample_num += 1\n",
    "\n",
    "        elif y[i] == digit_j and neg_sample_num < 1000:\n",
    "            neg_sample_num += 1\n",
    "            _data.append([x[i], -1])\n",
    "\n",
    "        else:\n",
    "            continue\n",
    "        \n",
    "    shuffle(_data)\n",
    "    data =  []\n",
    "    labels =[]\n",
    "    \n",
    "    for i in range(len(_data)):\n",
    "        data.append(_data[i][0])\n",
    "        labels.append(_data[i][1])\n",
    "    \n",
    "    return data, labels"
   ]
  },
  {
   "cell_type": "code",
   "execution_count": 9,
   "metadata": {},
   "outputs": [
    {
     "name": "stderr",
     "output_type": "stream",
     "text": [
      "  1%|▌                                                                              | 13/2000 [00:00<00:15, 126.55it/s]"
     ]
    },
    {
     "name": "stdout",
     "output_type": "stream",
     "text": [
      "start initing valid kernel matrix...\n"
     ]
    },
    {
     "name": "stderr",
     "output_type": "stream",
     "text": [
      "100%|█████████████████████████████████████████████████████████████████████████████| 2000/2000 [00:18<00:00, 110.19it/s]\n",
      "  0%|▎                                                                                | 9/2000 [00:00<00:25, 79.16it/s]"
     ]
    },
    {
     "name": "stdout",
     "output_type": "stream",
     "text": [
      "finish initing valid kernel matrix...\n",
      "start initing kernel matrix...\n"
     ]
    },
    {
     "name": "stderr",
     "output_type": "stream",
     "text": [
      "100%|█████████████████████████████████████████████████████████████████████████████| 2000/2000 [00:11<00:00, 176.63it/s]\n",
      "  1%|▉                                                                              | 23/2000 [00:00<00:08, 223.90it/s]"
     ]
    },
    {
     "name": "stdout",
     "output_type": "stream",
     "text": [
      "finish initing kernel matrix...\n",
      "start initing E...\n"
     ]
    },
    {
     "name": "stderr",
     "output_type": "stream",
     "text": [
      "100%|█████████████████████████████████████████████████████████████████████████████| 2000/2000 [00:07<00:00, 261.16it/s]\n",
      "  0%|                                                                                            | 0/5 [00:00<?, ?it/s]"
     ]
    },
    {
     "name": "stdout",
     "output_type": "stream",
     "text": [
      "finish initing E...\n",
      "valid f1: 0.6812411847672778 precision: 0.5261437908496732 recall: 0.966\n",
      "           get new model\n",
      "valid f1: 0.6759040216289287 precision: 0.5104645227156712 recall: 1.0\n",
      "valid f1: 0.8311148086522463 precision: 0.7115384615384616 recall: 0.999\n",
      "           get new model\n",
      "valid f1: 0.6798096532970768 precision: 0.5149330587023687 recall: 1.0\n"
     ]
    },
    {
     "name": "stderr",
     "output_type": "stream",
     "text": [
      "  0%|                                                                                            | 0/5 [00:37<?, ?it/s]\n",
      "  0%|▍                                                                               | 10/2000 [00:00<00:21, 93.71it/s]"
     ]
    },
    {
     "name": "stdout",
     "output_type": "stream",
     "text": [
      "valid f1: 0.9715447154471545 precision: 0.987603305785124 recall: 0.956\n",
      "           get new model\n"
     ]
    },
    {
     "name": "stderr",
     "output_type": "stream",
     "text": [
      "100%|█████████████████████████████████████████████████████████████████████████████| 2000/2000 [00:19<00:00, 102.54it/s]\n"
     ]
    },
    {
     "name": "stdout",
     "output_type": "stream",
     "text": [
      "test f1: 0.9720670391061452 precision: 0.9876160990712074 recall: 0.957\n"
     ]
    }
   ],
   "source": [
    "def train_single_model(C, kernel_type):\n",
    "    svm = SVM(C=C)\n",
    "    \n",
    "    train_data, train_labels = make_data_of_digit_i_and_j(X_train, y_train, 1, 2)\n",
    "    valid_data, valid_labels = make_data_of_digit_i_and_j(X_valid, y_valid, 1, 2)\n",
    "    test_data, test_labels = make_data_of_digit_i_and_j(X_test, y_test, 1, 2)\n",
    "    \n",
    "    train_data = np.array(train_data)\n",
    "    valid_data = np.array(valid_data)\n",
    "    test_data = np.array(test_data)\n",
    "    \n",
    "    svm.train(train_data, train_labels, valid_data, valid_labels, epochs=5, kernel_type=kernel_type)\n",
    "        \n",
    "    predict_list = []\n",
    "    for i in tqdm(range(len(test_data))):\n",
    "        p = svm.predict(test_data[i], opt='test')\n",
    "        predict_list.append(p)\n",
    "        \n",
    "    print('test f1: {} precision: {} recall: {}'.format(f1_score(test_labels, predict_list) , \\\n",
    "                                                            precision_score(test_labels, predict_list) \\\n",
    "                                                           , recall_score(test_labels, predict_list)))\n",
    "    \n",
    "# single_model(0.1, 'rbf')\n",
    "train_single_model(0.001, 'poly')\n",
    "# single_model(10, 'rbf')\n",
    "# single_model(100, 'rbf')\n",
    "# single_model(1000, 'rbf')\n",
    "# single_model(10000, 'rbf')\n",
    "# single_model(100000, 'rbf')"
   ]
  },
  {
   "cell_type": "code",
   "execution_count": 10,
   "metadata": {
    "scrolled": false
   },
   "outputs": [
    {
     "name": "stderr",
     "output_type": "stream",
     "text": [
      "  1%|▌                                                                              | 14/2000 [00:00<00:14, 137.24it/s]"
     ]
    },
    {
     "name": "stdout",
     "output_type": "stream",
     "text": [
      "start initing valid kernel matrix...\n"
     ]
    },
    {
     "name": "stderr",
     "output_type": "stream",
     "text": [
      "100%|█████████████████████████████████████████████████████████████████████████████| 2000/2000 [00:18<00:00, 105.80it/s]\n",
      "  1%|▍                                                                              | 12/2000 [00:00<00:17, 115.70it/s]"
     ]
    },
    {
     "name": "stdout",
     "output_type": "stream",
     "text": [
      "finish initing valid kernel matrix...\n",
      "start initing kernel matrix...\n"
     ]
    },
    {
     "name": "stderr",
     "output_type": "stream",
     "text": [
      "100%|█████████████████████████████████████████████████████████████████████████████| 2000/2000 [00:10<00:00, 193.65it/s]\n",
      "  2%|█▍                                                                             | 35/2000 [00:00<00:05, 345.72it/s]"
     ]
    },
    {
     "name": "stdout",
     "output_type": "stream",
     "text": [
      "finish initing kernel matrix...\n",
      "start initing E...\n"
     ]
    },
    {
     "name": "stderr",
     "output_type": "stream",
     "text": [
      "100%|█████████████████████████████████████████████████████████████████████████████| 2000/2000 [00:05<00:00, 338.46it/s]\n",
      "  0%|                                                                                            | 0/5 [00:00<?, ?it/s]"
     ]
    },
    {
     "name": "stdout",
     "output_type": "stream",
     "text": [
      "finish initing E...\n",
      "valid f1: 0.707175177763413 precision: 1.0 recall: 0.547\n",
      "           get new model\n"
     ]
    },
    {
     "name": "stderr",
     "output_type": "stream",
     "text": [
      "  0%|                                                                                            | 0/5 [00:12<?, ?it/s]\n",
      "  1%|▌                                                                              | 13/2000 [00:00<00:16, 124.14it/s]"
     ]
    },
    {
     "name": "stdout",
     "output_type": "stream",
     "text": [
      "valid f1: 0.992039800995025 precision: 0.9871287128712871 recall: 0.997\n",
      "           get new model\n",
      "start initing valid kernel matrix...\n"
     ]
    },
    {
     "name": "stderr",
     "output_type": "stream",
     "text": [
      "100%|█████████████████████████████████████████████████████████████████████████████| 2000/2000 [00:16<00:00, 121.22it/s]\n",
      "  1%|▌                                                                              | 13/2000 [00:00<00:16, 121.82it/s]"
     ]
    },
    {
     "name": "stdout",
     "output_type": "stream",
     "text": [
      "finish initing valid kernel matrix...\n",
      "start initing kernel matrix...\n"
     ]
    },
    {
     "name": "stderr",
     "output_type": "stream",
     "text": [
      "100%|█████████████████████████████████████████████████████████████████████████████| 2000/2000 [00:08<00:00, 243.62it/s]\n",
      "  2%|█▊                                                                             | 45/2000 [00:00<00:04, 448.86it/s]"
     ]
    },
    {
     "name": "stdout",
     "output_type": "stream",
     "text": [
      "finish initing kernel matrix...\n",
      "start initing E...\n"
     ]
    },
    {
     "name": "stderr",
     "output_type": "stream",
     "text": [
      "100%|█████████████████████████████████████████████████████████████████████████████| 2000/2000 [00:04<00:00, 440.39it/s]\n",
      "  0%|                                                                                            | 0/5 [00:00<?, ?it/s]"
     ]
    },
    {
     "name": "stdout",
     "output_type": "stream",
     "text": [
      "finish initing E...\n",
      "valid f1: 0.6734006734006733 precision: 0.5076142131979695 recall: 1.0\n",
      "           get new model\n",
      "valid f1: 0.7547169811320755 precision: 0.6060606060606061 recall: 1.0\n",
      "           get new model\n",
      "valid f1: 0.7160759040458289 precision: 0.5577244841048522 recall: 1.0\n"
     ]
    },
    {
     "name": "stderr",
     "output_type": "stream",
     "text": [
      "  0%|                                                                                            | 0/5 [00:19<?, ?it/s]\n",
      "  1%|▋                                                                              | 16/2000 [00:00<00:12, 159.62it/s]"
     ]
    },
    {
     "name": "stdout",
     "output_type": "stream",
     "text": [
      "valid f1: 0.9734069242348219 precision: 0.9768378650553877 recall: 0.97\n",
      "           get new model\n",
      "start initing valid kernel matrix...\n"
     ]
    },
    {
     "name": "stderr",
     "output_type": "stream",
     "text": [
      "100%|█████████████████████████████████████████████████████████████████████████████| 2000/2000 [00:12<00:00, 154.33it/s]\n",
      "  1%|▋                                                                              | 17/2000 [00:00<00:12, 164.68it/s]"
     ]
    },
    {
     "name": "stdout",
     "output_type": "stream",
     "text": [
      "finish initing valid kernel matrix...\n",
      "start initing kernel matrix...\n"
     ]
    },
    {
     "name": "stderr",
     "output_type": "stream",
     "text": [
      "100%|█████████████████████████████████████████████████████████████████████████████| 2000/2000 [00:07<00:00, 254.52it/s]\n",
      "  5%|███▉                                                                           | 99/2000 [00:00<00:03, 487.96it/s]"
     ]
    },
    {
     "name": "stdout",
     "output_type": "stream",
     "text": [
      "finish initing kernel matrix...\n",
      "start initing E...\n"
     ]
    },
    {
     "name": "stderr",
     "output_type": "stream",
     "text": [
      "100%|█████████████████████████████████████████████████████████████████████████████| 2000/2000 [00:04<00:00, 439.20it/s]\n",
      "  0%|                                                                                            | 0/5 [00:00<?, ?it/s]"
     ]
    },
    {
     "name": "stdout",
     "output_type": "stream",
     "text": [
      "finish initing E...\n",
      "valid f1: 0.7518796992481204 precision: 0.6024096385542169 recall: 1.0\n",
      "           get new model\n",
      "valid f1: 0.6851661527920521 precision: 0.5211047420531527 recall: 1.0\n",
      "valid f1: 0.8445984979780474 precision: 1.0 recall: 0.731\n",
      "           get new model\n",
      "valid f1: 0.9361702127659575 precision: 1.0 recall: 0.88\n",
      "           get new model\n",
      "valid f1: 0.6756756756756758 precision: 0.5102040816326531 recall: 1.0\n",
      "valid f1: 0.8221436984687868 precision: 1.0 recall: 0.698\n",
      "valid f1: 0.8233841086867023 precision: 0.6997900629811057 recall: 1.0\n"
     ]
    },
    {
     "name": "stderr",
     "output_type": "stream",
     "text": [
      "  0%|                                                                                            | 0/5 [00:40<?, ?it/s]\n",
      "  0%|                                                                                         | 0/2000 [00:00<?, ?it/s]"
     ]
    },
    {
     "name": "stdout",
     "output_type": "stream",
     "text": [
      "valid f1: 0.9791136016301578 precision: 0.9979231568016614 recall: 0.961\n",
      "           get new model\n",
      "start initing valid kernel matrix...\n"
     ]
    },
    {
     "name": "stderr",
     "output_type": "stream",
     "text": [
      "100%|██████████████████████████████████████████████████████████████████████████████| 2000/2000 [00:28<00:00, 70.07it/s]\n",
      "  1%|▍                                                                              | 12/2000 [00:00<00:17, 114.59it/s]"
     ]
    },
    {
     "name": "stdout",
     "output_type": "stream",
     "text": [
      "finish initing valid kernel matrix...\n",
      "start initing kernel matrix...\n"
     ]
    },
    {
     "name": "stderr",
     "output_type": "stream",
     "text": [
      "100%|█████████████████████████████████████████████████████████████████████████████| 2000/2000 [00:10<00:00, 186.49it/s]\n",
      "  3%|██▌                                                                            | 64/2000 [00:00<00:06, 302.72it/s]"
     ]
    },
    {
     "name": "stdout",
     "output_type": "stream",
     "text": [
      "finish initing kernel matrix...\n",
      "start initing E...\n"
     ]
    },
    {
     "name": "stderr",
     "output_type": "stream",
     "text": [
      "100%|█████████████████████████████████████████████████████████████████████████████| 2000/2000 [00:06<00:00, 331.36it/s]\n",
      "  0%|                                                                                            | 0/5 [00:00<?, ?it/s]"
     ]
    },
    {
     "name": "stdout",
     "output_type": "stream",
     "text": [
      "finish initing E...\n",
      "valid f1: 0.6756756756756758 precision: 0.5102040816326531 recall: 1.0\n",
      "           get new model\n",
      "valid f1: 0.8587699316628702 precision: 0.9973544973544973 recall: 0.754\n",
      "           get new model\n",
      "valid f1: 0.8414351851851852 precision: 0.9986263736263736 recall: 0.727\n"
     ]
    },
    {
     "name": "stderr",
     "output_type": "stream",
     "text": [
      "  0%|                                                                                            | 0/5 [00:26<?, ?it/s]\n",
      "  0%|                                                                                         | 0/2000 [00:00<?, ?it/s]"
     ]
    },
    {
     "name": "stdout",
     "output_type": "stream",
     "text": [
      "valid f1: 0.968605249613999 precision: 0.9978791092258749 recall: 0.941\n",
      "           get new model\n",
      "start initing valid kernel matrix...\n"
     ]
    },
    {
     "name": "stderr",
     "output_type": "stream",
     "text": [
      "100%|█████████████████████████████████████████████████████████████████████████████| 2000/2000 [00:16<00:00, 118.25it/s]\n",
      "  1%|▍                                                                              | 11/2000 [00:00<00:19, 102.12it/s]"
     ]
    },
    {
     "name": "stdout",
     "output_type": "stream",
     "text": [
      "finish initing valid kernel matrix...\n",
      "start initing kernel matrix...\n"
     ]
    },
    {
     "name": "stderr",
     "output_type": "stream",
     "text": [
      "100%|█████████████████████████████████████████████████████████████████████████████| 2000/2000 [00:10<00:00, 191.74it/s]\n",
      "  3%|██▌                                                                            | 66/2000 [00:00<00:06, 317.81it/s]"
     ]
    },
    {
     "name": "stdout",
     "output_type": "stream",
     "text": [
      "finish initing kernel matrix...\n",
      "start initing E...\n"
     ]
    },
    {
     "name": "stderr",
     "output_type": "stream",
     "text": [
      "100%|█████████████████████████████████████████████████████████████████████████████| 2000/2000 [00:05<00:00, 342.27it/s]\n",
      "  0%|                                                                                            | 0/5 [00:00<?, ?it/s]"
     ]
    },
    {
     "name": "stdout",
     "output_type": "stream",
     "text": [
      "finish initing E...\n",
      "valid f1: 0.66711140760507 precision: 0.5005005005005005 recall: 1.0\n",
      "           get new model\n",
      "valid f1: 0.5601719197707736 precision: 0.9873737373737373 recall: 0.391\n",
      "valid f1: 0.875 precision: 0.9789603960396039 recall: 0.791\n",
      "           get new model\n",
      "valid f1: 0.6784260515603798 precision: 0.5133470225872689 recall: 1.0\n",
      "valid f1: 0.3922829581993569 precision: 1.0 recall: 0.244\n",
      "valid f1: 0.6666666666666666 precision: 0.5 recall: 1.0\n",
      "valid f1: 0.18511796733212338 precision: 1.0 recall: 0.102\n",
      "valid f1: 0.8963616317530321 precision: 0.9987714987714987 recall: 0.813\n",
      "           get new model\n",
      "valid f1: 0.7396449704142012 precision: 0.5868544600938967 recall: 1.0\n"
     ]
    },
    {
     "name": "stderr",
     "output_type": "stream",
     "text": [
      "  0%|                                                                                            | 0/5 [01:03<?, ?it/s]\n",
      "  1%|▍                                                                              | 12/2000 [00:00<00:17, 115.69it/s]"
     ]
    },
    {
     "name": "stdout",
     "output_type": "stream",
     "text": [
      "valid f1: 0.9711209006363191 precision: 0.9511025886864813 recall: 0.992\n",
      "           get new model\n",
      "start initing valid kernel matrix...\n"
     ]
    },
    {
     "name": "stderr",
     "output_type": "stream",
     "text": [
      "100%|█████████████████████████████████████████████████████████████████████████████| 2000/2000 [00:17<00:00, 116.94it/s]\n",
      "  1%|▍                                                                              | 11/2000 [00:00<00:18, 109.20it/s]"
     ]
    },
    {
     "name": "stdout",
     "output_type": "stream",
     "text": [
      "finish initing valid kernel matrix...\n",
      "start initing kernel matrix...\n"
     ]
    },
    {
     "name": "stderr",
     "output_type": "stream",
     "text": [
      "100%|█████████████████████████████████████████████████████████████████████████████| 2000/2000 [00:11<00:00, 177.58it/s]\n",
      "  2%|█▍                                                                             | 37/2000 [00:00<00:05, 367.32it/s]"
     ]
    },
    {
     "name": "stdout",
     "output_type": "stream",
     "text": [
      "finish initing kernel matrix...\n",
      "start initing E...\n"
     ]
    },
    {
     "name": "stderr",
     "output_type": "stream",
     "text": [
      "100%|█████████████████████████████████████████████████████████████████████████████| 2000/2000 [00:06<00:00, 329.89it/s]\n",
      "  0%|                                                                                            | 0/5 [00:00<?, ?it/s]"
     ]
    },
    {
     "name": "stdout",
     "output_type": "stream",
     "text": [
      "finish initing E...\n",
      "valid f1: 0.6963788300835655 precision: 0.5341880341880342 recall: 1.0\n",
      "           get new model\n",
      "valid f1: 0.678886625933469 precision: 0.513874614594039 recall: 1.0\n",
      "valid f1: 0.8917826672653794 precision: 0.8092909535452323 recall: 0.993\n",
      "           get new model\n",
      "valid f1: 0.9259606373008433 precision: 0.8712522045855379 recall: 0.988\n",
      "           get new model\n",
      "valid f1: 0.8683181225554107 precision: 0.7678708685626441 recall: 0.999\n",
      "valid f1: 0.9312762973352033 precision: 0.874451273046532 recall: 0.996\n",
      "           get new model\n"
     ]
    },
    {
     "name": "stderr",
     "output_type": "stream",
     "text": [
      "  0%|                                                                                            | 0/5 [00:48<?, ?it/s]\n",
      "  0%|                                                                                         | 0/2000 [00:00<?, ?it/s]"
     ]
    },
    {
     "name": "stdout",
     "output_type": "stream",
     "text": [
      "valid f1: 0.965986394557823 precision: 0.9395085066162571 recall: 0.994\n",
      "           get new model\n",
      "start initing valid kernel matrix...\n"
     ]
    },
    {
     "name": "stderr",
     "output_type": "stream",
     "text": [
      "100%|█████████████████████████████████████████████████████████████████████████████| 2000/2000 [00:17<00:00, 113.63it/s]\n",
      "  1%|▍                                                                              | 12/2000 [00:00<00:17, 114.59it/s]"
     ]
    },
    {
     "name": "stdout",
     "output_type": "stream",
     "text": [
      "finish initing valid kernel matrix...\n",
      "start initing kernel matrix...\n"
     ]
    },
    {
     "name": "stderr",
     "output_type": "stream",
     "text": [
      "100%|█████████████████████████████████████████████████████████████████████████████| 2000/2000 [00:11<00:00, 179.98it/s]\n",
      "  2%|█▏                                                                             | 30/2000 [00:00<00:06, 294.90it/s]"
     ]
    },
    {
     "name": "stdout",
     "output_type": "stream",
     "text": [
      "finish initing kernel matrix...\n",
      "start initing E...\n"
     ]
    },
    {
     "name": "stderr",
     "output_type": "stream",
     "text": [
      "100%|█████████████████████████████████████████████████████████████████████████████| 2000/2000 [00:06<00:00, 324.18it/s]\n",
      "  0%|                                                                                            | 0/5 [00:00<?, ?it/s]"
     ]
    },
    {
     "name": "stdout",
     "output_type": "stream",
     "text": [
      "finish initing E...\n",
      "valid f1: 0.48139711465451784 precision: 1.0 recall: 0.317\n",
      "           get new model\n",
      "valid f1: 0.8166598611678236 precision: 0.6901311249137336 recall: 1.0\n",
      "           get new model\n",
      "valid f1: 0.9317098994176812 precision: 0.9898762654668166 recall: 0.88\n",
      "           get new model\n",
      "valid f1: 0.7317691819911224 precision: 1.0 recall: 0.577\n",
      "valid f1: 0.8172678888231816 precision: 1.0 recall: 0.691\n",
      "valid f1: 0.6394557823129251 precision: 1.0 recall: 0.47\n"
     ]
    },
    {
     "name": "stderr",
     "output_type": "stream",
     "text": [
      "\r",
      "  0%|                                                                                            | 0/5 [00:50<?, ?it/s]"
     ]
    },
    {
     "name": "stdout",
     "output_type": "stream",
     "text": [
      "valid f1: 0.9905800694100148 precision: 0.9823008849557522 recall: 0.999\n",
      "           get new model\n"
     ]
    },
    {
     "name": "stderr",
     "output_type": "stream",
     "text": [
      "\n",
      "  0%|                                                                                         | 0/2000 [00:00<?, ?it/s]"
     ]
    },
    {
     "name": "stdout",
     "output_type": "stream",
     "text": [
      "start initing valid kernel matrix...\n"
     ]
    },
    {
     "name": "stderr",
     "output_type": "stream",
     "text": [
      "100%|██████████████████████████████████████████████████████████████████████████████| 2000/2000 [00:23<00:00, 85.66it/s]\n",
      "  1%|▍                                                                              | 11/2000 [00:00<00:18, 105.04it/s]"
     ]
    },
    {
     "name": "stdout",
     "output_type": "stream",
     "text": [
      "finish initing valid kernel matrix...\n",
      "start initing kernel matrix...\n"
     ]
    },
    {
     "name": "stderr",
     "output_type": "stream",
     "text": [
      "100%|█████████████████████████████████████████████████████████████████████████████| 2000/2000 [00:11<00:00, 181.31it/s]\n",
      "  2%|█▍                                                                             | 36/2000 [00:00<00:05, 350.46it/s]"
     ]
    },
    {
     "name": "stdout",
     "output_type": "stream",
     "text": [
      "finish initing kernel matrix...\n",
      "start initing E...\n"
     ]
    },
    {
     "name": "stderr",
     "output_type": "stream",
     "text": [
      "100%|█████████████████████████████████████████████████████████████████████████████| 2000/2000 [00:06<00:00, 304.66it/s]\n",
      "  0%|                                                                                            | 0/5 [00:00<?, ?it/s]"
     ]
    },
    {
     "name": "stdout",
     "output_type": "stream",
     "text": [
      "finish initing E...\n",
      "valid f1: 0.6738544474393531 precision: 0.508130081300813 recall: 1.0\n",
      "           get new model\n",
      "valid f1: 0.8734622144112478 precision: 0.7789968652037618 recall: 0.994\n",
      "           get new model\n",
      "valid f1: 0.670690811535882 precision: 0.5045408678102926 recall: 1.0\n",
      "valid f1: 0.7047216349541932 precision: 0.544069640914037 recall: 1.0\n",
      "valid f1: 0.9247211895910781 precision: 0.8637152777777778 recall: 0.995\n",
      "           get new model\n"
     ]
    },
    {
     "name": "stderr",
     "output_type": "stream",
     "text": [
      "  0%|                                                                                            | 0/5 [00:41<?, ?it/s]\n",
      "  0%|                                                                                         | 0/2000 [00:00<?, ?it/s]"
     ]
    },
    {
     "name": "stdout",
     "output_type": "stream",
     "text": [
      "valid f1: 0.9770290964777948 precision: 0.9979144942648592 recall: 0.957\n",
      "           get new model\n",
      "start initing valid kernel matrix...\n"
     ]
    },
    {
     "name": "stderr",
     "output_type": "stream",
     "text": [
      "100%|█████████████████████████████████████████████████████████████████████████████| 2000/2000 [00:18<00:00, 107.65it/s]\n",
      "  0%|▎                                                                                | 8/2000 [00:00<00:25, 78.64it/s]"
     ]
    },
    {
     "name": "stdout",
     "output_type": "stream",
     "text": [
      "finish initing valid kernel matrix...\n",
      "start initing kernel matrix...\n"
     ]
    },
    {
     "name": "stderr",
     "output_type": "stream",
     "text": [
      "100%|█████████████████████████████████████████████████████████████████████████████| 2000/2000 [00:10<00:00, 190.57it/s]\n",
      "  2%|█▍                                                                             | 37/2000 [00:00<00:05, 363.72it/s]"
     ]
    },
    {
     "name": "stdout",
     "output_type": "stream",
     "text": [
      "finish initing kernel matrix...\n",
      "start initing E...\n"
     ]
    },
    {
     "name": "stderr",
     "output_type": "stream",
     "text": [
      "100%|█████████████████████████████████████████████████████████████████████████████| 2000/2000 [00:05<00:00, 345.70it/s]\n",
      "  0%|                                                                                            | 0/5 [00:00<?, ?it/s]"
     ]
    },
    {
     "name": "stdout",
     "output_type": "stream",
     "text": [
      "finish initing E...\n",
      "valid f1: 0.7886473429951691 precision: 0.9954268292682927 recall: 0.653\n",
      "           get new model\n",
      "valid f1: 0.8714205502526671 precision: 0.9935979513444302 recall: 0.776\n",
      "           get new model\n",
      "valid f1: 0.7997609085475194 precision: 0.9940564635958395 recall: 0.669\n",
      "valid f1: 0.7995198079231693 precision: 1.0 recall: 0.666\n"
     ]
    },
    {
     "name": "stderr",
     "output_type": "stream",
     "text": [
      "  0%|                                                                                            | 0/5 [00:30<?, ?it/s]\n",
      "  1%|▌                                                                              | 14/2000 [00:00<00:14, 136.29it/s]"
     ]
    },
    {
     "name": "stdout",
     "output_type": "stream",
     "text": [
      "valid f1: 0.9546106067845198 precision: 0.9139981701738334 recall: 0.999\n",
      "           get new model\n",
      "start initing valid kernel matrix...\n"
     ]
    },
    {
     "name": "stderr",
     "output_type": "stream",
     "text": [
      "100%|█████████████████████████████████████████████████████████████████████████████| 2000/2000 [00:16<00:00, 121.38it/s]\n",
      "  1%|▉                                                                              | 25/2000 [00:00<00:16, 118.60it/s]"
     ]
    },
    {
     "name": "stdout",
     "output_type": "stream",
     "text": [
      "finish initing valid kernel matrix...\n",
      "start initing kernel matrix...\n"
     ]
    },
    {
     "name": "stderr",
     "output_type": "stream",
     "text": [
      "100%|█████████████████████████████████████████████████████████████████████████████| 2000/2000 [00:11<00:00, 178.87it/s]\n",
      "  2%|█▎                                                                             | 34/2000 [00:00<00:05, 337.54it/s]"
     ]
    },
    {
     "name": "stdout",
     "output_type": "stream",
     "text": [
      "finish initing kernel matrix...\n",
      "start initing E...\n"
     ]
    },
    {
     "name": "stderr",
     "output_type": "stream",
     "text": [
      "100%|█████████████████████████████████████████████████████████████████████████████| 2000/2000 [00:06<00:00, 317.14it/s]\n",
      "  0%|                                                                                            | 0/5 [00:00<?, ?it/s]"
     ]
    },
    {
     "name": "stdout",
     "output_type": "stream",
     "text": [
      "finish initing E...\n",
      "valid f1: 0.6812411847672778 precision: 0.5261437908496732 recall: 0.966\n",
      "           get new model\n",
      "valid f1: 0.6759040216289287 precision: 0.5104645227156712 recall: 1.0\n",
      "valid f1: 0.8311148086522463 precision: 0.7115384615384616 recall: 0.999\n",
      "           get new model\n",
      "valid f1: 0.6798096532970768 precision: 0.5149330587023687 recall: 1.0\n"
     ]
    },
    {
     "name": "stderr",
     "output_type": "stream",
     "text": [
      "  0%|                                                                                            | 0/5 [00:32<?, ?it/s]\n",
      "  0%|                                                                                         | 0/2000 [00:00<?, ?it/s]"
     ]
    },
    {
     "name": "stdout",
     "output_type": "stream",
     "text": [
      "valid f1: 0.9715447154471545 precision: 0.987603305785124 recall: 0.956\n",
      "           get new model\n",
      "start initing valid kernel matrix...\n"
     ]
    },
    {
     "name": "stderr",
     "output_type": "stream",
     "text": [
      "100%|█████████████████████████████████████████████████████████████████████████████| 2000/2000 [00:16<00:00, 119.92it/s]\n",
      "  1%|▌                                                                              | 13/2000 [00:00<00:16, 122.98it/s]"
     ]
    },
    {
     "name": "stdout",
     "output_type": "stream",
     "text": [
      "finish initing valid kernel matrix...\n",
      "start initing kernel matrix...\n"
     ]
    },
    {
     "name": "stderr",
     "output_type": "stream",
     "text": [
      "100%|█████████████████████████████████████████████████████████████████████████████| 2000/2000 [00:11<00:00, 178.87it/s]\n",
      "  1%|█▏                                                                             | 29/2000 [00:00<00:06, 283.61it/s]"
     ]
    },
    {
     "name": "stdout",
     "output_type": "stream",
     "text": [
      "finish initing kernel matrix...\n",
      "start initing E...\n"
     ]
    },
    {
     "name": "stderr",
     "output_type": "stream",
     "text": [
      "100%|█████████████████████████████████████████████████████████████████████████████| 2000/2000 [00:06<00:00, 316.59it/s]\n",
      "  0%|                                                                                            | 0/5 [00:00<?, ?it/s]"
     ]
    },
    {
     "name": "stdout",
     "output_type": "stream",
     "text": [
      "finish initing E...\n",
      "valid f1: 0.6666666666666666 precision: 0.5 recall: 1.0\n",
      "           get new model\n",
      "valid f1: 0.6666666666666666 precision: 0.5 recall: 1.0\n",
      "           get new model\n",
      "valid f1: 0.6666666666666666 precision: 0.5 recall: 1.0\n",
      "           get new model\n",
      "valid f1: 0.6666666666666666 precision: 0.5 recall: 1.0\n",
      "           get new model\n",
      "valid f1: 0.6666666666666666 precision: 0.5 recall: 1.0\n",
      "           get new model\n",
      "valid f1: 0.6666666666666666 precision: 0.5 recall: 1.0\n",
      "           get new model\n",
      "valid f1: 0.6666666666666666 precision: 0.5 recall: 1.0\n",
      "           get new model\n",
      "valid f1: 0.6666666666666666 precision: 0.5 recall: 1.0\n",
      "           get new model\n",
      "valid f1: 0.6666666666666666 precision: 0.5 recall: 1.0\n",
      "           get new model\n",
      "valid f1: 0.6666666666666666 precision: 0.5 recall: 1.0\n",
      "           get new model\n",
      "valid f1: 0.6666666666666666 precision: 0.5 recall: 1.0\n",
      "           get new model\n",
      "valid f1: 0.6666666666666666 precision: 0.5 recall: 1.0\n",
      "           get new model\n",
      "valid f1: 0.6666666666666666 precision: 0.5 recall: 1.0\n",
      "           get new model\n",
      "valid f1: 0.6666666666666666 precision: 0.5 recall: 1.0\n",
      "           get new model\n",
      "valid f1: 0.6666666666666666 precision: 0.5 recall: 1.0\n",
      "           get new model\n",
      "valid f1: 0.6666666666666666 precision: 0.5 recall: 1.0\n",
      "           get new model\n",
      "valid f1: 0.6666666666666666 precision: 0.5 recall: 1.0\n",
      "           get new model\n",
      "valid f1: 0.6666666666666666 precision: 0.5 recall: 1.0\n",
      "           get new model\n",
      "valid f1: 0.6666666666666666 precision: 0.5 recall: 1.0\n",
      "           get new model\n",
      "valid f1: 0.6666666666666666 precision: 0.5 recall: 1.0\n",
      "           get new model\n",
      "valid f1: 0.6666666666666666 precision: 0.5 recall: 1.0\n",
      "           get new model\n",
      "valid f1: 0.6666666666666666 precision: 0.5 recall: 1.0\n",
      "           get new model\n",
      "valid f1: 0.6666666666666666 precision: 0.5 recall: 1.0\n",
      "           get new model\n",
      "valid f1: 0.6666666666666666 precision: 0.5 recall: 1.0\n",
      "           get new model\n",
      "valid f1: 0.6666666666666666 precision: 0.5 recall: 1.0\n",
      "           get new model\n",
      "valid f1: 0.6666666666666666 precision: 0.5 recall: 1.0\n",
      "           get new model\n",
      "valid f1: 0.6666666666666666 precision: 0.5 recall: 1.0\n",
      "           get new model\n",
      "valid f1: 0.6666666666666666 precision: 0.5 recall: 1.0\n",
      "           get new model\n",
      "valid f1: 0.6666666666666666 precision: 0.5 recall: 1.0\n",
      "           get new model\n",
      "valid f1: 0.6666666666666666 precision: 0.5 recall: 1.0\n",
      "           get new model\n",
      "valid f1: 0.6666666666666666 precision: 0.5 recall: 1.0\n",
      "           get new model\n",
      "valid f1: 0.6666666666666666 precision: 0.5 recall: 1.0\n",
      "           get new model\n",
      "valid f1: 0.6666666666666666 precision: 0.5 recall: 1.0\n",
      "           get new model\n",
      "valid f1: 0.6666666666666666 precision: 0.5 recall: 1.0\n",
      "           get new model\n",
      "valid f1: 0.6666666666666666 precision: 0.5 recall: 1.0\n",
      "           get new model\n",
      "valid f1: 0.6666666666666666 precision: 0.5 recall: 1.0\n",
      "           get new model\n",
      "valid f1: 0.6666666666666666 precision: 0.5 recall: 1.0\n",
      "           get new model\n",
      "valid f1: 0.6666666666666666 precision: 0.5 recall: 1.0\n",
      "           get new model\n",
      "valid f1: 0.6666666666666666 precision: 0.5 recall: 1.0\n",
      "           get new model\n",
      "valid f1: 0.6666666666666666 precision: 0.5 recall: 1.0\n",
      "           get new model\n",
      "valid f1: 0.6666666666666666 precision: 0.5 recall: 1.0\n",
      "           get new model\n",
      "valid f1: 0.6666666666666666 precision: 0.5 recall: 1.0\n",
      "           get new model\n",
      "valid f1: 0.6666666666666666 precision: 0.5 recall: 1.0\n",
      "           get new model\n",
      "valid f1: 0.6666666666666666 precision: 0.5 recall: 1.0\n",
      "           get new model\n",
      "valid f1: 0.6666666666666666 precision: 0.5 recall: 1.0\n",
      "           get new model\n",
      "valid f1: 0.6666666666666666 precision: 0.5 recall: 1.0\n",
      "           get new model\n",
      "valid f1: 0.6666666666666666 precision: 0.5 recall: 1.0\n",
      "           get new model\n",
      "valid f1: 0.6666666666666666 precision: 0.5 recall: 1.0\n",
      "           get new model\n",
      "valid f1: 0.6666666666666666 precision: 0.5 recall: 1.0\n",
      "           get new model\n",
      "valid f1: 0.6666666666666666 precision: 0.5 recall: 1.0\n",
      "           get new model\n",
      "valid f1: 0.6666666666666666 precision: 0.5 recall: 1.0\n",
      "           get new model\n",
      "valid f1: 0.6666666666666666 precision: 0.5 recall: 1.0\n",
      "           get new model\n",
      "valid f1: 0.6666666666666666 precision: 0.5 recall: 1.0\n",
      "           get new model\n",
      "valid f1: 0.6666666666666666 precision: 0.5 recall: 1.0\n",
      "           get new model\n",
      "valid f1: 0.6666666666666666 precision: 0.5 recall: 1.0\n",
      "           get new model\n",
      "valid f1: 0.6666666666666666 precision: 0.5 recall: 1.0\n",
      "           get new model\n",
      "valid f1: 0.6666666666666666 precision: 0.5 recall: 1.0\n",
      "           get new model\n",
      "valid f1: 0.6666666666666666 precision: 0.5 recall: 1.0\n",
      "           get new model\n",
      "valid f1: 0.6666666666666666 precision: 0.5 recall: 1.0\n",
      "           get new model\n",
      "valid f1: 0.6666666666666666 precision: 0.5 recall: 1.0\n",
      "           get new model\n",
      "valid f1: 0.6666666666666666 precision: 0.5 recall: 1.0\n",
      "           get new model\n",
      "valid f1: 0.6666666666666666 precision: 0.5 recall: 1.0\n",
      "           get new model\n",
      "valid f1: 0.6666666666666666 precision: 0.5 recall: 1.0\n",
      "           get new model\n",
      "valid f1: 0.6666666666666666 precision: 0.5 recall: 1.0\n",
      "           get new model\n",
      "valid f1: 0.6666666666666666 precision: 0.5 recall: 1.0\n",
      "           get new model\n",
      "valid f1: 0.6666666666666666 precision: 0.5 recall: 1.0\n",
      "           get new model\n",
      "valid f1: 0.6666666666666666 precision: 0.5 recall: 1.0\n",
      "           get new model\n",
      "valid f1: 0.6666666666666666 precision: 0.5 recall: 1.0\n",
      "           get new model\n",
      "valid f1: 0.6666666666666666 precision: 0.5 recall: 1.0\n",
      "           get new model\n",
      "valid f1: 0.6666666666666666 precision: 0.5 recall: 1.0\n",
      "           get new model\n",
      "valid f1: 0.6666666666666666 precision: 0.5 recall: 1.0\n",
      "           get new model\n",
      "valid f1: 0.6666666666666666 precision: 0.5 recall: 1.0\n",
      "           get new model\n",
      "valid f1: 0.6666666666666666 precision: 0.5 recall: 1.0\n",
      "           get new model\n",
      "valid f1: 0.6666666666666666 precision: 0.5 recall: 1.0\n",
      "           get new model\n",
      "valid f1: 0.6666666666666666 precision: 0.5 recall: 1.0\n",
      "           get new model\n",
      "valid f1: 0.6666666666666666 precision: 0.5 recall: 1.0\n",
      "           get new model\n",
      "valid f1: 0.6666666666666666 precision: 0.5 recall: 1.0\n",
      "           get new model\n",
      "valid f1: 0.6666666666666666 precision: 0.5 recall: 1.0\n",
      "           get new model\n",
      "valid f1: 0.6666666666666666 precision: 0.5 recall: 1.0\n",
      "           get new model\n",
      "valid f1: 0.6666666666666666 precision: 0.5 recall: 1.0\n",
      "           get new model\n",
      "valid f1: 0.6666666666666666 precision: 0.5 recall: 1.0\n",
      "           get new model\n",
      "valid f1: 0.6666666666666666 precision: 0.5 recall: 1.0\n",
      "           get new model\n",
      "valid f1: 0.6666666666666666 precision: 0.5 recall: 1.0\n",
      "           get new model\n",
      "valid f1: 0.6666666666666666 precision: 0.5 recall: 1.0\n",
      "           get new model\n",
      "valid f1: 0.6666666666666666 precision: 0.5 recall: 1.0\n",
      "           get new model\n",
      "valid f1: 0.6666666666666666 precision: 0.5 recall: 1.0\n",
      "           get new model\n",
      "valid f1: 0.6666666666666666 precision: 0.5 recall: 1.0\n",
      "           get new model\n",
      "valid f1: 0.6666666666666666 precision: 0.5 recall: 1.0\n",
      "           get new model\n",
      "valid f1: 0.6666666666666666 precision: 0.5 recall: 1.0\n",
      "           get new model\n",
      "valid f1: 0.6666666666666666 precision: 0.5 recall: 1.0\n",
      "           get new model\n",
      "valid f1: 0.6666666666666666 precision: 0.5 recall: 1.0\n",
      "           get new model\n",
      "valid f1: 0.6666666666666666 precision: 0.5 recall: 1.0\n",
      "           get new model\n",
      "valid f1: 0.6666666666666666 precision: 0.5 recall: 1.0\n",
      "           get new model\n",
      "valid f1: 0.6666666666666666 precision: 0.5 recall: 1.0\n",
      "           get new model\n",
      "valid f1: 0.6666666666666666 precision: 0.5 recall: 1.0\n",
      "           get new model\n",
      "valid f1: 0.6666666666666666 precision: 0.5 recall: 1.0\n",
      "           get new model\n",
      "valid f1: 0.6666666666666666 precision: 0.5 recall: 1.0\n",
      "           get new model\n",
      "valid f1: 0.6666666666666666 precision: 0.5 recall: 1.0\n",
      "           get new model\n",
      "valid f1: 0.6666666666666666 precision: 0.5 recall: 1.0\n",
      "           get new model\n",
      "valid f1: 0.6666666666666666 precision: 0.5 recall: 1.0\n",
      "           get new model\n"
     ]
    },
    {
     "name": "stderr",
     "output_type": "stream",
     "text": [
      "  0%|                                                                                            | 0/5 [11:18<?, ?it/s]\n",
      "  0%|                                                                                         | 0/2000 [00:00<?, ?it/s]"
     ]
    },
    {
     "name": "stdout",
     "output_type": "stream",
     "text": [
      "valid f1: 0.9736842105263158 precision: 0.9496197718631179 recall: 0.999\n",
      "           get new model\n",
      "start initing valid kernel matrix...\n"
     ]
    },
    {
     "name": "stderr",
     "output_type": "stream",
     "text": [
      "100%|██████████████████████████████████████████████████████████████████████████████| 2000/2000 [00:21<00:00, 94.81it/s]\n",
      "  1%|▍                                                                              | 11/2000 [00:00<00:19, 102.13it/s]"
     ]
    },
    {
     "name": "stdout",
     "output_type": "stream",
     "text": [
      "finish initing valid kernel matrix...\n",
      "start initing kernel matrix...\n"
     ]
    },
    {
     "name": "stderr",
     "output_type": "stream",
     "text": [
      "100%|█████████████████████████████████████████████████████████████████████████████| 2000/2000 [00:11<00:00, 174.92it/s]\n",
      "  2%|█▏                                                                             | 31/2000 [00:00<00:06, 304.74it/s]"
     ]
    },
    {
     "name": "stdout",
     "output_type": "stream",
     "text": [
      "finish initing kernel matrix...\n",
      "start initing E...\n"
     ]
    },
    {
     "name": "stderr",
     "output_type": "stream",
     "text": [
      "100%|█████████████████████████████████████████████████████████████████████████████| 2000/2000 [00:06<00:00, 319.41it/s]\n",
      "  0%|                                                                                            | 0/5 [00:00<?, ?it/s]"
     ]
    },
    {
     "name": "stdout",
     "output_type": "stream",
     "text": [
      "finish initing E...\n",
      "valid f1: 0.7024938531787847 precision: 0.5414185165132648 recall: 1.0\n",
      "           get new model\n",
      "valid f1: 0.6759040216289287 precision: 0.5104645227156712 recall: 1.0\n"
     ]
    },
    {
     "name": "stderr",
     "output_type": "stream",
     "text": [
      "  0%|                                                                                            | 0/5 [00:18<?, ?it/s]\n",
      "  0%|                                                                                         | 0/2000 [00:00<?, ?it/s]"
     ]
    },
    {
     "name": "stdout",
     "output_type": "stream",
     "text": [
      "valid f1: 0.9523310633839707 precision: 1.0 recall: 0.909\n",
      "           get new model\n",
      "start initing valid kernel matrix...\n"
     ]
    },
    {
     "name": "stderr",
     "output_type": "stream",
     "text": [
      "100%|█████████████████████████████████████████████████████████████████████████████| 2000/2000 [00:17<00:00, 111.50it/s]\n",
      "  0%|▍                                                                               | 10/2000 [00:00<00:20, 98.78it/s]"
     ]
    },
    {
     "name": "stdout",
     "output_type": "stream",
     "text": [
      "finish initing valid kernel matrix...\n",
      "start initing kernel matrix...\n"
     ]
    },
    {
     "name": "stderr",
     "output_type": "stream",
     "text": [
      "100%|█████████████████████████████████████████████████████████████████████████████| 2000/2000 [00:11<00:00, 169.92it/s]\n",
      "  3%|██▋                                                                            | 69/2000 [00:00<00:05, 348.57it/s]"
     ]
    },
    {
     "name": "stdout",
     "output_type": "stream",
     "text": [
      "finish initing kernel matrix...\n",
      "start initing E...\n"
     ]
    },
    {
     "name": "stderr",
     "output_type": "stream",
     "text": [
      "100%|█████████████████████████████████████████████████████████████████████████████| 2000/2000 [00:05<00:00, 346.73it/s]\n",
      "  0%|                                                                                            | 0/5 [00:00<?, ?it/s]"
     ]
    },
    {
     "name": "stdout",
     "output_type": "stream",
     "text": [
      "finish initing E...\n",
      "valid f1: 0.6666666666666666 precision: 0.5 recall: 1.0\n",
      "           get new model\n",
      "valid f1: 0.6666666666666666 precision: 0.5 recall: 1.0\n",
      "           get new model\n",
      "valid f1: 0.6666666666666666 precision: 0.5 recall: 1.0\n",
      "           get new model\n",
      "valid f1: 0.6666666666666666 precision: 0.5 recall: 1.0\n",
      "           get new model\n",
      "valid f1: 0.6666666666666666 precision: 0.5 recall: 1.0\n",
      "           get new model\n",
      "valid f1: 0.6666666666666666 precision: 0.5 recall: 1.0\n",
      "           get new model\n",
      "valid f1: 0.6666666666666666 precision: 0.5 recall: 1.0\n",
      "           get new model\n",
      "valid f1: 0.6666666666666666 precision: 0.5 recall: 1.0\n",
      "           get new model\n",
      "valid f1: 0.6666666666666666 precision: 0.5 recall: 1.0\n",
      "           get new model\n",
      "valid f1: 0.6666666666666666 precision: 0.5 recall: 1.0\n",
      "           get new model\n",
      "valid f1: 0.6666666666666666 precision: 0.5 recall: 1.0\n",
      "           get new model\n",
      "valid f1: 0.6666666666666666 precision: 0.5 recall: 1.0\n",
      "           get new model\n",
      "valid f1: 0.6666666666666666 precision: 0.5 recall: 1.0\n",
      "           get new model\n",
      "valid f1: 0.6666666666666666 precision: 0.5 recall: 1.0\n",
      "           get new model\n",
      "valid f1: 0.6666666666666666 precision: 0.5 recall: 1.0\n",
      "           get new model\n",
      "valid f1: 0.6666666666666666 precision: 0.5 recall: 1.0\n",
      "           get new model\n",
      "valid f1: 0.6666666666666666 precision: 0.5 recall: 1.0\n",
      "           get new model\n",
      "valid f1: 0.6666666666666666 precision: 0.5 recall: 1.0\n",
      "           get new model\n",
      "valid f1: 0.6666666666666666 precision: 0.5 recall: 1.0\n",
      "           get new model\n",
      "valid f1: 0.6666666666666666 precision: 0.5 recall: 1.0\n",
      "           get new model\n",
      "valid f1: 0.6666666666666666 precision: 0.5 recall: 1.0\n",
      "           get new model\n",
      "valid f1: 0.6666666666666666 precision: 0.5 recall: 1.0\n",
      "           get new model\n",
      "valid f1: 0.6666666666666666 precision: 0.5 recall: 1.0\n",
      "           get new model\n",
      "valid f1: 0.6666666666666666 precision: 0.5 recall: 1.0\n",
      "           get new model\n",
      "valid f1: 0.6666666666666666 precision: 0.5 recall: 1.0\n",
      "           get new model\n",
      "valid f1: 0.6666666666666666 precision: 0.5 recall: 1.0\n",
      "           get new model\n",
      "valid f1: 0.6666666666666666 precision: 0.5 recall: 1.0\n",
      "           get new model\n",
      "valid f1: 0.6666666666666666 precision: 0.5 recall: 1.0\n",
      "           get new model\n",
      "valid f1: 0.6666666666666666 precision: 0.5 recall: 1.0\n",
      "           get new model\n",
      "valid f1: 0.6666666666666666 precision: 0.5 recall: 1.0\n",
      "           get new model\n",
      "valid f1: 0.6666666666666666 precision: 0.5 recall: 1.0\n",
      "           get new model\n",
      "valid f1: 0.6666666666666666 precision: 0.5 recall: 1.0\n",
      "           get new model\n",
      "valid f1: 0.6666666666666666 precision: 0.5 recall: 1.0\n",
      "           get new model\n",
      "valid f1: 0.6666666666666666 precision: 0.5 recall: 1.0\n",
      "           get new model\n",
      "valid f1: 0.6666666666666666 precision: 0.5 recall: 1.0\n",
      "           get new model\n",
      "valid f1: 0.6666666666666666 precision: 0.5 recall: 1.0\n",
      "           get new model\n",
      "valid f1: 0.6666666666666666 precision: 0.5 recall: 1.0\n",
      "           get new model\n",
      "valid f1: 0.6666666666666666 precision: 0.5 recall: 1.0\n",
      "           get new model\n",
      "valid f1: 0.6666666666666666 precision: 0.5 recall: 1.0\n",
      "           get new model\n",
      "valid f1: 0.6666666666666666 precision: 0.5 recall: 1.0\n",
      "           get new model\n",
      "valid f1: 0.6666666666666666 precision: 0.5 recall: 1.0\n",
      "           get new model\n",
      "valid f1: 0.6666666666666666 precision: 0.5 recall: 1.0\n",
      "           get new model\n",
      "valid f1: 0.6666666666666666 precision: 0.5 recall: 1.0\n",
      "           get new model\n",
      "valid f1: 0.6666666666666666 precision: 0.5 recall: 1.0\n",
      "           get new model\n",
      "valid f1: 0.6666666666666666 precision: 0.5 recall: 1.0\n",
      "           get new model\n",
      "valid f1: 0.6666666666666666 precision: 0.5 recall: 1.0\n",
      "           get new model\n",
      "valid f1: 0.6666666666666666 precision: 0.5 recall: 1.0\n",
      "           get new model\n",
      "valid f1: 0.6666666666666666 precision: 0.5 recall: 1.0\n",
      "           get new model\n",
      "valid f1: 0.6666666666666666 precision: 0.5 recall: 1.0\n",
      "           get new model\n",
      "valid f1: 0.6666666666666666 precision: 0.5 recall: 1.0\n",
      "           get new model\n",
      "valid f1: 0.6666666666666666 precision: 0.5 recall: 1.0\n",
      "           get new model\n",
      "valid f1: 0.6666666666666666 precision: 0.5 recall: 1.0\n",
      "           get new model\n",
      "valid f1: 0.6666666666666666 precision: 0.5 recall: 1.0\n",
      "           get new model\n",
      "valid f1: 0.6666666666666666 precision: 0.5 recall: 1.0\n",
      "           get new model\n",
      "valid f1: 0.6666666666666666 precision: 0.5 recall: 1.0\n",
      "           get new model\n",
      "valid f1: 0.6666666666666666 precision: 0.5 recall: 1.0\n",
      "           get new model\n",
      "valid f1: 0.6666666666666666 precision: 0.5 recall: 1.0\n",
      "           get new model\n",
      "valid f1: 0.6666666666666666 precision: 0.5 recall: 1.0\n",
      "           get new model\n",
      "valid f1: 0.6666666666666666 precision: 0.5 recall: 1.0\n",
      "           get new model\n",
      "valid f1: 0.6666666666666666 precision: 0.5 recall: 1.0\n",
      "           get new model\n",
      "valid f1: 0.6666666666666666 precision: 0.5 recall: 1.0\n",
      "           get new model\n",
      "valid f1: 0.6666666666666666 precision: 0.5 recall: 1.0\n",
      "           get new model\n",
      "valid f1: 0.6666666666666666 precision: 0.5 recall: 1.0\n",
      "           get new model\n",
      "valid f1: 0.6666666666666666 precision: 0.5 recall: 1.0\n",
      "           get new model\n",
      "valid f1: 0.6666666666666666 precision: 0.5 recall: 1.0\n",
      "           get new model\n",
      "valid f1: 0.6666666666666666 precision: 0.5 recall: 1.0\n",
      "           get new model\n",
      "valid f1: 0.6666666666666666 precision: 0.5 recall: 1.0\n",
      "           get new model\n",
      "valid f1: 0.6666666666666666 precision: 0.5 recall: 1.0\n",
      "           get new model\n",
      "valid f1: 0.6666666666666666 precision: 0.5 recall: 1.0\n",
      "           get new model\n",
      "valid f1: 0.6666666666666666 precision: 0.5 recall: 1.0\n",
      "           get new model\n",
      "valid f1: 0.6666666666666666 precision: 0.5 recall: 1.0\n",
      "           get new model\n",
      "valid f1: 0.6666666666666666 precision: 0.5 recall: 1.0\n",
      "           get new model\n",
      "valid f1: 0.6666666666666666 precision: 0.5 recall: 1.0\n",
      "           get new model\n",
      "valid f1: 0.6666666666666666 precision: 0.5 recall: 1.0\n",
      "           get new model\n",
      "valid f1: 0.6666666666666666 precision: 0.5 recall: 1.0\n",
      "           get new model\n",
      "valid f1: 0.6666666666666666 precision: 0.5 recall: 1.0\n",
      "           get new model\n",
      "valid f1: 0.6666666666666666 precision: 0.5 recall: 1.0\n",
      "           get new model\n",
      "valid f1: 0.6666666666666666 precision: 0.5 recall: 1.0\n",
      "           get new model\n",
      "valid f1: 0.6666666666666666 precision: 0.5 recall: 1.0\n",
      "           get new model\n",
      "valid f1: 0.6666666666666666 precision: 0.5 recall: 1.0\n",
      "           get new model\n",
      "valid f1: 0.6666666666666666 precision: 0.5 recall: 1.0\n",
      "           get new model\n",
      "valid f1: 0.6666666666666666 precision: 0.5 recall: 1.0\n",
      "           get new model\n",
      "valid f1: 0.6666666666666666 precision: 0.5 recall: 1.0\n",
      "           get new model\n",
      "valid f1: 0.6666666666666666 precision: 0.5 recall: 1.0\n",
      "           get new model\n",
      "valid f1: 0.6666666666666666 precision: 0.5 recall: 1.0\n",
      "           get new model\n",
      "valid f1: 0.6666666666666666 precision: 0.5 recall: 1.0\n",
      "           get new model\n",
      "valid f1: 0.6666666666666666 precision: 0.5 recall: 1.0\n",
      "           get new model\n",
      "valid f1: 0.6666666666666666 precision: 0.5 recall: 1.0\n",
      "           get new model\n",
      "valid f1: 0.6666666666666666 precision: 0.5 recall: 1.0\n",
      "           get new model\n",
      "valid f1: 0.6666666666666666 precision: 0.5 recall: 1.0\n",
      "           get new model\n",
      "valid f1: 0.6666666666666666 precision: 0.5 recall: 1.0\n",
      "           get new model\n",
      "valid f1: 0.6666666666666666 precision: 0.5 recall: 1.0\n",
      "           get new model\n",
      "valid f1: 0.6666666666666666 precision: 0.5 recall: 1.0\n",
      "           get new model\n",
      "valid f1: 0.6666666666666666 precision: 0.5 recall: 1.0\n",
      "           get new model\n",
      "valid f1: 0.6666666666666666 precision: 0.5 recall: 1.0\n",
      "           get new model\n",
      "valid f1: 0.6666666666666666 precision: 0.5 recall: 1.0\n",
      "           get new model\n",
      "valid f1: 0.6666666666666666 precision: 0.5 recall: 1.0\n",
      "           get new model\n",
      "valid f1: 0.6666666666666666 precision: 0.5 recall: 1.0\n",
      "           get new model\n",
      "valid f1: 0.6666666666666666 precision: 0.5 recall: 1.0\n",
      "           get new model\n",
      "valid f1: 0.6666666666666666 precision: 0.5 recall: 1.0\n",
      "           get new model\n",
      "valid f1: 0.5369422092172641 precision: 1.0 recall: 0.367\n",
      "valid f1: 0.6666666666666666 precision: 0.5 recall: 1.0\n",
      "           get new model\n"
     ]
    },
    {
     "name": "stderr",
     "output_type": "stream",
     "text": [
      "  0%|                                                                                            | 0/5 [09:32<?, ?it/s]\n",
      "  0%|▍                                                                               | 10/2000 [00:00<00:21, 94.15it/s]"
     ]
    },
    {
     "name": "stdout",
     "output_type": "stream",
     "text": [
      "valid f1: 0.9736040609137055 precision: 0.988659793814433 recall: 0.959\n",
      "           get new model\n",
      "start initing valid kernel matrix...\n"
     ]
    },
    {
     "name": "stderr",
     "output_type": "stream",
     "text": [
      "100%|█████████████████████████████████████████████████████████████████████████████| 2000/2000 [00:16<00:00, 121.33it/s]\n",
      "  1%|▋                                                                              | 17/2000 [00:00<00:11, 167.13it/s]"
     ]
    },
    {
     "name": "stdout",
     "output_type": "stream",
     "text": [
      "finish initing valid kernel matrix...\n",
      "start initing kernel matrix...\n"
     ]
    },
    {
     "name": "stderr",
     "output_type": "stream",
     "text": [
      "100%|█████████████████████████████████████████████████████████████████████████████| 2000/2000 [00:08<00:00, 233.08it/s]\n",
      "  2%|█▉                                                                             | 49/2000 [00:00<00:04, 481.69it/s]"
     ]
    },
    {
     "name": "stdout",
     "output_type": "stream",
     "text": [
      "finish initing kernel matrix...\n",
      "start initing E...\n"
     ]
    },
    {
     "name": "stderr",
     "output_type": "stream",
     "text": [
      "100%|█████████████████████████████████████████████████████████████████████████████| 2000/2000 [00:04<00:00, 446.43it/s]\n",
      "  0%|                                                                                            | 0/5 [00:00<?, ?it/s]"
     ]
    },
    {
     "name": "stdout",
     "output_type": "stream",
     "text": [
      "finish initing E...\n",
      "valid f1: 0.7463578632797908 precision: 0.5957066189624329 recall: 0.999\n",
      "           get new model\n",
      "valid f1: 0.671591672263264 precision: 0.5055611729019212 recall: 1.0\n"
     ]
    },
    {
     "name": "stderr",
     "output_type": "stream",
     "text": [
      "  0%|                                                                                            | 0/5 [00:13<?, ?it/s]\n",
      "  1%|▋                                                                              | 16/2000 [00:00<00:12, 155.70it/s]"
     ]
    },
    {
     "name": "stdout",
     "output_type": "stream",
     "text": [
      "valid f1: 0.9651162790697674 precision: 0.9360902255639098 recall: 0.996\n",
      "           get new model\n",
      "start initing valid kernel matrix...\n"
     ]
    },
    {
     "name": "stderr",
     "output_type": "stream",
     "text": [
      "100%|█████████████████████████████████████████████████████████████████████████████| 2000/2000 [00:13<00:00, 148.92it/s]\n",
      "  1%|▌                                                                              | 14/2000 [00:00<00:14, 133.64it/s]"
     ]
    },
    {
     "name": "stdout",
     "output_type": "stream",
     "text": [
      "finish initing valid kernel matrix...\n",
      "start initing kernel matrix...\n"
     ]
    },
    {
     "name": "stderr",
     "output_type": "stream",
     "text": [
      "100%|█████████████████████████████████████████████████████████████████████████████| 2000/2000 [00:08<00:00, 229.53it/s]\n",
      "  2%|█▌                                                                             | 41/2000 [00:00<00:04, 403.04it/s]"
     ]
    },
    {
     "name": "stdout",
     "output_type": "stream",
     "text": [
      "finish initing kernel matrix...\n",
      "start initing E...\n"
     ]
    },
    {
     "name": "stderr",
     "output_type": "stream",
     "text": [
      "100%|█████████████████████████████████████████████████████████████████████████████| 2000/2000 [00:04<00:00, 432.00it/s]\n",
      "  0%|                                                                                            | 0/5 [00:00<?, ?it/s]"
     ]
    },
    {
     "name": "stdout",
     "output_type": "stream",
     "text": [
      "finish initing E...\n",
      "valid f1: 0.6809669731018047 precision: 0.5162622612287042 recall: 1.0\n",
      "           get new model\n",
      "valid f1: 0.6800408024481468 precision: 0.5151983513652756 recall: 1.0\n"
     ]
    },
    {
     "name": "stderr",
     "output_type": "stream",
     "text": [
      "  0%|                                                                                            | 0/5 [00:14<?, ?it/s]\n",
      "  1%|▋                                                                              | 16/2000 [00:00<00:13, 149.93it/s]"
     ]
    },
    {
     "name": "stdout",
     "output_type": "stream",
     "text": [
      "valid f1: 0.9601593625498007 precision: 0.9563492063492064 recall: 0.964\n",
      "           get new model\n",
      "start initing valid kernel matrix...\n"
     ]
    },
    {
     "name": "stderr",
     "output_type": "stream",
     "text": [
      "100%|█████████████████████████████████████████████████████████████████████████████| 2000/2000 [00:12<00:00, 155.73it/s]\n",
      "  1%|▌                                                                              | 15/2000 [00:00<00:13, 146.02it/s]"
     ]
    },
    {
     "name": "stdout",
     "output_type": "stream",
     "text": [
      "finish initing valid kernel matrix...\n",
      "start initing kernel matrix...\n"
     ]
    },
    {
     "name": "stderr",
     "output_type": "stream",
     "text": [
      "100%|█████████████████████████████████████████████████████████████████████████████| 2000/2000 [00:07<00:00, 257.27it/s]\n",
      "  2%|█▋                                                                             | 44/2000 [00:00<00:04, 432.54it/s]"
     ]
    },
    {
     "name": "stdout",
     "output_type": "stream",
     "text": [
      "finish initing kernel matrix...\n",
      "start initing E...\n"
     ]
    },
    {
     "name": "stderr",
     "output_type": "stream",
     "text": [
      "100%|█████████████████████████████████████████████████████████████████████████████| 2000/2000 [00:04<00:00, 462.03it/s]\n",
      "  0%|                                                                                            | 0/5 [00:00<?, ?it/s]"
     ]
    },
    {
     "name": "stdout",
     "output_type": "stream",
     "text": [
      "finish initing E...\n",
      "valid f1: 0.6666666666666666 precision: 0.5 recall: 1.0\n",
      "           get new model\n"
     ]
    },
    {
     "name": "stderr",
     "output_type": "stream",
     "text": [
      "  0%|                                                                                            | 0/5 [00:08<?, ?it/s]\n",
      "  1%|▋                                                                              | 16/2000 [00:00<00:12, 154.26it/s]"
     ]
    },
    {
     "name": "stdout",
     "output_type": "stream",
     "text": [
      "valid f1: 0.9589570255915016 precision: 0.927170868347339 recall: 0.993\n",
      "           get new model\n",
      "start initing valid kernel matrix...\n"
     ]
    },
    {
     "name": "stderr",
     "output_type": "stream",
     "text": [
      "100%|█████████████████████████████████████████████████████████████████████████████| 2000/2000 [00:12<00:00, 157.08it/s]\n",
      "  1%|▌                                                                              | 15/2000 [00:00<00:13, 145.98it/s]"
     ]
    },
    {
     "name": "stdout",
     "output_type": "stream",
     "text": [
      "finish initing valid kernel matrix...\n",
      "start initing kernel matrix...\n"
     ]
    },
    {
     "name": "stderr",
     "output_type": "stream",
     "text": [
      "100%|█████████████████████████████████████████████████████████████████████████████| 2000/2000 [00:08<00:00, 230.40it/s]\n",
      "  1%|█                                                                              | 27/2000 [00:00<00:07, 265.42it/s]"
     ]
    },
    {
     "name": "stdout",
     "output_type": "stream",
     "text": [
      "finish initing kernel matrix...\n",
      "start initing E...\n"
     ]
    },
    {
     "name": "stderr",
     "output_type": "stream",
     "text": [
      "100%|█████████████████████████████████████████████████████████████████████████████| 2000/2000 [00:05<00:00, 389.67it/s]\n",
      "  0%|                                                                                            | 0/5 [00:00<?, ?it/s]"
     ]
    },
    {
     "name": "stdout",
     "output_type": "stream",
     "text": [
      "finish initing E...\n",
      "valid f1: 0.6768189509306262 precision: 0.5115089514066496 recall: 1.0\n",
      "           get new model\n",
      "valid f1: 0.7722007722007722 precision: 0.6289308176100629 recall: 1.0\n",
      "           get new model\n"
     ]
    },
    {
     "name": "stderr",
     "output_type": "stream",
     "text": [
      "\r",
      "  0%|                                                                                            | 0/5 [00:15<?, ?it/s]"
     ]
    },
    {
     "name": "stdout",
     "output_type": "stream",
     "text": [
      "valid f1: 0.9849094567404427 precision: 0.9908906882591093 recall: 0.979\n",
      "           get new model\n"
     ]
    },
    {
     "name": "stderr",
     "output_type": "stream",
     "text": [
      "\n",
      "  1%|▌                                                                              | 15/2000 [00:00<00:13, 148.92it/s]"
     ]
    },
    {
     "name": "stdout",
     "output_type": "stream",
     "text": [
      "start initing valid kernel matrix...\n"
     ]
    },
    {
     "name": "stderr",
     "output_type": "stream",
     "text": [
      "100%|█████████████████████████████████████████████████████████████████████████████| 2000/2000 [00:13<00:00, 144.10it/s]\n",
      "  2%|█▏                                                                             | 30/2000 [00:00<00:13, 148.91it/s]"
     ]
    },
    {
     "name": "stdout",
     "output_type": "stream",
     "text": [
      "finish initing valid kernel matrix...\n",
      "start initing kernel matrix...\n"
     ]
    },
    {
     "name": "stderr",
     "output_type": "stream",
     "text": [
      "100%|█████████████████████████████████████████████████████████████████████████████| 2000/2000 [00:08<00:00, 222.81it/s]\n",
      "  2%|█▋                                                                             | 43/2000 [00:00<00:04, 422.70it/s]"
     ]
    },
    {
     "name": "stdout",
     "output_type": "stream",
     "text": [
      "finish initing kernel matrix...\n",
      "start initing E...\n"
     ]
    },
    {
     "name": "stderr",
     "output_type": "stream",
     "text": [
      "100%|█████████████████████████████████████████████████████████████████████████████| 2000/2000 [00:04<00:00, 401.97it/s]\n",
      "  0%|                                                                                            | 0/5 [00:00<?, ?it/s]"
     ]
    },
    {
     "name": "stdout",
     "output_type": "stream",
     "text": [
      "finish initing E...\n",
      "valid f1: 0.3736799350121852 precision: 0.9956709956709957 recall: 0.23\n",
      "           get new model\n",
      "valid f1: 0.6816632583503749 precision: 0.5170630816959669 recall: 1.0\n",
      "           get new model\n",
      "valid f1: 0.8275058275058276 precision: 0.9916201117318436 recall: 0.71\n",
      "           get new model\n",
      "valid f1: 0.7347538574577516 precision: 0.5807200929152149 recall: 1.0\n",
      "valid f1: 0.17684594348222427 precision: 1.0 recall: 0.097\n",
      "valid f1: 0.8605442176870749 precision: 0.993455497382199 recall: 0.759\n",
      "           get new model\n",
      "valid f1: 0.9396462018730489 precision: 0.9793926247288504 recall: 0.903\n",
      "           get new model\n",
      "valid f1: 0.9470404984423676 precision: 0.9848812095032398 recall: 0.912\n",
      "           get new model\n",
      "valid f1: 0.8213866039952996 precision: 0.9957264957264957 recall: 0.699\n",
      "valid f1: 0.8061265618702136 precision: 0.675219446320054 recall: 1.0\n",
      "valid f1: 0.9212855146716349 precision: 0.8622493461203139 recall: 0.989\n",
      "valid f1: 0.7492182614133833 precision: 1.0 recall: 0.599\n",
      "valid f1: 0.9333958724202626 precision: 0.8789752650176679 recall: 0.995\n",
      "valid f1: 0.9307116104868914 precision: 0.875 recall: 0.994\n"
     ]
    },
    {
     "name": "stderr",
     "output_type": "stream",
     "text": [
      "  0%|                                                                                            | 0/5 [01:13<?, ?it/s]\n",
      "  1%|▋                                                                              | 16/2000 [00:00<00:12, 158.80it/s]"
     ]
    },
    {
     "name": "stdout",
     "output_type": "stream",
     "text": [
      "valid f1: 0.971201588877855 precision: 0.9644970414201184 recall: 0.978\n",
      "           get new model\n",
      "start initing valid kernel matrix...\n"
     ]
    },
    {
     "name": "stderr",
     "output_type": "stream",
     "text": [
      "100%|█████████████████████████████████████████████████████████████████████████████| 2000/2000 [00:12<00:00, 154.83it/s]\n",
      "  2%|█▎                                                                             | 33/2000 [00:00<00:12, 158.77it/s]"
     ]
    },
    {
     "name": "stdout",
     "output_type": "stream",
     "text": [
      "finish initing valid kernel matrix...\n",
      "start initing kernel matrix...\n"
     ]
    },
    {
     "name": "stderr",
     "output_type": "stream",
     "text": [
      "100%|█████████████████████████████████████████████████████████████████████████████| 2000/2000 [00:08<00:00, 243.28it/s]\n",
      "  2%|█▋                                                                             | 44/2000 [00:00<00:04, 437.05it/s]"
     ]
    },
    {
     "name": "stdout",
     "output_type": "stream",
     "text": [
      "finish initing kernel matrix...\n",
      "start initing E...\n"
     ]
    },
    {
     "name": "stderr",
     "output_type": "stream",
     "text": [
      "100%|█████████████████████████████████████████████████████████████████████████████| 2000/2000 [00:04<00:00, 418.30it/s]\n",
      "  0%|                                                                                            | 0/5 [00:00<?, ?it/s]"
     ]
    },
    {
     "name": "stdout",
     "output_type": "stream",
     "text": [
      "finish initing E...\n",
      "valid f1: 0.6282578875171468 precision: 1.0 recall: 0.458\n",
      "           get new model\n",
      "valid f1: 0.7296954314720812 precision: 0.9982638888888888 recall: 0.575\n",
      "           get new model\n",
      "valid f1: 0.8346915017462165 precision: 0.9986072423398329 recall: 0.717\n",
      "           get new model\n",
      "valid f1: 0.1751824817518248 precision: 1.0 recall: 0.096\n",
      "valid f1: 0.940009447331129 precision: 0.8907788719785139 recall: 0.995\n",
      "           get new model\n",
      "valid f1: 0.9123287671232877 precision: 0.8394957983193277 recall: 0.999\n",
      "valid f1: 0.7507507507507508 precision: 0.6009615384615384 recall: 1.0\n",
      "valid f1: 0.7672413793103448 precision: 0.9983974358974359 recall: 0.623\n",
      "valid f1: 0.43014128728414447 precision: 1.0 recall: 0.274\n",
      "valid f1: 0.9301025163094128 precision: 0.8708551483420593 recall: 0.998\n",
      "valid f1: 0.86820356676816 precision: 0.7682832948421863 recall: 0.998\n",
      "valid f1: 0.8137603795966786 precision: 1.0 recall: 0.686\n",
      "valid f1: 0.17351598173515984 precision: 1.0 recall: 0.095\n",
      "valid f1: 0.8971710821733274 precision: 0.8141809290953546 recall: 0.999\n",
      "valid f1: 0.7814972611077298 precision: 0.9984447900466563 recall: 0.642\n",
      "valid f1: 0.7261146496815287 precision: 1.0 recall: 0.57\n"
     ]
    },
    {
     "name": "stderr",
     "output_type": "stream",
     "text": [
      "  0%|                                                                                            | 0/5 [01:55<?, ?it/s]\n",
      "  0%|                                                                                         | 0/2000 [00:00<?, ?it/s]"
     ]
    },
    {
     "name": "stdout",
     "output_type": "stream",
     "text": [
      "valid f1: 0.975485188968335 precision: 0.9968684759916493 recall: 0.955\n",
      "           get new model\n",
      "start initing valid kernel matrix...\n"
     ]
    },
    {
     "name": "stderr",
     "output_type": "stream",
     "text": [
      "100%|██████████████████████████████████████████████████████████████████████████████| 2000/2000 [00:33<00:00, 60.27it/s]\n",
      "  0%|▎                                                                                | 9/2000 [00:00<00:24, 79.85it/s]"
     ]
    },
    {
     "name": "stdout",
     "output_type": "stream",
     "text": [
      "finish initing valid kernel matrix...\n",
      "start initing kernel matrix...\n"
     ]
    },
    {
     "name": "stderr",
     "output_type": "stream",
     "text": [
      "100%|█████████████████████████████████████████████████████████████████████████████| 2000/2000 [00:13<00:00, 150.33it/s]\n",
      "  1%|█                                                                              | 28/2000 [00:00<00:07, 277.96it/s]"
     ]
    },
    {
     "name": "stdout",
     "output_type": "stream",
     "text": [
      "finish initing kernel matrix...\n",
      "start initing E...\n"
     ]
    },
    {
     "name": "stderr",
     "output_type": "stream",
     "text": [
      "100%|█████████████████████████████████████████████████████████████████████████████| 2000/2000 [00:06<00:00, 291.51it/s]\n",
      "  0%|                                                                                            | 0/5 [00:00<?, ?it/s]"
     ]
    },
    {
     "name": "stdout",
     "output_type": "stream",
     "text": [
      "finish initing E...\n",
      "valid f1: 0.23943661971830985 precision: 1.0 recall: 0.136\n",
      "           get new model\n",
      "valid f1: 0.10964083175803403 precision: 1.0 recall: 0.058\n",
      "valid f1: 0.3857949959644875 precision: 1.0 recall: 0.239\n",
      "           get new model\n",
      "valid f1: 0.11853245531514582 precision: 1.0 recall: 0.063\n",
      "valid f1: 0.5412107950401167 precision: 1.0 recall: 0.371\n",
      "           get new model\n",
      "valid f1: 0.7760962359332558 precision: 0.6341154090044389 recall: 1.0\n",
      "           get new model\n"
     ]
    },
    {
     "name": "stderr",
     "output_type": "stream",
     "text": [
      "c:\\users\\dyxdy\\appdata\\local\\programs\\python\\python37\\lib\\site-packages\\sklearn\\metrics\\_classification.py:1221: UndefinedMetricWarning: Precision is ill-defined and being set to 0.0 due to no predicted samples. Use `zero_division` parameter to control this behavior.\n",
      "  _warn_prf(average, modifier, msg_start, len(result))\n"
     ]
    },
    {
     "name": "stdout",
     "output_type": "stream",
     "text": [
      "valid f1: 0.0 precision: 0.0 recall: 0.0\n",
      "valid f1: 0.6983240223463687 precision: 0.5364806866952789 recall: 1.0\n",
      "valid f1: 0.7140307033202428 precision: 0.555247084952804 recall: 1.0\n",
      "valid f1: 0.0019980019980019984 precision: 1.0 recall: 0.001\n",
      "valid f1: 0.7112375533428165 precision: 0.5518763796909493 recall: 1.0\n"
     ]
    },
    {
     "name": "stderr",
     "output_type": "stream",
     "text": [
      "  0%|                                                                                            | 0/5 [01:11<?, ?it/s]\n",
      "  1%|▋                                                                              | 16/2000 [00:00<00:13, 152.05it/s]"
     ]
    },
    {
     "name": "stdout",
     "output_type": "stream",
     "text": [
      "valid f1: 0.9633401221995926 precision: 0.9813278008298755 recall: 0.946\n",
      "           get new model\n",
      "start initing valid kernel matrix...\n"
     ]
    },
    {
     "name": "stderr",
     "output_type": "stream",
     "text": [
      "100%|█████████████████████████████████████████████████████████████████████████████| 2000/2000 [00:14<00:00, 137.31it/s]\n",
      "  1%|▌                                                                              | 15/2000 [00:00<00:13, 147.45it/s]"
     ]
    },
    {
     "name": "stdout",
     "output_type": "stream",
     "text": [
      "finish initing valid kernel matrix...\n",
      "start initing kernel matrix...\n"
     ]
    },
    {
     "name": "stderr",
     "output_type": "stream",
     "text": [
      "100%|█████████████████████████████████████████████████████████████████████████████| 2000/2000 [00:08<00:00, 229.05it/s]\n",
      "  4%|██▉                                                                            | 74/2000 [00:00<00:05, 359.54it/s]"
     ]
    },
    {
     "name": "stdout",
     "output_type": "stream",
     "text": [
      "finish initing kernel matrix...\n",
      "start initing E...\n"
     ]
    },
    {
     "name": "stderr",
     "output_type": "stream",
     "text": [
      "100%|█████████████████████████████████████████████████████████████████████████████| 2000/2000 [00:05<00:00, 397.54it/s]\n",
      "  0%|                                                                                            | 0/5 [00:00<?, ?it/s]"
     ]
    },
    {
     "name": "stdout",
     "output_type": "stream",
     "text": [
      "finish initing E...\n",
      "valid f1: 0.8218839983545865 precision: 0.6981132075471698 recall: 0.999\n",
      "           get new model\n",
      "valid f1: 0.8911000552791598 precision: 0.9962917181705809 recall: 0.806\n",
      "           get new model\n",
      "valid f1: 0.7544322897019993 precision: 0.6056935190793459 recall: 1.0\n",
      "valid f1: 0.20305480682839175 precision: 1.0 recall: 0.113\n",
      "valid f1: 0.6927083333333334 precision: 0.9925373134328358 recall: 0.532\n",
      "valid f1: 0.8453085376162299 precision: 0.7320644216691069 recall: 1.0\n",
      "valid f1: 0.9463182897862233 precision: 0.9013574660633484 recall: 0.996\n",
      "           get new model\n",
      "valid f1: 0.7961783439490446 precision: 0.6613756613756614 recall: 1.0\n",
      "valid f1: 0.13258636788048553 precision: 1.0 recall: 0.071\n",
      "valid f1: 0.8967684021543986 precision: 0.8135179153094463 recall: 0.999\n"
     ]
    },
    {
     "name": "stderr",
     "output_type": "stream",
     "text": [
      "  0%|                                                                                            | 0/5 [00:54<?, ?it/s]\n",
      "  1%|▋                                                                              | 16/2000 [00:00<00:12, 154.99it/s]"
     ]
    },
    {
     "name": "stdout",
     "output_type": "stream",
     "text": [
      "valid f1: 0.9595765158806545 precision: 0.924860853432282 recall: 0.997\n",
      "           get new model\n",
      "start initing valid kernel matrix...\n"
     ]
    },
    {
     "name": "stderr",
     "output_type": "stream",
     "text": [
      "100%|█████████████████████████████████████████████████████████████████████████████| 2000/2000 [00:12<00:00, 155.32it/s]\n",
      "  1%|▋                                                                              | 16/2000 [00:00<00:12, 159.62it/s]"
     ]
    },
    {
     "name": "stdout",
     "output_type": "stream",
     "text": [
      "finish initing valid kernel matrix...\n",
      "start initing kernel matrix...\n"
     ]
    },
    {
     "name": "stderr",
     "output_type": "stream",
     "text": [
      "100%|█████████████████████████████████████████████████████████████████████████████| 2000/2000 [00:07<00:00, 257.60it/s]\n",
      "  2%|█▋                                                                             | 44/2000 [00:00<00:04, 432.53it/s]"
     ]
    },
    {
     "name": "stdout",
     "output_type": "stream",
     "text": [
      "finish initing kernel matrix...\n",
      "start initing E...\n"
     ]
    },
    {
     "name": "stderr",
     "output_type": "stream",
     "text": [
      "100%|█████████████████████████████████████████████████████████████████████████████| 2000/2000 [00:04<00:00, 456.03it/s]\n",
      "  0%|                                                                                            | 0/5 [00:00<?, ?it/s]"
     ]
    },
    {
     "name": "stdout",
     "output_type": "stream",
     "text": [
      "finish initing E...\n",
      "valid f1: 0.22674933569530556 precision: 0.9922480620155039 recall: 0.128\n",
      "           get new model\n",
      "valid f1: 0.5841584158415841 precision: 0.9975845410628019 recall: 0.413\n",
      "           get new model\n",
      "valid f1: 0.936007640878701 precision: 0.8957952468007313 recall: 0.98\n",
      "           get new model\n",
      "valid f1: 0.9223352972683448 precision: 0.9930795847750865 recall: 0.861\n",
      "valid f1: 0.8477886272257323 precision: 0.9959514170040485 recall: 0.738\n"
     ]
    },
    {
     "name": "stderr",
     "output_type": "stream",
     "text": [
      "  0%|                                                                                            | 0/5 [00:27<?, ?it/s]\n",
      "  1%|▋                                                                              | 16/2000 [00:00<00:13, 151.35it/s]"
     ]
    },
    {
     "name": "stdout",
     "output_type": "stream",
     "text": [
      "valid f1: 0.9623905203503349 precision: 0.9925611052072264 recall: 0.934\n",
      "           get new model\n",
      "start initing valid kernel matrix...\n"
     ]
    },
    {
     "name": "stderr",
     "output_type": "stream",
     "text": [
      "100%|█████████████████████████████████████████████████████████████████████████████| 2000/2000 [00:12<00:00, 157.43it/s]\n",
      "  1%|▌                                                                              | 15/2000 [00:00<00:13, 141.89it/s]"
     ]
    },
    {
     "name": "stdout",
     "output_type": "stream",
     "text": [
      "finish initing valid kernel matrix...\n",
      "start initing kernel matrix...\n"
     ]
    },
    {
     "name": "stderr",
     "output_type": "stream",
     "text": [
      "100%|█████████████████████████████████████████████████████████████████████████████| 2000/2000 [00:07<00:00, 255.51it/s]\n",
      "  2%|█▊                                                                             | 45/2000 [00:00<00:04, 442.37it/s]"
     ]
    },
    {
     "name": "stdout",
     "output_type": "stream",
     "text": [
      "finish initing kernel matrix...\n",
      "start initing E...\n"
     ]
    },
    {
     "name": "stderr",
     "output_type": "stream",
     "text": [
      "100%|█████████████████████████████████████████████████████████████████████████████| 2000/2000 [00:04<00:00, 452.59it/s]\n",
      "  0%|                                                                                            | 0/5 [00:00<?, ?it/s]"
     ]
    },
    {
     "name": "stdout",
     "output_type": "stream",
     "text": [
      "finish initing E...\n",
      "valid f1: 0.6846970215679561 precision: 0.5205622071837585 recall: 1.0\n",
      "           get new model\n",
      "valid f1: 0.8787210584343992 precision: 0.9791154791154791 recall: 0.797\n",
      "           get new model\n",
      "valid f1: 0.8925468678555099 precision: 0.8222409435551812 recall: 0.976\n",
      "           get new model\n",
      "valid f1: 0.2378854625550661 precision: 1.0 recall: 0.135\n",
      "valid f1: 0.21905609973285842 precision: 1.0 recall: 0.123\n",
      "valid f1: 0.7253546744270646 precision: 0.5700400228702116 recall: 0.997\n",
      "valid f1: 0.911062906724512 precision: 0.995260663507109 recall: 0.84\n",
      "           get new model\n",
      "valid f1: 0.8579577866514546 precision: 0.99867197875166 recall: 0.752\n",
      "valid f1: 0.8790593505039195 precision: 0.9987277353689568 recall: 0.785\n",
      "valid f1: 0.9421661409043112 precision: 0.9933481152993349 recall: 0.896\n",
      "           get new model\n",
      "valid f1: 0.7733436652460287 precision: 0.6312460468058191 recall: 0.998\n",
      "valid f1: 0.940952380952381 precision: 0.8981818181818182 recall: 0.988\n",
      "valid f1: 0.7834549878345498 precision: 1.0 recall: 0.644\n"
     ]
    },
    {
     "name": "stderr",
     "output_type": "stream",
     "text": [
      "  0%|                                                                                            | 0/5 [01:03<?, ?it/s]\n",
      "  1%|▌                                                                              | 15/2000 [00:00<00:13, 148.69it/s]"
     ]
    },
    {
     "name": "stdout",
     "output_type": "stream",
     "text": [
      "valid f1: 0.9509946627850557 precision: 0.9236569274269557 recall: 0.98\n",
      "           get new model\n",
      "start initing valid kernel matrix...\n"
     ]
    },
    {
     "name": "stderr",
     "output_type": "stream",
     "text": [
      "100%|█████████████████████████████████████████████████████████████████████████████| 2000/2000 [00:12<00:00, 157.71it/s]\n",
      "  1%|▌                                                                              | 15/2000 [00:00<00:13, 146.02it/s]"
     ]
    },
    {
     "name": "stdout",
     "output_type": "stream",
     "text": [
      "finish initing valid kernel matrix...\n",
      "start initing kernel matrix...\n"
     ]
    },
    {
     "name": "stderr",
     "output_type": "stream",
     "text": [
      "100%|█████████████████████████████████████████████████████████████████████████████| 2000/2000 [00:07<00:00, 256.83it/s]\n",
      "  2%|█▌                                                                             | 41/2000 [00:00<00:04, 402.91it/s]"
     ]
    },
    {
     "name": "stdout",
     "output_type": "stream",
     "text": [
      "finish initing kernel matrix...\n",
      "start initing E...\n"
     ]
    },
    {
     "name": "stderr",
     "output_type": "stream",
     "text": [
      "100%|█████████████████████████████████████████████████████████████████████████████| 2000/2000 [00:04<00:00, 448.46it/s]\n",
      "  0%|                                                                                            | 0/5 [00:00<?, ?it/s]"
     ]
    },
    {
     "name": "stdout",
     "output_type": "stream",
     "text": [
      "finish initing E...\n",
      "valid f1: 0.03536345776031434 precision: 1.0 recall: 0.018\n",
      "           get new model\n",
      "valid f1: 0.14298978644382546 precision: 1.0 recall: 0.077\n",
      "           get new model\n",
      "valid f1: 0.799514955537591 precision: 0.6709633649932157 recall: 0.989\n",
      "           get new model\n",
      "valid f1: 0.5401459854014599 precision: 1.0 recall: 0.37\n"
     ]
    },
    {
     "name": "stderr",
     "output_type": "stream",
     "text": [
      "  0%|                                                                                            | 0/5 [00:22<?, ?it/s]\n",
      "  1%|▌                                                                              | 15/2000 [00:00<00:13, 143.24it/s]"
     ]
    },
    {
     "name": "stdout",
     "output_type": "stream",
     "text": [
      "valid f1: 0.968335035750766 precision: 0.9895615866388309 recall: 0.948\n",
      "           get new model\n",
      "start initing valid kernel matrix...\n"
     ]
    },
    {
     "name": "stderr",
     "output_type": "stream",
     "text": [
      "100%|█████████████████████████████████████████████████████████████████████████████| 2000/2000 [00:12<00:00, 158.07it/s]\n",
      "  1%|▌                                                                              | 14/2000 [00:00<00:14, 134.98it/s]"
     ]
    },
    {
     "name": "stdout",
     "output_type": "stream",
     "text": [
      "finish initing valid kernel matrix...\n",
      "start initing kernel matrix...\n"
     ]
    },
    {
     "name": "stderr",
     "output_type": "stream",
     "text": [
      "100%|█████████████████████████████████████████████████████████████████████████████| 2000/2000 [00:07<00:00, 258.56it/s]\n",
      "  2%|█▋                                                                             | 42/2000 [00:00<00:04, 412.85it/s]"
     ]
    },
    {
     "name": "stdout",
     "output_type": "stream",
     "text": [
      "finish initing kernel matrix...\n",
      "start initing E...\n"
     ]
    },
    {
     "name": "stderr",
     "output_type": "stream",
     "text": [
      "100%|█████████████████████████████████████████████████████████████████████████████| 2000/2000 [00:04<00:00, 454.64it/s]\n",
      "  0%|                                                                                            | 0/5 [00:00<?, ?it/s]"
     ]
    },
    {
     "name": "stdout",
     "output_type": "stream",
     "text": [
      "finish initing E...\n",
      "valid f1: 0.00796812749003984 precision: 1.0 recall: 0.004\n",
      "           get new model\n",
      "valid f1: 0.6568166554734721 precision: 1.0 recall: 0.489\n",
      "           get new model\n",
      "valid f1: 0.5673352435530087 precision: 1.0 recall: 0.396\n",
      "valid f1: 0.7722529158993248 precision: 1.0 recall: 0.629\n",
      "           get new model\n"
     ]
    },
    {
     "name": "stderr",
     "output_type": "stream",
     "text": [
      "  0%|                                                                                            | 0/5 [00:23<?, ?it/s]\n",
      "  1%|▌                                                                              | 14/2000 [00:00<00:14, 139.66it/s]"
     ]
    },
    {
     "name": "stdout",
     "output_type": "stream",
     "text": [
      "valid f1: 0.9754098360655737 precision: 1.0 recall: 0.952\n",
      "           get new model\n",
      "start initing valid kernel matrix...\n"
     ]
    },
    {
     "name": "stderr",
     "output_type": "stream",
     "text": [
      "100%|█████████████████████████████████████████████████████████████████████████████| 2000/2000 [00:14<00:00, 141.70it/s]\n",
      "  1%|▌                                                                              | 13/2000 [00:00<00:16, 124.15it/s]"
     ]
    },
    {
     "name": "stdout",
     "output_type": "stream",
     "text": [
      "finish initing valid kernel matrix...\n",
      "start initing kernel matrix...\n"
     ]
    },
    {
     "name": "stderr",
     "output_type": "stream",
     "text": [
      "100%|█████████████████████████████████████████████████████████████████████████████| 2000/2000 [00:08<00:00, 248.30it/s]\n",
      "  5%|███▋                                                                           | 93/2000 [00:00<00:04, 460.58it/s]"
     ]
    },
    {
     "name": "stdout",
     "output_type": "stream",
     "text": [
      "finish initing kernel matrix...\n",
      "start initing E...\n"
     ]
    },
    {
     "name": "stderr",
     "output_type": "stream",
     "text": [
      "100%|█████████████████████████████████████████████████████████████████████████████| 2000/2000 [00:04<00:00, 405.80it/s]\n",
      "  0%|                                                                                            | 0/5 [00:00<?, ?it/s]"
     ]
    },
    {
     "name": "stdout",
     "output_type": "stream",
     "text": [
      "finish initing E...\n",
      "valid f1: 0.04113614103819785 precision: 1.0 recall: 0.021\n",
      "           get new model\n",
      "valid f1: 0.18511796733212338 precision: 1.0 recall: 0.102\n",
      "           get new model\n",
      "valid f1: 0.8948106591865358 precision: 0.8402107111501317 recall: 0.957\n",
      "           get new model\n",
      "valid f1: 0.8412256267409471 precision: 0.949685534591195 recall: 0.755\n",
      "valid f1: 0.584333098094566 precision: 0.9928057553956835 recall: 0.414\n",
      "valid f1: 0.7184466019417476 precision: 0.5609208309938237 recall: 0.999\n",
      "valid f1: 0.8521444695259593 precision: 0.977979274611399 recall: 0.755\n",
      "valid f1: 0.9033492822966507 precision: 0.8660550458715597 recall: 0.944\n",
      "           get new model\n",
      "valid f1: 0.8437856328392247 precision: 0.9814323607427056 recall: 0.74\n",
      "valid f1: 0.9126703685007572 precision: 0.9215086646279307 recall: 0.904\n",
      "           get new model\n",
      "valid f1: 0.9091778202676863 precision: 0.8708791208791209 recall: 0.951\n",
      "valid f1: 0.7243752263672583 precision: 0.5678591709256104 recall: 1.0\n",
      "valid f1: 0.8898305084745762 precision: 0.9459459459459459 recall: 0.84\n",
      "valid f1: 0.8208709942481512 precision: 0.696652719665272 recall: 0.999\n",
      "valid f1: 0.8547486033519555 precision: 0.9683544303797469 recall: 0.765\n",
      "valid f1: 0.7928783382789318 precision: 0.9751824817518249 recall: 0.668\n",
      "valid f1: 0.8375996642887117 precision: 0.7216196673897325 recall: 0.998\n",
      "valid f1: 0.8814913448735021 precision: 0.7924980047885076 recall: 0.993\n",
      "valid f1: 0.7472256473489518 precision: 0.9742765273311897 recall: 0.606\n",
      "valid f1: 0.7426661715558857 precision: 0.5906674542232723 recall: 1.0\n",
      "valid f1: 0.9060773480662982 precision: 0.8395904436860068 recall: 0.984\n",
      "valid f1: 0.9137254901960785 precision: 0.8961538461538462 recall: 0.932\n",
      "           get new model\n",
      "valid f1: 0.8828748890860693 precision: 0.7934609250398724 recall: 0.995\n",
      "valid f1: 0.9114052953156823 precision: 0.9284232365145229 recall: 0.895\n",
      "valid f1: 0.7222824124232575 precision: 0.5652911249293386 recall: 1.0\n",
      "valid f1: 0.9088994207477621 precision: 0.9599555061179088 recall: 0.863\n",
      "valid f1: 0.9097572148419605 precision: 0.8393913778529163 recall: 0.993\n",
      "valid f1: 0.8549019607843138 precision: 0.9719745222929936 recall: 0.763\n",
      "valid f1: 0.8938005390835579 precision: 0.9695906432748538 recall: 0.829\n",
      "valid f1: 0.8387909319899245 precision: 0.7228654124457308 recall: 0.999\n",
      "valid f1: 0.8647125140924464 precision: 0.9909560723514211 recall: 0.767\n",
      "valid f1: 0.9150395778364117 precision: 0.9687150837988827 recall: 0.867\n",
      "           get new model\n",
      "valid f1: 0.9391217564870259 precision: 0.9372509960159362 recall: 0.941\n",
      "           get new model\n",
      "valid f1: 0.8771539744302389 precision: 0.9874843554443054 recall: 0.789\n",
      "valid f1: 0.9177449168207024 precision: 0.8530927835051546 recall: 0.993\n",
      "valid f1: 0.7630675314765357 precision: 0.6169031462060457 recall: 1.0\n",
      "valid f1: 0.7733659132559559 precision: 0.9937205651491365 recall: 0.633\n",
      "valid f1: 0.7707129094412332 precision: 0.6269592476489029 recall: 1.0\n",
      "valid f1: 0.8948521358159912 precision: 0.9891041162227603 recall: 0.817\n",
      "valid f1: 0.6513823331085636 precision: 1.0 recall: 0.483\n",
      "valid f1: 0.9352997145575643 precision: 0.8920145190562614 recall: 0.983\n",
      "valid f1: 0.9129433440810686 precision: 0.8462852263023057 recall: 0.991\n",
      "valid f1: 0.6684491978609626 precision: 0.5020080321285141 recall: 1.0\n",
      "valid f1: 0.8212083847102344 precision: 0.697138869504536 recall: 0.999\n",
      "valid f1: 0.9315068493150684 precision: 0.9844097995545658 recall: 0.884\n",
      "valid f1: 0.4276729559748428 precision: 1.0 recall: 0.272\n",
      "valid f1: 0.8062015503875969 precision: 0.9985228951255539 recall: 0.676\n",
      "valid f1: 0.8824833702882483 precision: 0.9900497512437811 recall: 0.796\n",
      "valid f1: 0.9451597520267048 precision: 0.9033728350045579 recall: 0.991\n",
      "           get new model\n",
      "valid f1: 0.8823529411764706 precision: 0.9912718204488778 recall: 0.795\n",
      "valid f1: 0.6673340006673341 precision: 0.5007511266900351 recall: 1.0\n",
      "valid f1: 0.667779632721202 precision: 0.5012531328320802 recall: 1.0\n",
      "valid f1: 0.9043478260869566 precision: 0.9904761904761905 recall: 0.832\n",
      "valid f1: 0.005982053838484547 precision: 1.0 recall: 0.003\n",
      "valid f1: 0.6666666666666666 precision: 0.5 recall: 1.0\n",
      "valid f1: 0.8821698532681191 precision: 0.7942353883106485 recall: 0.992\n",
      "valid f1: 0.7169329073482429 precision: 0.9929203539823008 recall: 0.561\n",
      "valid f1: 0.7202039515615041 precision: 0.9929701230228472 recall: 0.565\n",
      "valid f1: 0.7983293556085919 precision: 0.9896449704142012 recall: 0.669\n",
      "valid f1: 0.934959349593496 precision: 0.9504132231404959 recall: 0.92\n",
      "valid f1: 0.3643790849673203 precision: 0.9955357142857143 recall: 0.223\n",
      "valid f1: 0.14814814814814814 precision: 1.0 recall: 0.08\n",
      "valid f1: 0.9004566210045662 precision: 0.8285714285714286 recall: 0.986\n",
      "valid f1: 0.8532188841201718 precision: 0.7473684210526316 recall: 0.994\n",
      "valid f1: 0.9083333333333333 precision: 0.8456896551724138 recall: 0.981\n",
      "valid f1: 0.9328585961342828 precision: 0.9492753623188406 recall: 0.917\n",
      "valid f1: 0.931840311587147 precision: 0.9079696394686907 recall: 0.957\n",
      "valid f1: 0.6695681285570807 precision: 0.5032712632108707 recall: 1.0\n",
      "valid f1: 0.3429991714995857 precision: 1.0 recall: 0.207\n",
      "valid f1: 0.6680026720106881 precision: 0.5015045135406219 recall: 1.0\n",
      "valid f1: 0.6740815638692281 precision: 0.5083884087442806 recall: 1.0\n",
      "valid f1: 0.6844626967830253 precision: 0.5202913631633714 recall: 1.0\n",
      "valid f1: 0.8249896565990897 precision: 0.7035991531404375 recall: 0.997\n",
      "valid f1: 0.9265267175572519 precision: 0.8859489051094891 recall: 0.971\n",
      "valid f1: 0.9372768995410505 precision: 0.9562955254942768 recall: 0.919\n",
      "valid f1: 0.9423459244532805 precision: 0.9367588932806324 recall: 0.948\n",
      "valid f1: 0.4047808764940239 precision: 0.996078431372549 recall: 0.254\n",
      "valid f1: 0.5203252032520325 precision: 0.9971671388101983 recall: 0.352\n",
      "valid f1: 0.6417910447761194 precision: 0.9978902953586498 recall: 0.473\n",
      "valid f1: 0.8571428571428572 precision: 0.9895287958115183 recall: 0.756\n",
      "valid f1: 0.8643259644560035 precision: 0.7628156082631982 recall: 0.997\n",
      "valid f1: 0.8715083798882681 precision: 0.9873417721518988 recall: 0.78\n",
      "valid f1: 0.6145328719723183 precision: 0.9977528089887641 recall: 0.444\n",
      "valid f1: 0.8718845649322257 precision: 0.7746697746697747 recall: 0.997\n",
      "valid f1: 0.7364438839848676 precision: 0.9965870307167235 recall: 0.584\n",
      "valid f1: 0.6842285323297982 precision: 0.5200208008320333 recall: 1.0\n",
      "valid f1: 0.9055225924235508 precision: 0.832913518052057 recall: 0.992\n",
      "valid f1: 0.8690275435638 precision: 0.9922978177150192 recall: 0.773\n",
      "valid f1: 0.8973799126637554 precision: 0.9879807692307693 recall: 0.822\n",
      "valid f1: 0.9473684210526315 precision: 0.9686520376175548 recall: 0.927\n",
      "           get new model\n",
      "valid f1: 0.849942726231386 precision: 0.9946380697050938 recall: 0.742\n",
      "valid f1: 0.5433357611070648 precision: 1.0 recall: 0.373\n",
      "valid f1: 0.7385003150598612 precision: 0.9982964224872232 recall: 0.586\n",
      "valid f1: 0.6865774116031582 precision: 0.5227391531625719 recall: 1.0\n",
      "valid f1: 0.7264631043256998 precision: 0.9982517482517482 recall: 0.571\n",
      "valid f1: 0.8629671574178935 precision: 0.9947780678851175 recall: 0.762\n",
      "valid f1: 0.8827126181211785 precision: 0.9937421777221527 recall: 0.794\n",
      "valid f1: 0.7584376185058779 precision: 0.6108735491753207 recall: 1.0\n",
      "valid f1: 0.9495155532891382 precision: 0.9687825182101977 recall: 0.931\n",
      "           get new model\n",
      "valid f1: 0.8348837209302326 precision: 0.9972222222222222 recall: 0.718\n",
      "valid f1: 0.47908745247148293 precision: 1.0 recall: 0.315\n",
      "valid f1: 0.27734711455641686 precision: 1.0 recall: 0.161\n",
      "valid f1: 0.9088422971741112 precision: 0.8350083752093802 recall: 0.997\n",
      "valid f1: 0.9333958724202626 precision: 0.8789752650176679 recall: 0.995\n",
      "valid f1: 0.9117330462863293 precision: 0.9871794871794872 recall: 0.847\n",
      "valid f1: 0.9382459782044629 precision: 0.9751887810140237 recall: 0.904\n"
     ]
    },
    {
     "name": "stderr",
     "output_type": "stream",
     "text": [
      "  0%|                                                                                            | 0/5 [08:14<?, ?it/s]\n",
      "  1%|▌                                                                              | 15/2000 [00:00<00:13, 144.16it/s]"
     ]
    },
    {
     "name": "stdout",
     "output_type": "stream",
     "text": [
      "valid f1: 0.9552088575742325 precision: 0.961499493414387 recall: 0.949\n",
      "           get new model\n",
      "start initing valid kernel matrix...\n"
     ]
    },
    {
     "name": "stderr",
     "output_type": "stream",
     "text": [
      "100%|█████████████████████████████████████████████████████████████████████████████| 2000/2000 [00:12<00:00, 158.84it/s]\n",
      "  2%|█▎                                                                             | 32/2000 [00:00<00:12, 157.88it/s]"
     ]
    },
    {
     "name": "stdout",
     "output_type": "stream",
     "text": [
      "finish initing valid kernel matrix...\n",
      "start initing kernel matrix...\n"
     ]
    },
    {
     "name": "stderr",
     "output_type": "stream",
     "text": [
      "100%|█████████████████████████████████████████████████████████████████████████████| 2000/2000 [00:07<00:00, 257.44it/s]\n",
      "  2%|█▋                                                                             | 44/2000 [00:00<00:04, 422.15it/s]"
     ]
    },
    {
     "name": "stdout",
     "output_type": "stream",
     "text": [
      "finish initing kernel matrix...\n",
      "start initing E...\n"
     ]
    },
    {
     "name": "stderr",
     "output_type": "stream",
     "text": [
      "100%|█████████████████████████████████████████████████████████████████████████████| 2000/2000 [00:04<00:00, 446.81it/s]\n",
      "  0%|                                                                                            | 0/5 [00:00<?, ?it/s]"
     ]
    },
    {
     "name": "stdout",
     "output_type": "stream",
     "text": [
      "finish initing E...\n",
      "valid f1: 0.4484096198603569 precision: 1.0 recall: 0.289\n",
      "           get new model\n",
      "valid f1: 0.6859395532194481 precision: 1.0 recall: 0.522\n",
      "           get new model\n"
     ]
    },
    {
     "name": "stderr",
     "output_type": "stream",
     "text": [
      "  0%|                                                                                            | 0/5 [00:13<?, ?it/s]\n",
      "  1%|▌                                                                              | 15/2000 [00:00<00:13, 147.45it/s]"
     ]
    },
    {
     "name": "stdout",
     "output_type": "stream",
     "text": [
      "valid f1: 0.9675544794188862 precision: 0.9380281690140845 recall: 0.999\n",
      "           get new model\n",
      "start initing valid kernel matrix...\n"
     ]
    },
    {
     "name": "stderr",
     "output_type": "stream",
     "text": [
      "100%|█████████████████████████████████████████████████████████████████████████████| 2000/2000 [00:12<00:00, 159.38it/s]\n",
      "  1%|▋                                                                              | 16/2000 [00:00<00:13, 151.50it/s]"
     ]
    },
    {
     "name": "stdout",
     "output_type": "stream",
     "text": [
      "finish initing valid kernel matrix...\n",
      "start initing kernel matrix...\n"
     ]
    },
    {
     "name": "stderr",
     "output_type": "stream",
     "text": [
      "100%|█████████████████████████████████████████████████████████████████████████████| 2000/2000 [00:07<00:00, 258.18it/s]\n",
      "  2%|█▊                                                                             | 47/2000 [00:00<00:04, 466.56it/s]"
     ]
    },
    {
     "name": "stdout",
     "output_type": "stream",
     "text": [
      "finish initing kernel matrix...\n",
      "start initing E...\n"
     ]
    },
    {
     "name": "stderr",
     "output_type": "stream",
     "text": [
      "100%|█████████████████████████████████████████████████████████████████████████████| 2000/2000 [00:04<00:00, 461.95it/s]\n",
      "  0%|                                                                                            | 0/5 [00:00<?, ?it/s]"
     ]
    },
    {
     "name": "stdout",
     "output_type": "stream",
     "text": [
      "finish initing E...\n",
      "valid f1: 0.5359565807327001 precision: 0.8333333333333334 recall: 0.395\n",
      "           get new model\n",
      "valid f1: 0.05636540330417882 precision: 1.0 recall: 0.029\n",
      "valid f1: 0.06576402321083172 precision: 1.0 recall: 0.034\n",
      "valid f1: 0.7751937984496124 precision: 0.6329113924050633 recall: 1.0\n",
      "           get new model\n",
      "valid f1: 0.16849816849816848 precision: 1.0 recall: 0.092\n",
      "valid f1: 0.6666666666666666 precision: 0.5 recall: 1.0\n",
      "valid f1: 0.700525394045534 precision: 0.5390835579514824 recall: 1.0\n",
      "valid f1: 0.20948970456580127 precision: 1.0 recall: 0.117\n"
     ]
    },
    {
     "name": "stderr",
     "output_type": "stream",
     "text": [
      "  0%|                                                                                            | 0/5 [00:42<?, ?it/s]\n",
      "  1%|▋                                                                              | 16/2000 [00:00<00:12, 154.99it/s]"
     ]
    },
    {
     "name": "stdout",
     "output_type": "stream",
     "text": [
      "valid f1: 0.9782823297137216 precision: 0.9658869395711501 recall: 0.991\n",
      "           get new model\n",
      "start initing valid kernel matrix...\n"
     ]
    },
    {
     "name": "stderr",
     "output_type": "stream",
     "text": [
      "100%|█████████████████████████████████████████████████████████████████████████████| 2000/2000 [00:12<00:00, 157.46it/s]\n",
      "  1%|▋                                                                              | 16/2000 [00:00<00:12, 157.24it/s]"
     ]
    },
    {
     "name": "stdout",
     "output_type": "stream",
     "text": [
      "finish initing valid kernel matrix...\n",
      "start initing kernel matrix...\n"
     ]
    },
    {
     "name": "stderr",
     "output_type": "stream",
     "text": [
      "100%|█████████████████████████████████████████████████████████████████████████████| 2000/2000 [00:07<00:00, 261.06it/s]\n",
      "  4%|███▌                                                                           | 90/2000 [00:00<00:04, 443.30it/s]"
     ]
    },
    {
     "name": "stdout",
     "output_type": "stream",
     "text": [
      "finish initing kernel matrix...\n",
      "start initing E...\n"
     ]
    },
    {
     "name": "stderr",
     "output_type": "stream",
     "text": [
      "100%|█████████████████████████████████████████████████████████████████████████████| 2000/2000 [00:04<00:00, 458.34it/s]\n",
      "  0%|                                                                                            | 0/5 [00:00<?, ?it/s]"
     ]
    },
    {
     "name": "stdout",
     "output_type": "stream",
     "text": [
      "finish initing E...\n",
      "valid f1: 0.667779632721202 precision: 0.5012531328320802 recall: 1.0\n",
      "           get new model\n",
      "valid f1: 0.6767610269914418 precision: 0.9903660886319846 recall: 0.514\n",
      "           get new model\n",
      "valid f1: 0.8752244165170557 precision: 0.7939739413680782 recall: 0.975\n",
      "           get new model\n",
      "valid f1: 0.7604881769641495 precision: 0.6146732429099877 recall: 0.997\n",
      "valid f1: 0.715925394548063 precision: 0.558165548098434 recall: 0.998\n",
      "valid f1: 0.7288693743139407 precision: 0.5747259088286208 recall: 0.996\n",
      "valid f1: 0.49473684210526314 precision: 0.996969696969697 recall: 0.329\n",
      "valid f1: 0.826086956521739 precision: 0.9652406417112299 recall: 0.722\n",
      "valid f1: 0.4533538936006168 precision: 0.98989898989899 recall: 0.294\n",
      "valid f1: 0.8957345971563981 precision: 0.8513513513513513 recall: 0.945\n",
      "           get new model\n",
      "valid f1: 0.8387096774193549 precision: 0.7286135693215339 recall: 0.988\n",
      "valid f1: 0.8912941176470588 precision: 0.8417777777777777 recall: 0.947\n",
      "valid f1: 0.8669032830523513 precision: 0.7791068580542265 recall: 0.977\n",
      "valid f1: 0.7389408099688473 precision: 0.9801652892561984 recall: 0.593\n",
      "valid f1: 0.9014084507042253 precision: 0.8495575221238938 recall: 0.96\n",
      "           get new model\n",
      "valid f1: 0.8822894168466522 precision: 0.9589201877934272 recall: 0.817\n",
      "valid f1: 0.7010974822466106 precision: 0.9890710382513661 recall: 0.543\n",
      "valid f1: 0.9170437405731523 precision: 0.9221435793731041 recall: 0.912\n",
      "           get new model\n",
      "valid f1: 0.904122278832793 precision: 0.8421052631578947 recall: 0.976\n",
      "valid f1: 0.9262135922330097 precision: 0.9 recall: 0.954\n",
      "           get new model\n",
      "valid f1: 0.928754484879549 precision: 0.9526813880126183 recall: 0.906\n",
      "           get new model\n",
      "valid f1: 0.8440677966101694 precision: 0.7323529411764705 recall: 0.996\n",
      "valid f1: 0.7438948027551658 precision: 0.9949748743718593 recall: 0.594\n",
      "valid f1: 0.5632183908045978 precision: 1.0 recall: 0.392\n",
      "valid f1: 0.8323632130384168 precision: 0.9958217270194986 recall: 0.715\n",
      "valid f1: 0.7971303308090874 precision: 0.6626905235255136 recall: 1.0\n",
      "valid f1: 0.9436052366565961 precision: 0.9503042596348884 recall: 0.937\n",
      "           get new model\n",
      "valid f1: 0.7575945443273403 precision: 0.9967373572593801 recall: 0.611\n",
      "valid f1: 0.6798418972332017 precision: 0.9961389961389961 recall: 0.516\n",
      "valid f1: 0.9458917835671342 precision: 0.9477911646586346 recall: 0.944\n",
      "           get new model\n",
      "valid f1: 0.718132854578097 precision: 0.5602240896358543 recall: 1.0\n",
      "valid f1: 0.9220985691573926 precision: 0.9808342728297632 recall: 0.87\n",
      "valid f1: 0.8807542983915696 precision: 0.9887920298879203 recall: 0.794\n",
      "valid f1: 0.8943089430894309 precision: 0.8154859967051071 recall: 0.99\n",
      "valid f1: 0.2517482517482518 precision: 1.0 recall: 0.144\n",
      "valid f1: 0.8092532467532468 precision: 0.6810109289617486 recall: 0.997\n",
      "valid f1: 0.8472990216928966 precision: 0.7372316802368616 recall: 0.996\n",
      "valid f1: 0.6666666666666666 precision: 0.5 recall: 1.0\n",
      "valid f1: 0.1498612395929695 precision: 1.0 recall: 0.081\n",
      "valid f1: 0.834592779177162 precision: 0.7192474674384949 recall: 0.994\n",
      "valid f1: 0.8463702870005628 precision: 0.9678249678249679 recall: 0.752\n",
      "valid f1: 0.6688741721854305 precision: 0.9901960784313726 recall: 0.505\n",
      "valid f1: 0.8032979976442876 precision: 0.9770773638968482 recall: 0.682\n",
      "valid f1: 0.0897803247373448 precision: 1.0 recall: 0.047\n",
      "valid f1: 0.33582709891936824 precision: 0.9950738916256158 recall: 0.202\n",
      "valid f1: 0.6896551724137931 precision: 0.5263157894736842 recall: 1.0\n",
      "valid f1: 0.20769919427036704 precision: 0.9914529914529915 recall: 0.116\n",
      "valid f1: 0.6569920844327177 precision: 0.9651162790697675 recall: 0.498\n",
      "valid f1: 0.627450980392157 precision: 0.9686847599164927 recall: 0.464\n",
      "valid f1: 0.6934812760055479 precision: 0.5307855626326964 recall: 1.0\n",
      "valid f1: 0.8896321070234114 precision: 0.8517840805123513 recall: 0.931\n",
      "valid f1: 0.866594360086768 precision: 0.9466824644549763 recall: 0.799\n",
      "valid f1: 0.8788833858622241 precision: 0.7993447993447993 recall: 0.976\n",
      "valid f1: 0.8890934192360791 precision: 0.8235294117647058 recall: 0.966\n",
      "valid f1: 0.9195955705344245 precision: 0.8867223769730733 recall: 0.955\n",
      "valid f1: 0.371033360455655 precision: 0.9956331877729258 recall: 0.228\n",
      "valid f1: 0.11142587346553352 precision: 1.0 recall: 0.059\n",
      "valid f1: 0.6997900629811057 precision: 0.5382131324004306 recall: 1.0\n",
      "valid f1: 0.501867064973861 precision: 0.9911504424778761 recall: 0.336\n",
      "valid f1: 0.7544322897019993 precision: 0.6056935190793459 recall: 1.0\n",
      "valid f1: 0.6772773450728073 precision: 0.5120327700972862 recall: 1.0\n",
      "valid f1: 0.5716312056737589 precision: 0.9829268292682927 recall: 0.403\n",
      "valid f1: 0.48530519969856817 precision: 0.9847094801223242 recall: 0.322\n",
      "valid f1: 0.9401373895976447 precision: 0.9229287090558767 recall: 0.958\n",
      "valid f1: 0.9342857142857142 precision: 0.8918181818181818 recall: 0.981\n",
      "valid f1: 0.8750551876379692 precision: 0.783399209486166 recall: 0.991\n",
      "valid f1: 0.7293946024799416 precision: 0.574052812858783 recall: 1.0\n",
      "valid f1: 0.759589821496392 precision: 0.612369871402327 recall: 1.0\n",
      "valid f1: 0.7479431563201197 precision: 0.5973715651135006 recall: 1.0\n",
      "valid f1: 0.7524454477050414 precision: 0.6031363088057901 recall: 1.0\n",
      "valid f1: 0.8591124515295131 precision: 0.7547312641937926 recall: 0.997\n",
      "valid f1: 0.9133858267716535 precision: 0.8507333908541846 recall: 0.986\n",
      "valid f1: 0.9219712525667352 precision: 0.9472573839662447 recall: 0.898\n",
      "valid f1: 0.9394240317775572 precision: 0.9329388560157791 recall: 0.946\n",
      "valid f1: 0.7171974522292992 precision: 0.987719298245614 recall: 0.563\n",
      "valid f1: 0.9397710303633647 precision: 0.9355797819623389 recall: 0.944\n",
      "valid f1: 0.9425061425061425 precision: 0.9265700483091788 recall: 0.959\n",
      "valid f1: 0.941233140655106 precision: 0.9079925650557621 recall: 0.977\n",
      "valid f1: 0.9052408681842246 precision: 0.9617547806524185 recall: 0.855\n",
      "valid f1: 0.8243478260869564 precision: 0.9806896551724138 recall: 0.711\n",
      "valid f1: 0.9406130268199233 precision: 0.9025735294117647 recall: 0.982\n",
      "valid f1: 0.7870916961826052 precision: 0.6489292667099286 recall: 1.0\n",
      "valid f1: 0.9131355932203391 precision: 0.9707207207207207 recall: 0.862\n",
      "valid f1: 0.9410628019323671 precision: 0.9102803738317757 recall: 0.974\n",
      "valid f1: 0.8237347294938917 precision: 0.9847009735744089 recall: 0.708\n",
      "valid f1: 0.9171503957783641 precision: 0.9709497206703911 recall: 0.869\n",
      "valid f1: 0.9390302448391743 precision: 0.9030470914127424 recall: 0.978\n",
      "valid f1: 0.9145888594164456 precision: 0.9740112994350283 recall: 0.862\n",
      "valid f1: 0.5948215535339398 precision: 0.9906759906759907 recall: 0.425\n",
      "valid f1: 0.8049792531120332 precision: 0.9883551673944687 recall: 0.679\n",
      "valid f1: 0.8699050809603573 precision: 0.9848293299620733 recall: 0.779\n",
      "valid f1: 0.8535754824063563 precision: 0.9868766404199475 recall: 0.752\n",
      "valid f1: 0.8978260869565217 precision: 0.9833333333333333 recall: 0.826\n",
      "valid f1: 0.767341927562922 precision: 0.9936406995230525 recall: 0.625\n",
      "valid f1: 0.8099467140319716 precision: 0.9927431059506531 recall: 0.684\n",
      "valid f1: 0.926726410121244 precision: 0.979933110367893 recall: 0.879\n",
      "valid f1: 0.9024918743228603 precision: 0.9846335697399528 recall: 0.833\n",
      "valid f1: 0.7846214201647705 precision: 0.6455777921239509 recall: 1.0\n",
      "valid f1: 0.87215411558669 precision: 0.7757009345794392 recall: 0.996\n",
      "valid f1: 0.931377188831046 precision: 0.8840970350404312 recall: 0.984\n",
      "valid f1: 0.7854984894259819 precision: 0.9923664122137404 recall: 0.65\n",
      "valid f1: 0.8969258589511753 precision: 0.8184818481848185 recall: 0.992\n",
      "valid f1: 0.9406698564593301 precision: 0.9018348623853211 recall: 0.983\n"
     ]
    },
    {
     "name": "stderr",
     "output_type": "stream",
     "text": [
      "  0%|                                                                                            | 0/5 [07:58<?, ?it/s]\n",
      "  1%|▌                                                                              | 13/2000 [00:00<00:16, 119.59it/s]"
     ]
    },
    {
     "name": "stdout",
     "output_type": "stream",
     "text": [
      "valid f1: 0.9509172037679722 precision: 0.9429695181907571 recall: 0.959\n",
      "           get new model\n",
      "start initing valid kernel matrix...\n"
     ]
    },
    {
     "name": "stderr",
     "output_type": "stream",
     "text": [
      "100%|█████████████████████████████████████████████████████████████████████████████| 2000/2000 [00:12<00:00, 155.49it/s]\n",
      "  1%|▌                                                                              | 15/2000 [00:00<00:13, 144.62it/s]"
     ]
    },
    {
     "name": "stdout",
     "output_type": "stream",
     "text": [
      "finish initing valid kernel matrix...\n",
      "start initing kernel matrix...\n"
     ]
    },
    {
     "name": "stderr",
     "output_type": "stream",
     "text": [
      "100%|█████████████████████████████████████████████████████████████████████████████| 2000/2000 [00:07<00:00, 260.35it/s]\n",
      "  2%|█▋                                                                             | 44/2000 [00:00<00:04, 434.63it/s]"
     ]
    },
    {
     "name": "stdout",
     "output_type": "stream",
     "text": [
      "finish initing kernel matrix...\n",
      "start initing E...\n"
     ]
    },
    {
     "name": "stderr",
     "output_type": "stream",
     "text": [
      "100%|█████████████████████████████████████████████████████████████████████████████| 2000/2000 [00:04<00:00, 453.18it/s]\n",
      "  0%|                                                                                            | 0/5 [00:00<?, ?it/s]"
     ]
    },
    {
     "name": "stdout",
     "output_type": "stream",
     "text": [
      "finish initing E...\n",
      "valid f1: 0.0 precision: 0.0 recall: 0.0\n",
      "           get new model\n",
      "valid f1: 0.4276729559748428 precision: 1.0 recall: 0.272\n",
      "           get new model\n",
      "valid f1: 0.12206572769953053 precision: 1.0 recall: 0.065\n",
      "valid f1: 0.7529558182949594 precision: 0.9967051070840197 recall: 0.605\n",
      "           get new model\n",
      "valid f1: 0.6120749479528105 precision: 1.0 recall: 0.441\n",
      "valid f1: 0.8210180623973727 precision: 0.6963788300835655 recall: 1.0\n",
      "           get new model\n",
      "valid f1: 0.8368055555555557 precision: 0.9931318681318682 recall: 0.723\n",
      "           get new model\n"
     ]
    },
    {
     "name": "stderr",
     "output_type": "stream",
     "text": [
      "  0%|                                                                                            | 0/5 [00:35<?, ?it/s]\n",
      "  1%|▌                                                                              | 15/2000 [00:00<00:13, 146.73it/s]"
     ]
    },
    {
     "name": "stdout",
     "output_type": "stream",
     "text": [
      "valid f1: 0.9595079446437725 precision: 0.9842271293375394 recall: 0.936\n",
      "           get new model\n",
      "start initing valid kernel matrix...\n"
     ]
    },
    {
     "name": "stderr",
     "output_type": "stream",
     "text": [
      "100%|█████████████████████████████████████████████████████████████████████████████| 2000/2000 [00:12<00:00, 156.62it/s]\n",
      "  2%|█▎                                                                             | 32/2000 [00:00<00:12, 153.96it/s]"
     ]
    },
    {
     "name": "stdout",
     "output_type": "stream",
     "text": [
      "finish initing valid kernel matrix...\n",
      "start initing kernel matrix...\n"
     ]
    },
    {
     "name": "stderr",
     "output_type": "stream",
     "text": [
      "100%|█████████████████████████████████████████████████████████████████████████████| 2000/2000 [00:07<00:00, 252.29it/s]\n",
      "  2%|█▋                                                                             | 44/2000 [00:00<00:04, 436.81it/s]"
     ]
    },
    {
     "name": "stdout",
     "output_type": "stream",
     "text": [
      "finish initing kernel matrix...\n",
      "start initing E...\n"
     ]
    },
    {
     "name": "stderr",
     "output_type": "stream",
     "text": [
      "100%|█████████████████████████████████████████████████████████████████████████████| 2000/2000 [00:04<00:00, 450.27it/s]\n",
      "  0%|                                                                                            | 0/5 [00:00<?, ?it/s]"
     ]
    },
    {
     "name": "stdout",
     "output_type": "stream",
     "text": [
      "finish initing E...\n",
      "valid f1: 0.6816632583503749 precision: 0.5170630816959669 recall: 1.0\n",
      "           get new model\n",
      "valid f1: 0.7262164124909223 precision: 0.5701254275940707 recall: 1.0\n",
      "           get new model\n",
      "valid f1: 0.6927606511950122 precision: 0.5299417064122947 recall: 1.0\n"
     ]
    },
    {
     "name": "stderr",
     "output_type": "stream",
     "text": [
      "  0%|                                                                                            | 0/5 [00:17<?, ?it/s]\n",
      "  1%|▋                                                                              | 16/2000 [00:00<00:12, 159.61it/s]"
     ]
    },
    {
     "name": "stdout",
     "output_type": "stream",
     "text": [
      "valid f1: 0.9821428571428571 precision: 0.9744094488188977 recall: 0.99\n",
      "           get new model\n",
      "start initing valid kernel matrix...\n"
     ]
    },
    {
     "name": "stderr",
     "output_type": "stream",
     "text": [
      "100%|█████████████████████████████████████████████████████████████████████████████| 2000/2000 [00:12<00:00, 157.59it/s]\n",
      "  1%|▌                                                                              | 15/2000 [00:00<00:13, 148.91it/s]"
     ]
    },
    {
     "name": "stdout",
     "output_type": "stream",
     "text": [
      "finish initing valid kernel matrix...\n",
      "start initing kernel matrix...\n"
     ]
    },
    {
     "name": "stderr",
     "output_type": "stream",
     "text": [
      "100%|█████████████████████████████████████████████████████████████████████████████| 2000/2000 [00:07<00:00, 257.39it/s]\n",
      "  4%|███▌                                                                           | 90/2000 [00:00<00:04, 448.93it/s]"
     ]
    },
    {
     "name": "stdout",
     "output_type": "stream",
     "text": [
      "finish initing kernel matrix...\n",
      "start initing E...\n"
     ]
    },
    {
     "name": "stderr",
     "output_type": "stream",
     "text": [
      "100%|█████████████████████████████████████████████████████████████████████████████| 2000/2000 [00:04<00:00, 453.22it/s]\n",
      "  0%|                                                                                            | 0/5 [00:00<?, ?it/s]"
     ]
    },
    {
     "name": "stdout",
     "output_type": "stream",
     "text": [
      "finish initing E...\n",
      "valid f1: 0.7062566277836692 precision: 0.5462001093493712 recall: 0.999\n",
      "           get new model\n",
      "valid f1: 0.6775067750677507 precision: 0.5122950819672131 recall: 1.0\n",
      "valid f1: 0.7105093488072212 precision: 1.0 recall: 0.551\n",
      "           get new model\n",
      "valid f1: 0.7112375533428165 precision: 0.5518763796909493 recall: 1.0\n",
      "           get new model\n",
      "valid f1: 0.9408658922914467 precision: 0.9966442953020134 recall: 0.891\n",
      "           get new model\n",
      "valid f1: 0.7751937984496124 precision: 0.6329113924050633 recall: 1.0\n",
      "valid f1: 0.8276670574443141 precision: 1.0 recall: 0.706\n",
      "valid f1: 0.9356505401596994 precision: 0.8821966341895483 recall: 0.996\n"
     ]
    },
    {
     "name": "stderr",
     "output_type": "stream",
     "text": [
      "  0%|                                                                                            | 0/5 [00:40<?, ?it/s]\n",
      "  1%|▋                                                                              | 16/2000 [00:00<00:12, 154.26it/s]"
     ]
    },
    {
     "name": "stdout",
     "output_type": "stream",
     "text": [
      "valid f1: 0.9652471855115028 precision: 0.9453499520613614 recall: 0.986\n",
      "           get new model\n",
      "start initing valid kernel matrix...\n"
     ]
    },
    {
     "name": "stderr",
     "output_type": "stream",
     "text": [
      "100%|█████████████████████████████████████████████████████████████████████████████| 2000/2000 [00:12<00:00, 157.97it/s]\n",
      "  1%|▌                                                                              | 15/2000 [00:00<00:13, 144.62it/s]"
     ]
    },
    {
     "name": "stdout",
     "output_type": "stream",
     "text": [
      "finish initing valid kernel matrix...\n",
      "start initing kernel matrix...\n"
     ]
    },
    {
     "name": "stderr",
     "output_type": "stream",
     "text": [
      "100%|█████████████████████████████████████████████████████████████████████████████| 2000/2000 [00:07<00:00, 254.46it/s]\n",
      "  2%|█▋                                                                             | 44/2000 [00:00<00:04, 432.51it/s]"
     ]
    },
    {
     "name": "stdout",
     "output_type": "stream",
     "text": [
      "finish initing kernel matrix...\n",
      "start initing E...\n"
     ]
    },
    {
     "name": "stderr",
     "output_type": "stream",
     "text": [
      "100%|█████████████████████████████████████████████████████████████████████████████| 2000/2000 [00:04<00:00, 453.57it/s]\n",
      "  0%|                                                                                            | 0/5 [00:00<?, ?it/s]"
     ]
    },
    {
     "name": "stdout",
     "output_type": "stream",
     "text": [
      "finish initing E...\n",
      "valid f1: 0.26666666666666666 precision: 0.9935483870967742 recall: 0.154\n",
      "           get new model\n",
      "valid f1: 0.9096804075961092 precision: 0.8472821397756687 recall: 0.982\n",
      "           get new model\n",
      "valid f1: 0.09705042816365367 precision: 1.0 recall: 0.051\n",
      "valid f1: 0.30364715860899066 precision: 1.0 recall: 0.179\n",
      "valid f1: 0.8072727272727274 precision: 0.6772881355932203 recall: 0.999\n",
      "valid f1: 0.8135179153094462 precision: 0.6861263736263736 recall: 0.999\n",
      "valid f1: 0.00796812749003984 precision: 1.0 recall: 0.004\n",
      "valid f1: 0.7515605493133584 precision: 1.0 recall: 0.602\n",
      "valid f1: 0.5895627644569816 precision: 1.0 recall: 0.418\n"
     ]
    },
    {
     "name": "stderr",
     "output_type": "stream",
     "text": [
      "  0%|                                                                                            | 0/5 [00:44<?, ?it/s]\n",
      "  1%|▌                                                                              | 14/2000 [00:00<00:14, 136.29it/s]"
     ]
    },
    {
     "name": "stdout",
     "output_type": "stream",
     "text": [
      "valid f1: 0.9734251968503937 precision: 0.9583333333333334 recall: 0.989\n",
      "           get new model\n",
      "start initing valid kernel matrix...\n"
     ]
    },
    {
     "name": "stderr",
     "output_type": "stream",
     "text": [
      "100%|█████████████████████████████████████████████████████████████████████████████| 2000/2000 [00:12<00:00, 157.14it/s]\n",
      "  1%|▌                                                                              | 15/2000 [00:00<00:13, 145.76it/s]"
     ]
    },
    {
     "name": "stdout",
     "output_type": "stream",
     "text": [
      "finish initing valid kernel matrix...\n",
      "start initing kernel matrix...\n"
     ]
    },
    {
     "name": "stderr",
     "output_type": "stream",
     "text": [
      "100%|█████████████████████████████████████████████████████████████████████████████| 2000/2000 [00:07<00:00, 256.29it/s]\n",
      "  4%|███▌                                                                           | 89/2000 [00:00<00:04, 429.52it/s]"
     ]
    },
    {
     "name": "stdout",
     "output_type": "stream",
     "text": [
      "finish initing kernel matrix...\n",
      "start initing E...\n"
     ]
    },
    {
     "name": "stderr",
     "output_type": "stream",
     "text": [
      "100%|█████████████████████████████████████████████████████████████████████████████| 2000/2000 [00:04<00:00, 448.09it/s]\n",
      "  0%|                                                                                            | 0/5 [00:00<?, ?it/s]"
     ]
    },
    {
     "name": "stdout",
     "output_type": "stream",
     "text": [
      "finish initing E...\n",
      "valid f1: 0.6686726847208291 precision: 0.5022601707684581 recall: 1.0\n",
      "           get new model\n",
      "valid f1: 0.6939625260235947 precision: 0.5313496280552603 recall: 1.0\n",
      "           get new model\n",
      "valid f1: 0.9059459459459459 precision: 0.9858823529411764 recall: 0.838\n",
      "           get new model\n",
      "valid f1: 0.6668889629876625 precision: 0.5002501250625313 recall: 1.0\n",
      "valid f1: 0.8880308880308881 precision: 0.990159901599016 recall: 0.805\n"
     ]
    },
    {
     "name": "stderr",
     "output_type": "stream",
     "text": [
      "  0%|                                                                                            | 0/5 [00:26<?, ?it/s]\n",
      "  1%|▋                                                                              | 17/2000 [00:00<00:11, 166.28it/s]"
     ]
    },
    {
     "name": "stdout",
     "output_type": "stream",
     "text": [
      "valid f1: 0.9536489151873767 precision: 0.9406614785992218 recall: 0.967\n",
      "           get new model\n",
      "start initing valid kernel matrix...\n"
     ]
    },
    {
     "name": "stderr",
     "output_type": "stream",
     "text": [
      "100%|█████████████████████████████████████████████████████████████████████████████| 2000/2000 [00:12<00:00, 158.14it/s]\n",
      "  1%|▋                                                                              | 16/2000 [00:00<00:13, 151.86it/s]"
     ]
    },
    {
     "name": "stdout",
     "output_type": "stream",
     "text": [
      "finish initing valid kernel matrix...\n",
      "start initing kernel matrix...\n"
     ]
    },
    {
     "name": "stderr",
     "output_type": "stream",
     "text": [
      "100%|█████████████████████████████████████████████████████████████████████████████| 2000/2000 [00:07<00:00, 256.53it/s]\n",
      "  2%|█▋                                                                             | 42/2000 [00:00<00:04, 416.96it/s]"
     ]
    },
    {
     "name": "stdout",
     "output_type": "stream",
     "text": [
      "finish initing kernel matrix...\n",
      "start initing E...\n"
     ]
    },
    {
     "name": "stderr",
     "output_type": "stream",
     "text": [
      "100%|█████████████████████████████████████████████████████████████████████████████| 2000/2000 [00:04<00:00, 451.52it/s]\n",
      "  0%|                                                                                            | 0/5 [00:00<?, ?it/s]"
     ]
    },
    {
     "name": "stdout",
     "output_type": "stream",
     "text": [
      "finish initing E...\n",
      "valid f1: 0.01782178217821782 precision: 0.9 recall: 0.009\n",
      "           get new model\n",
      "valid f1: 0.7174305304944063 precision: 0.5612648221343873 recall: 0.994\n",
      "           get new model\n",
      "valid f1: 0.6777363605557439 precision: 0.5125576627370579 recall: 1.0\n",
      "valid f1: 0.08795411089866156 precision: 1.0 recall: 0.046\n",
      "valid f1: 0.6668889629876625 precision: 0.5002501250625313 recall: 1.0\n",
      "valid f1: 0.7917005695687551 precision: 0.6673525377229081 recall: 0.973\n",
      "           get new model\n",
      "valid f1: 0.7937551355792933 precision: 0.6736401673640168 recall: 0.966\n",
      "           get new model\n",
      "valid f1: 0.6823770491803279 precision: 0.5181535269709544 recall: 0.999\n",
      "valid f1: 0.5052316890881914 precision: 1.0 recall: 0.338\n",
      "valid f1: 0.9020429544264014 precision: 0.9471947194719472 recall: 0.861\n",
      "           get new model\n",
      "valid f1: 0.885138302859822 precision: 0.8331862312444837 recall: 0.944\n",
      "valid f1: 0.908724155320222 precision: 0.9165818921668362 recall: 0.901\n",
      "           get new model\n",
      "valid f1: 0.8222036727879799 precision: 0.7055873925501432 recall: 0.985\n",
      "valid f1: 0.8876508820798514 precision: 0.82842287694974 recall: 0.956\n",
      "valid f1: 0.225377107364685 precision: 1.0 recall: 0.127\n",
      "valid f1: 0.6816632583503749 precision: 0.5170630816959669 recall: 1.0\n",
      "valid f1: 0.7937525030036042 precision: 0.6619906479625919 recall: 0.991\n",
      "valid f1: 0.7788578371810451 precision: 0.9922600619195047 recall: 0.641\n",
      "valid f1: 0.7874702616970658 precision: 0.6524310118265441 recall: 0.993\n",
      "valid f1: 0.8652917946467749 precision: 0.7709147771696638 recall: 0.986\n",
      "valid f1: 0.6828269033799932 precision: 0.5184033177812338 recall: 1.0\n",
      "valid f1: 0.7571265678449258 precision: 0.6106683016554261 recall: 0.996\n",
      "valid f1: 0.7345588235294117 precision: 0.5808139534883721 recall: 0.999\n",
      "valid f1: 0.5831564048124558 precision: 0.9975786924939467 recall: 0.412\n",
      "valid f1: 0.7969502407704656 precision: 0.6655495978552279 recall: 0.993\n",
      "valid f1: 0.93419740777667 precision: 0.9314115308151093 recall: 0.937\n",
      "           get new model\n",
      "valid f1: 0.8484328037784457 precision: 0.7434161023325809 recall: 0.988\n",
      "valid f1: 0.9325025960539979 precision: 0.9697624190064795 recall: 0.898\n",
      "valid f1: 0.6357435197817191 precision: 1.0 recall: 0.466\n",
      "valid f1: 0.9247633283507724 precision: 0.9215491559086395 recall: 0.928\n",
      "valid f1: 0.7939297124600638 precision: 0.660904255319149 recall: 0.994\n",
      "valid f1: 0.8111201962387571 precision: 0.686030428769018 recall: 0.992\n",
      "valid f1: 0.7463469464218808 precision: 0.5967645296584781 recall: 0.996\n",
      "valid f1: 0.7372316802368615 precision: 0.5851938895417156 recall: 0.996\n",
      "valid f1: 0.8830699774266366 precision: 0.8049382716049382 recall: 0.978\n",
      "valid f1: 0.8481720430107527 precision: 0.7441509433962264 recall: 0.986\n",
      "valid f1: 0.830188679245283 precision: 0.7148014440433214 recall: 0.99\n",
      "valid f1: 0.7365313653136532 precision: 0.583625730994152 recall: 0.998\n",
      "valid f1: 0.9400307534597643 precision: 0.964248159831756 recall: 0.917\n",
      "           get new model\n",
      "valid f1: 0.8854454897620365 precision: 0.9913258983890955 recall: 0.8\n",
      "valid f1: 0.7958366693354684 precision: 0.6635514018691588 recall: 0.994\n",
      "valid f1: 0.7878068091844814 precision: 0.6520314547837484 recall: 0.995\n",
      "valid f1: 0.9354361754558896 precision: 0.9222546161321672 recall: 0.949\n",
      "valid f1: 0.9235912129894938 precision: 0.8839122486288848 recall: 0.967\n",
      "valid f1: 0.36065573770491804 precision: 1.0 recall: 0.22\n",
      "valid f1: 0.9205298013245032 precision: 0.8734290843806104 recall: 0.973\n",
      "valid f1: 0.4 precision: 1.0 recall: 0.25\n",
      "valid f1: 0.5611510791366906 precision: 1.0 recall: 0.39\n",
      "valid f1: 0.8316582914572864 precision: 0.7154178674351584 recall: 0.993\n",
      "valid f1: 0.9387361312108057 precision: 0.9068033550792172 recall: 0.973\n",
      "valid f1: 0.8314868804664722 precision: 0.9972027972027973 recall: 0.713\n",
      "valid f1: 0.7634342186534898 precision: 0.9983844911147012 recall: 0.618\n",
      "valid f1: 0.8690744920993227 precision: 0.9974093264248705 recall: 0.77\n",
      "valid f1: 0.9337779895188185 precision: 0.89171974522293 recall: 0.98\n",
      "valid f1: 0.9466019417475728 precision: 0.9198113207547169 recall: 0.975\n",
      "           get new model\n",
      "valid f1: 0.14814814814814814 precision: 1.0 recall: 0.08\n",
      "valid f1: 0.8492520138089759 precision: 1.0 recall: 0.738\n",
      "valid f1: 0.8860478043357422 precision: 0.9974968710888611 recall: 0.797\n",
      "valid f1: 0.9111592632719392 precision: 0.9940898345153665 recall: 0.841\n",
      "valid f1: 0.9289411764705883 precision: 0.8773333333333333 recall: 0.987\n"
     ]
    },
    {
     "name": "stderr",
     "output_type": "stream",
     "text": [
      "  0%|                                                                                            | 0/5 [04:37<?, ?it/s]\n",
      "  1%|▋                                                                              | 16/2000 [00:00<00:13, 151.35it/s]"
     ]
    },
    {
     "name": "stdout",
     "output_type": "stream",
     "text": [
      "valid f1: 0.9573507275464124 precision: 0.9607250755287009 recall: 0.954\n",
      "           get new model\n",
      "start initing valid kernel matrix...\n"
     ]
    },
    {
     "name": "stderr",
     "output_type": "stream",
     "text": [
      "100%|█████████████████████████████████████████████████████████████████████████████| 2000/2000 [00:12<00:00, 158.37it/s]\n",
      "  1%|▌                                                                              | 15/2000 [00:00<00:14, 140.56it/s]"
     ]
    },
    {
     "name": "stdout",
     "output_type": "stream",
     "text": [
      "finish initing valid kernel matrix...\n",
      "start initing kernel matrix...\n"
     ]
    },
    {
     "name": "stderr",
     "output_type": "stream",
     "text": [
      "100%|█████████████████████████████████████████████████████████████████████████████| 2000/2000 [00:07<00:00, 257.63it/s]\n",
      "  2%|█▋                                                                             | 42/2000 [00:00<00:04, 416.96it/s]"
     ]
    },
    {
     "name": "stdout",
     "output_type": "stream",
     "text": [
      "finish initing kernel matrix...\n",
      "start initing E...\n"
     ]
    },
    {
     "name": "stderr",
     "output_type": "stream",
     "text": [
      "100%|█████████████████████████████████████████████████████████████████████████████| 2000/2000 [00:04<00:00, 453.26it/s]\n",
      "  0%|                                                                                            | 0/5 [00:00<?, ?it/s]"
     ]
    },
    {
     "name": "stdout",
     "output_type": "stream",
     "text": [
      "finish initing E...\n",
      "valid f1: 0.8118892508143324 precision: 0.6847527472527473 recall: 0.997\n",
      "           get new model\n",
      "valid f1: 0.7818608287724785 precision: 0.6418485237483954 recall: 1.0\n",
      "valid f1: 0.817846909537454 precision: 0.6923076923076923 recall: 0.999\n",
      "           get new model\n",
      "valid f1: 0.9062642889803383 precision: 0.8348778433024431 recall: 0.991\n",
      "           get new model\n",
      "valid f1: 0.8275862068965516 precision: 0.7078891257995735 recall: 0.996\n",
      "valid f1: 0.8870031263957124 precision: 0.801452784503632 recall: 0.993\n",
      "valid f1: 0.8432615124630333 precision: 0.7300658376005852 recall: 0.998\n",
      "valid f1: 0.9176688251618873 precision: 0.8537005163511188 recall: 0.992\n",
      "           get new model\n",
      "valid f1: 0.5865724381625441 precision: 1.0 recall: 0.415\n",
      "valid f1: 0.8543273350471293 precision: 0.7473763118440779 recall: 0.997\n"
     ]
    },
    {
     "name": "stderr",
     "output_type": "stream",
     "text": [
      "  0%|                                                                                            | 0/5 [00:49<?, ?it/s]\n",
      "  1%|▌                                                                              | 14/2000 [00:00<00:14, 138.99it/s]"
     ]
    },
    {
     "name": "stdout",
     "output_type": "stream",
     "text": [
      "valid f1: 0.958783120706575 precision: 0.941233140655106 recall: 0.977\n",
      "           get new model\n",
      "start initing valid kernel matrix...\n"
     ]
    },
    {
     "name": "stderr",
     "output_type": "stream",
     "text": [
      "100%|█████████████████████████████████████████████████████████████████████████████| 2000/2000 [00:12<00:00, 157.92it/s]\n",
      "  1%|▌                                                                              | 15/2000 [00:00<00:13, 143.24it/s]"
     ]
    },
    {
     "name": "stdout",
     "output_type": "stream",
     "text": [
      "finish initing valid kernel matrix...\n",
      "start initing kernel matrix...\n"
     ]
    },
    {
     "name": "stderr",
     "output_type": "stream",
     "text": [
      "100%|█████████████████████████████████████████████████████████████████████████████| 2000/2000 [00:07<00:00, 259.37it/s]\n",
      "  2%|█▊                                                                             | 46/2000 [00:00<00:04, 456.67it/s]"
     ]
    },
    {
     "name": "stdout",
     "output_type": "stream",
     "text": [
      "finish initing kernel matrix...\n",
      "start initing E...\n"
     ]
    },
    {
     "name": "stderr",
     "output_type": "stream",
     "text": [
      "100%|█████████████████████████████████████████████████████████████████████████████| 2000/2000 [00:04<00:00, 443.74it/s]\n",
      "  0%|                                                                                            | 0/5 [00:00<?, ?it/s]"
     ]
    },
    {
     "name": "stdout",
     "output_type": "stream",
     "text": [
      "finish initing E...\n",
      "valid f1: 0.5652797704447633 precision: 1.0 recall: 0.394\n",
      "           get new model\n",
      "valid f1: 0.8853474988933157 precision: 0.7942811755361397 recall: 1.0\n",
      "           get new model\n",
      "valid f1: 0.046875 precision: 1.0 recall: 0.024\n",
      "valid f1: 0.019801980198019802 precision: 1.0 recall: 0.01\n",
      "valid f1: 0.8456659619450316 precision: 0.7326007326007326 recall: 1.0\n",
      "valid f1: 0.8520845231296401 precision: 0.9933422103861518 recall: 0.746\n",
      "valid f1: 0.6527590847913862 precision: 0.9979423868312757 recall: 0.485\n",
      "valid f1: 0.5246868091378041 precision: 0.9971988795518207 recall: 0.356\n",
      "valid f1: 0.8371703641691084 precision: 0.7199424046076314 recall: 1.0\n",
      "valid f1: 0.9107468123861567 precision: 0.8361204013377926 recall: 1.0\n",
      "           get new model\n",
      "valid f1: 0.5642498205312276 precision: 1.0 recall: 0.393\n",
      "valid f1: 0.8022462896109106 precision: 0.6697923643670463 recall: 1.0\n",
      "valid f1: 0.441153546375682 precision: 1.0 recall: 0.283\n"
     ]
    },
    {
     "name": "stderr",
     "output_type": "stream",
     "text": [
      "  0%|                                                                                            | 0/5 [01:02<?, ?it/s]\n",
      "  1%|▋                                                                              | 16/2000 [00:00<00:12, 154.26it/s]"
     ]
    },
    {
     "name": "stdout",
     "output_type": "stream",
     "text": [
      "valid f1: 0.9745158002038735 precision: 0.9937629937629938 recall: 0.956\n",
      "           get new model\n",
      "start initing valid kernel matrix...\n"
     ]
    },
    {
     "name": "stderr",
     "output_type": "stream",
     "text": [
      "100%|█████████████████████████████████████████████████████████████████████████████| 2000/2000 [00:12<00:00, 157.88it/s]\n",
      "  1%|▌                                                                              | 15/2000 [00:00<00:13, 146.71it/s]"
     ]
    },
    {
     "name": "stdout",
     "output_type": "stream",
     "text": [
      "finish initing valid kernel matrix...\n",
      "start initing kernel matrix...\n"
     ]
    },
    {
     "name": "stderr",
     "output_type": "stream",
     "text": [
      "100%|█████████████████████████████████████████████████████████████████████████████| 2000/2000 [00:07<00:00, 259.21it/s]\n",
      "  2%|█▋                                                                             | 42/2000 [00:00<00:04, 418.76it/s]"
     ]
    },
    {
     "name": "stdout",
     "output_type": "stream",
     "text": [
      "finish initing kernel matrix...\n",
      "start initing E...\n"
     ]
    },
    {
     "name": "stderr",
     "output_type": "stream",
     "text": [
      "100%|█████████████████████████████████████████████████████████████████████████████| 2000/2000 [00:04<00:00, 450.25it/s]\n",
      "  0%|                                                                                            | 0/5 [00:00<?, ?it/s]"
     ]
    },
    {
     "name": "stdout",
     "output_type": "stream",
     "text": [
      "finish initing E...\n",
      "valid f1: 0.6666666666666666 precision: 0.5 recall: 1.0\n",
      "           get new model\n",
      "valid f1: 0.07135969141755062 precision: 1.0 recall: 0.037\n",
      "valid f1: 0.6858710562414266 precision: 0.5219206680584552 recall: 1.0\n",
      "           get new model\n",
      "valid f1: 0.8034049452776652 precision: 0.6755282890252216 recall: 0.991\n",
      "           get new model\n",
      "valid f1: 0.6772773450728073 precision: 0.5120327700972862 recall: 1.0\n",
      "valid f1: 0.7843843843843843 precision: 0.9819548872180451 recall: 0.653\n",
      "valid f1: 0.7406307977736549 precision: 0.5887905604719764 recall: 0.998\n",
      "valid f1: 0.7550894509562 precision: 0.9855072463768116 recall: 0.612\n",
      "valid f1: 0.37205523964256704 precision: 0.9913419913419913 recall: 0.229\n",
      "valid f1: 0.9045599151643691 precision: 0.9627539503386005 recall: 0.853\n",
      "           get new model\n",
      "valid f1: 0.6613545816733069 precision: 0.9841897233201581 recall: 0.498\n",
      "valid f1: 0.9073987901349464 precision: 0.8485639686684073 recall: 0.975\n",
      "           get new model\n",
      "valid f1: 0.5321637426900584 precision: 0.9891304347826086 recall: 0.364\n",
      "valid f1: 0.9300291545189504 precision: 0.9045368620037807 recall: 0.957\n",
      "           get new model\n",
      "valid f1: 0.8115091015854374 precision: 0.9829302987197724 recall: 0.691\n",
      "valid f1: 0.9283489096573209 precision: 0.9654427645788337 recall: 0.894\n",
      "valid f1: 0.8117647058823529 precision: 0.9857142857142858 recall: 0.69\n",
      "valid f1: 0.7011642949547219 precision: 0.9926739926739927 recall: 0.542\n",
      "valid f1: 0.6536912751677852 precision: 0.9938775510204082 recall: 0.487\n",
      "valid f1: 0.9425398358281024 precision: 0.911297852474323 recall: 0.976\n",
      "           get new model\n",
      "valid f1: 0.7957117331745087 precision: 0.9837997054491899 recall: 0.668\n",
      "valid f1: 0.6077885952712101 precision: 0.997716894977169 recall: 0.437\n",
      "valid f1: 0.31791421362489486 precision: 1.0 recall: 0.189\n",
      "valid f1: 0.7347538574577516 precision: 0.5807200929152149 recall: 1.0\n",
      "valid f1: 0.9142590866728798 precision: 0.856020942408377 recall: 0.981\n",
      "valid f1: 0.23633156966490304 precision: 1.0 recall: 0.134\n",
      "valid f1: 0.9422084623323015 precision: 0.9733475479744137 recall: 0.913\n",
      "valid f1: 0.87590428491931 precision: 0.9874529485570891 recall: 0.787\n"
     ]
    },
    {
     "name": "stderr",
     "output_type": "stream",
     "text": [
      "  0%|                                                                                            | 0/5 [02:15<?, ?it/s]\n",
      "  1%|▌                                                                              | 15/2000 [00:00<00:13, 147.45it/s]"
     ]
    },
    {
     "name": "stdout",
     "output_type": "stream",
     "text": [
      "valid f1: 0.9528636594019261 precision: 0.9660842754367934 recall: 0.94\n",
      "           get new model\n",
      "start initing valid kernel matrix...\n"
     ]
    },
    {
     "name": "stderr",
     "output_type": "stream",
     "text": [
      "100%|█████████████████████████████████████████████████████████████████████████████| 2000/2000 [00:13<00:00, 146.61it/s]\n",
      "  1%|▌                                                                              | 14/2000 [00:00<00:14, 133.69it/s]"
     ]
    },
    {
     "name": "stdout",
     "output_type": "stream",
     "text": [
      "finish initing valid kernel matrix...\n",
      "start initing kernel matrix...\n"
     ]
    },
    {
     "name": "stderr",
     "output_type": "stream",
     "text": [
      "100%|█████████████████████████████████████████████████████████████████████████████| 2000/2000 [00:08<00:00, 230.28it/s]\n",
      "  2%|█▍                                                                             | 36/2000 [00:00<00:05, 357.39it/s]"
     ]
    },
    {
     "name": "stdout",
     "output_type": "stream",
     "text": [
      "finish initing kernel matrix...\n",
      "start initing E...\n"
     ]
    },
    {
     "name": "stderr",
     "output_type": "stream",
     "text": [
      "100%|█████████████████████████████████████████████████████████████████████████████| 2000/2000 [00:04<00:00, 411.87it/s]\n",
      "  0%|                                                                                            | 0/5 [00:00<?, ?it/s]"
     ]
    },
    {
     "name": "stdout",
     "output_type": "stream",
     "text": [
      "finish initing E...\n",
      "valid f1: 0.0 precision: 0.0 recall: 0.0\n",
      "           get new model\n",
      "valid f1: 0.0916030534351145 precision: 1.0 recall: 0.048\n",
      "           get new model\n",
      "valid f1: 0.824948024948025 precision: 0.706049822064057 recall: 0.992\n",
      "           get new model\n",
      "valid f1: 0.005982053838484547 precision: 1.0 recall: 0.003\n",
      "valid f1: 0.6666666666666666 precision: 0.5 recall: 1.0\n",
      "valid f1: 0.6911103424420616 precision: 0.5282919090428345 recall: 0.999\n",
      "valid f1: 0.8260149130074564 precision: 0.7050919377652051 recall: 0.997\n",
      "           get new model\n",
      "valid f1: 0.7917923958961979 precision: 0.9984779299847792 recall: 0.656\n",
      "valid f1: 0.06949806949806948 precision: 1.0 recall: 0.036\n",
      "valid f1: 0.6668889629876625 precision: 0.5002501250625313 recall: 1.0\n",
      "valid f1: 0.0 precision: 0.0 recall: 0.0\n",
      "valid f1: 0.830607476635514 precision: 0.9985955056179775 recall: 0.711\n",
      "           get new model\n",
      "valid f1: 0.6666666666666666 precision: 0.5 recall: 1.0\n"
     ]
    },
    {
     "name": "stderr",
     "output_type": "stream",
     "text": [
      "  0%|                                                                                            | 0/5 [01:03<?, ?it/s]\n",
      "  1%|▌                                                                              | 15/2000 [00:00<00:13, 147.45it/s]"
     ]
    },
    {
     "name": "stdout",
     "output_type": "stream",
     "text": [
      "valid f1: 0.9644879053010809 precision: 0.9936373276776246 recall: 0.937\n",
      "           get new model\n",
      "start initing valid kernel matrix...\n"
     ]
    },
    {
     "name": "stderr",
     "output_type": "stream",
     "text": [
      "100%|█████████████████████████████████████████████████████████████████████████████| 2000/2000 [00:13<00:00, 152.26it/s]\n",
      "  1%|▌                                                                              | 15/2000 [00:00<00:13, 144.62it/s]"
     ]
    },
    {
     "name": "stdout",
     "output_type": "stream",
     "text": [
      "finish initing valid kernel matrix...\n",
      "start initing kernel matrix...\n"
     ]
    },
    {
     "name": "stderr",
     "output_type": "stream",
     "text": [
      "100%|█████████████████████████████████████████████████████████████████████████████| 2000/2000 [00:08<00:00, 231.87it/s]\n",
      "  2%|█▋                                                                             | 42/2000 [00:00<00:04, 412.87it/s]"
     ]
    },
    {
     "name": "stdout",
     "output_type": "stream",
     "text": [
      "finish initing kernel matrix...\n",
      "start initing E...\n"
     ]
    },
    {
     "name": "stderr",
     "output_type": "stream",
     "text": [
      "100%|█████████████████████████████████████████████████████████████████████████████| 2000/2000 [00:04<00:00, 438.95it/s]\n",
      "  0%|                                                                                            | 0/5 [00:00<?, ?it/s]"
     ]
    },
    {
     "name": "stdout",
     "output_type": "stream",
     "text": [
      "finish initing E...\n",
      "valid f1: 0.47328244274809156 precision: 1.0 recall: 0.31\n",
      "           get new model\n",
      "valid f1: 0.613998613998614 precision: 1.0 recall: 0.443\n",
      "           get new model\n",
      "valid f1: 0.6781229345670853 precision: 1.0 recall: 0.513\n",
      "           get new model\n",
      "valid f1: 0.9495798319327732 precision: 1.0 recall: 0.904\n",
      "           get new model\n",
      "valid f1: 0.873743993010048 precision: 0.7757951900698216 recall: 1.0\n",
      "valid f1: 0.7661937075879087 precision: 1.0 recall: 0.621\n",
      "valid f1: 0.9065062875888463 precision: 1.0 recall: 0.829\n",
      "valid f1: 0.9177489177489178 precision: 1.0 recall: 0.848\n"
     ]
    },
    {
     "name": "stderr",
     "output_type": "stream",
     "text": [
      "  0%|                                                                                            | 0/5 [00:44<?, ?it/s]\n",
      "  1%|▋                                                                              | 17/2000 [00:00<00:12, 160.76it/s]"
     ]
    },
    {
     "name": "stdout",
     "output_type": "stream",
     "text": [
      "valid f1: 0.9886082218920257 precision: 0.9793915603532876 recall: 0.998\n",
      "           get new model\n",
      "start initing valid kernel matrix...\n"
     ]
    },
    {
     "name": "stderr",
     "output_type": "stream",
     "text": [
      "100%|█████████████████████████████████████████████████████████████████████████████| 2000/2000 [00:13<00:00, 144.27it/s]\n",
      "  1%|▋                                                                              | 16/2000 [00:00<00:12, 157.28it/s]"
     ]
    },
    {
     "name": "stdout",
     "output_type": "stream",
     "text": [
      "finish initing valid kernel matrix...\n",
      "start initing kernel matrix...\n"
     ]
    },
    {
     "name": "stderr",
     "output_type": "stream",
     "text": [
      "100%|█████████████████████████████████████████████████████████████████████████████| 2000/2000 [00:08<00:00, 243.29it/s]\n",
      "  5%|███▌                                                                           | 91/2000 [00:00<00:04, 452.21it/s]"
     ]
    },
    {
     "name": "stdout",
     "output_type": "stream",
     "text": [
      "finish initing kernel matrix...\n",
      "start initing E...\n"
     ]
    },
    {
     "name": "stderr",
     "output_type": "stream",
     "text": [
      "100%|█████████████████████████████████████████████████████████████████████████████| 2000/2000 [00:04<00:00, 421.03it/s]\n",
      "  0%|                                                                                            | 0/5 [00:00<?, ?it/s]"
     ]
    },
    {
     "name": "stdout",
     "output_type": "stream",
     "text": [
      "finish initing E...\n",
      "valid f1: 0.7592240395587676 precision: 0.612645794966237 recall: 0.998\n",
      "           get new model\n",
      "valid f1: 0.44236760124610586 precision: 1.0 recall: 0.284\n",
      "valid f1: 0.7507807620237351 precision: 1.0 recall: 0.601\n",
      "valid f1: 0.9463722397476341 precision: 0.9977827050997783 recall: 0.9\n",
      "           get new model\n"
     ]
    },
    {
     "name": "stderr",
     "output_type": "stream",
     "text": [
      "  0%|                                                                                            | 0/5 [00:23<?, ?it/s]\n",
      "  1%|▋                                                                              | 16/2000 [00:00<00:12, 158.84it/s]"
     ]
    },
    {
     "name": "stdout",
     "output_type": "stream",
     "text": [
      "valid f1: 0.9748396645288604 precision: 0.9620253164556962 recall: 0.988\n",
      "           get new model\n",
      "start initing valid kernel matrix...\n"
     ]
    },
    {
     "name": "stderr",
     "output_type": "stream",
     "text": [
      "100%|█████████████████████████████████████████████████████████████████████████████| 2000/2000 [00:13<00:00, 144.62it/s]\n",
      "  2%|█▏                                                                             | 30/2000 [00:00<00:13, 145.46it/s]"
     ]
    },
    {
     "name": "stdout",
     "output_type": "stream",
     "text": [
      "finish initing valid kernel matrix...\n",
      "start initing kernel matrix...\n"
     ]
    },
    {
     "name": "stderr",
     "output_type": "stream",
     "text": [
      "100%|█████████████████████████████████████████████████████████████████████████████| 2000/2000 [00:08<00:00, 226.50it/s]\n",
      "  2%|█▋                                                                             | 44/2000 [00:00<00:04, 436.82it/s]"
     ]
    },
    {
     "name": "stdout",
     "output_type": "stream",
     "text": [
      "finish initing kernel matrix...\n",
      "start initing E...\n"
     ]
    },
    {
     "name": "stderr",
     "output_type": "stream",
     "text": [
      "100%|█████████████████████████████████████████████████████████████████████████████| 2000/2000 [00:04<00:00, 405.23it/s]\n",
      "  0%|                                                                                            | 0/5 [00:00<?, ?it/s]"
     ]
    },
    {
     "name": "stdout",
     "output_type": "stream",
     "text": [
      "finish initing E...\n",
      "valid f1: 0.2638888888888889 precision: 1.0 recall: 0.152\n",
      "           get new model\n",
      "valid f1: 0.15498154981549817 precision: 1.0 recall: 0.084\n"
     ]
    },
    {
     "name": "stderr",
     "output_type": "stream",
     "text": [
      "  0%|                                                                                            | 0/5 [00:14<?, ?it/s]\n",
      "  1%|▌                                                                              | 15/2000 [00:00<00:13, 147.45it/s]"
     ]
    },
    {
     "name": "stdout",
     "output_type": "stream",
     "text": [
      "valid f1: 0.9600385170919596 precision: 0.9257195914577531 recall: 0.997\n",
      "           get new model\n",
      "start initing valid kernel matrix...\n"
     ]
    },
    {
     "name": "stderr",
     "output_type": "stream",
     "text": [
      "100%|█████████████████████████████████████████████████████████████████████████████| 2000/2000 [00:13<00:00, 144.78it/s]\n",
      "  1%|▋                                                                              | 17/2000 [00:00<00:12, 161.41it/s]"
     ]
    },
    {
     "name": "stdout",
     "output_type": "stream",
     "text": [
      "finish initing valid kernel matrix...\n",
      "start initing kernel matrix...\n"
     ]
    },
    {
     "name": "stderr",
     "output_type": "stream",
     "text": [
      "100%|█████████████████████████████████████████████████████████████████████████████| 2000/2000 [00:07<00:00, 252.14it/s]\n",
      "  2%|█▊                                                                             | 47/2000 [00:00<00:04, 462.03it/s]"
     ]
    },
    {
     "name": "stdout",
     "output_type": "stream",
     "text": [
      "finish initing kernel matrix...\n",
      "start initing E...\n"
     ]
    },
    {
     "name": "stderr",
     "output_type": "stream",
     "text": [
      "100%|█████████████████████████████████████████████████████████████████████████████| 2000/2000 [00:04<00:00, 412.56it/s]\n",
      "  0%|                                                                                            | 0/5 [00:00<?, ?it/s]"
     ]
    },
    {
     "name": "stdout",
     "output_type": "stream",
     "text": [
      "finish initing E...\n",
      "valid f1: 0.6691201070592171 precision: 0.5027652086475616 recall: 1.0\n",
      "           get new model\n",
      "valid f1: 0.7656967840735069 precision: 0.6203473945409429 recall: 1.0\n",
      "           get new model\n",
      "valid f1: 0.6666666666666666 precision: 0.5 recall: 1.0\n",
      "valid f1: 0.7530120481927711 precision: 0.6038647342995169 recall: 1.0\n",
      "valid f1: 0.8669267446900736 precision: 0.7651109410864575 recall: 1.0\n",
      "           get new model\n"
     ]
    },
    {
     "name": "stderr",
     "output_type": "stream",
     "text": [
      "  0%|                                                                                            | 0/5 [00:27<?, ?it/s]\n",
      "  1%|▋                                                                              | 17/2000 [00:00<00:12, 160.81it/s]"
     ]
    },
    {
     "name": "stdout",
     "output_type": "stream",
     "text": [
      "valid f1: 0.9802371541501976 precision: 0.96875 recall: 0.992\n",
      "           get new model\n",
      "start initing valid kernel matrix...\n"
     ]
    },
    {
     "name": "stderr",
     "output_type": "stream",
     "text": [
      "100%|█████████████████████████████████████████████████████████████████████████████| 2000/2000 [00:12<00:00, 161.11it/s]\n",
      "  1%|▋                                                                              | 17/2000 [00:00<00:12, 159.25it/s]"
     ]
    },
    {
     "name": "stdout",
     "output_type": "stream",
     "text": [
      "finish initing valid kernel matrix...\n",
      "start initing kernel matrix...\n"
     ]
    },
    {
     "name": "stderr",
     "output_type": "stream",
     "text": [
      "100%|█████████████████████████████████████████████████████████████████████████████| 2000/2000 [00:07<00:00, 252.96it/s]\n",
      "  5%|███▌                                                                           | 91/2000 [00:00<00:04, 449.61it/s]"
     ]
    },
    {
     "name": "stdout",
     "output_type": "stream",
     "text": [
      "finish initing kernel matrix...\n",
      "start initing E...\n"
     ]
    },
    {
     "name": "stderr",
     "output_type": "stream",
     "text": [
      "100%|█████████████████████████████████████████████████████████████████████████████| 2000/2000 [00:04<00:00, 426.53it/s]\n",
      "  0%|                                                                                            | 0/5 [00:00<?, ?it/s]"
     ]
    },
    {
     "name": "stdout",
     "output_type": "stream",
     "text": [
      "finish initing E...\n",
      "valid f1: 0.7353629976580797 precision: 0.8870056497175142 recall: 0.628\n",
      "           get new model\n",
      "valid f1: 0.8483920367534457 precision: 0.8665276329509907 recall: 0.831\n",
      "           get new model\n",
      "valid f1: 0.3579638752052545 precision: 1.0 recall: 0.218\n",
      "valid f1: 0.7185238784370478 precision: 0.5629251700680272 recall: 0.993\n",
      "valid f1: 0.6821282401091405 precision: 0.5175983436853002 recall: 1.0\n",
      "valid f1: 0.28620394173093405 precision: 1.0 recall: 0.167\n",
      "valid f1: 0.7229876722262508 precision: 0.5671217292377702 recall: 0.997\n",
      "valid f1: 0.6846970215679561 precision: 0.5205622071837585 recall: 1.0\n",
      "valid f1: 0.8999999999999999 precision: 0.9732558139534884 recall: 0.837\n",
      "           get new model\n",
      "valid f1: 0.3416252072968491 precision: 1.0 recall: 0.206\n",
      "valid f1: 0.8577604842196281 precision: 0.7555217060167555 recall: 0.992\n",
      "valid f1: 0.9188931297709924 precision: 0.8786496350364964 recall: 0.963\n",
      "           get new model\n",
      "valid f1: 0.9351851851851852 precision: 0.9629237288135594 recall: 0.909\n",
      "           get new model\n",
      "valid f1: 0.8768211920529801 precision: 0.7849802371541502 recall: 0.993\n",
      "valid f1: 0.605849582172702 precision: 0.9977064220183486 recall: 0.435\n",
      "valid f1: 0.4717557251908397 precision: 0.9967741935483871 recall: 0.309\n",
      "valid f1: 0.9197465681098204 precision: 0.9742729306487695 recall: 0.871\n",
      "valid f1: 0.7879154078549849 precision: 0.9954198473282443 recall: 0.652\n",
      "valid f1: 0.7876588021778584 precision: 0.996937212863706 recall: 0.651\n",
      "valid f1: 0.9051490514905149 precision: 0.9881656804733728 recall: 0.835\n",
      "valid f1: 0.915326902465166 precision: 0.9861431870669746 recall: 0.854\n",
      "valid f1: 0.654130288784419 precision: 0.9959100204498977 recall: 0.487\n",
      "valid f1: 0.8704430734716769 precision: 0.9910600255427842 recall: 0.776\n",
      "valid f1: 0.6004198740377886 precision: 1.0 recall: 0.429\n",
      "valid f1: 0.8353581901968999 precision: 0.718817591925018 recall: 0.997\n",
      "valid f1: 0.877208480565371 precision: 0.7856012658227848 recall: 0.993\n",
      "valid f1: 0.935349322210636 precision: 0.9771241830065359 recall: 0.897\n",
      "           get new model\n",
      "valid f1: 0.7092198581560284 precision: 0.5494505494505495 recall: 1.0\n",
      "valid f1: 0.718132854578097 precision: 0.5602240896358543 recall: 1.0\n",
      "valid f1: 0.7165890361877463 precision: 0.5583472920156337 recall: 1.0\n",
      "valid f1: 0.7329113924050633 precision: 0.9982758620689656 recall: 0.579\n",
      "valid f1: 0.9410548086866598 precision: 0.974304068522484 recall: 0.91\n",
      "           get new model\n",
      "valid f1: 0.6777363605557439 precision: 0.5125576627370579 recall: 1.0\n",
      "valid f1: 0.8126777732629011 precision: 0.6844626967830253 recall: 1.0\n",
      "valid f1: 0.50187265917603 precision: 1.0 recall: 0.335\n",
      "valid f1: 0.9473684210526315 precision: 0.9686520376175548 recall: 0.927\n",
      "           get new model\n",
      "valid f1: 0.6259437199725464 precision: 0.9978118161925602 recall: 0.456\n",
      "valid f1: 0.8186101295641931 precision: 0.995702005730659 recall: 0.695\n",
      "valid f1: 0.9303482587064678 precision: 0.9257425742574258 recall: 0.935\n",
      "valid f1: 0.7017543859649124 precision: 0.5405405405405406 recall: 1.0\n",
      "valid f1: 0.8285880302149912 precision: 0.9889042995839112 recall: 0.713\n",
      "valid f1: 0.9079925650557621 precision: 0.8480902777777778 recall: 0.977\n",
      "valid f1: 0.8188524590163934 precision: 0.69375 recall: 0.999\n",
      "valid f1: 0.9213260761999011 precision: 0.9118511263467189 recall: 0.931\n",
      "valid f1: 0.8775330396475771 precision: 0.784251968503937 recall: 0.996\n",
      "valid f1: 0.8083086053412464 precision: 0.9941605839416059 recall: 0.681\n",
      "valid f1: 0.7966406718656269 precision: 0.9955022488755623 recall: 0.664\n",
      "valid f1: 0.9226415094339623 precision: 0.8732142857142857 recall: 0.978\n",
      "valid f1: 0.9075937785910339 precision: 0.836424957841484 recall: 0.992\n",
      "valid f1: 0.9321136254212806 precision: 0.8987929433611885 recall: 0.968\n",
      "valid f1: 0.9157392686804451 precision: 0.9740698985343855 recall: 0.864\n",
      "valid f1: 0.9062784349408552 precision: 0.8313856427378965 recall: 0.996\n",
      "valid f1: 0.7215836526181353 precision: 0.9982332155477032 recall: 0.565\n",
      "valid f1: 0.9354346720894764 precision: 0.9513960703205792 recall: 0.92\n",
      "valid f1: 0.49624060150375937 precision: 1.0 recall: 0.33\n",
      "valid f1: 0.6680026720106881 precision: 0.5015045135406219 recall: 1.0\n",
      "valid f1: 0.6668889629876625 precision: 0.5002501250625313 recall: 1.0\n",
      "valid f1: 0.9012875536480687 precision: 0.9722222222222222 recall: 0.84\n",
      "valid f1: 0.7092198581560284 precision: 0.9981851179673321 recall: 0.55\n",
      "valid f1: 0.900647948164147 precision: 0.9788732394366197 recall: 0.834\n",
      "valid f1: 0.5865724381625441 precision: 1.0 recall: 0.415\n",
      "valid f1: 0.8940540540540539 precision: 0.9729411764705882 recall: 0.827\n",
      "valid f1: 0.9286065977351057 precision: 0.9146459747817652 recall: 0.943\n",
      "valid f1: 0.9292123629112662 precision: 0.9264413518886679 recall: 0.932\n",
      "valid f1: 0.9183098591549296 precision: 0.8654867256637168 recall: 0.978\n",
      "valid f1: 0.6682258603407952 precision: 0.5017561465127948 recall: 1.0\n",
      "valid f1: 0.22852081488042517 precision: 1.0 recall: 0.129\n",
      "valid f1: 0.4647239263803681 precision: 0.9967105263157895 recall: 0.303\n",
      "valid f1: 0.6781959986436079 precision: 0.513083632632119 recall: 1.0\n",
      "valid f1: 0.7119971520113919 precision: 0.552791597567717 recall: 1.0\n",
      "valid f1: 0.2758620689655173 precision: 1.0 recall: 0.16\n",
      "valid f1: 0.050682261208576995 precision: 1.0 recall: 0.026\n",
      "valid f1: 0.6666666666666666 precision: 0.5 recall: 1.0\n",
      "valid f1: 0.8870967741935485 precision: 0.8035714285714286 recall: 0.99\n",
      "valid f1: 0.9023605150214593 precision: 0.9733796296296297 recall: 0.841\n",
      "valid f1: 0.7185705169112954 precision: 0.9929453262786596 recall: 0.563\n",
      "valid f1: 0.38187702265372164 precision: 1.0 recall: 0.236\n",
      "valid f1: 0.7908082408874801 precision: 0.6548556430446194 recall: 0.998\n",
      "valid f1: 0.6863417982155113 precision: 0.522466039707419 recall: 1.0\n",
      "valid f1: 0.6684491978609626 precision: 0.5020080321285141 recall: 1.0\n",
      "valid f1: 0.9357798165137614 precision: 0.9047619047619048 recall: 0.969\n",
      "valid f1: 0.2486865148861646 precision: 1.0 recall: 0.142\n",
      "valid f1: 0.17684594348222427 precision: 1.0 recall: 0.097\n",
      "valid f1: 0.8326577880718008 precision: 0.9889958734525447 recall: 0.719\n",
      "valid f1: 0.4825493171471927 precision: 1.0 recall: 0.318\n",
      "valid f1: 0.7117117117117118 precision: 0.9981949458483754 recall: 0.553\n",
      "valid f1: 0.9357448833888624 precision: 0.8928247048138056 recall: 0.983\n",
      "valid f1: 0.7399186089530152 precision: 0.5871990604815033 recall: 1.0\n",
      "valid f1: 0.9239384041063929 precision: 0.8661417322834646 recall: 0.99\n",
      "valid f1: 0.6738544474393531 precision: 0.508130081300813 recall: 1.0\n",
      "valid f1: 0.759589821496392 precision: 0.612369871402327 recall: 1.0\n",
      "valid f1: 0.8011226944667201 precision: 0.6686746987951807 recall: 0.999\n",
      "valid f1: 0.555956678700361 precision: 1.0 recall: 0.385\n",
      "valid f1: 0.7817629179331307 precision: 0.9968992248062015 recall: 0.643\n",
      "valid f1: 0.908992999461497 precision: 0.9848308051341891 recall: 0.844\n",
      "valid f1: 0.7300380228136882 precision: 0.9965397923875432 recall: 0.576\n",
      "valid f1: 0.7758094074526574 precision: 0.9968602825745683 recall: 0.635\n",
      "valid f1: 0.6846254927726675 precision: 0.9980842911877394 recall: 0.521\n",
      "valid f1: 0.7393715341959335 precision: 0.5865102639296188 recall: 1.0\n",
      "valid f1: 0.6668889629876625 precision: 0.5002501250625313 recall: 1.0\n",
      "valid f1: 0.8691746209994385 precision: 0.9910371318822023 recall: 0.774\n",
      "valid f1: 0.44236760124610586 precision: 1.0 recall: 0.284\n",
      "valid f1: 0.9053013140009063 precision: 0.827671913835957 recall: 0.999\n",
      "valid f1: 0.9369183040330922 precision: 0.9700214132762313 recall: 0.906\n",
      "valid f1: 0.7054673721340389 precision: 0.5449591280653951 recall: 1.0\n",
      "valid f1: 0.913682277318641 precision: 0.8446519524617997 recall: 0.995\n",
      "valid f1: 0.9234828496042217 precision: 0.9776536312849162 recall: 0.875\n",
      "valid f1: 0.30938292476754015 precision: 1.0 recall: 0.183\n",
      "valid f1: 0.6235375086028906 precision: 1.0 recall: 0.453\n",
      "valid f1: 0.9097538742023702 precision: 0.8358458961474037 recall: 0.998\n",
      "valid f1: 0.761904761904762 precision: 0.6153846153846154 recall: 1.0\n",
      "valid f1: 0.8804587560652846 precision: 0.7876874506708761 recall: 0.998\n",
      "valid f1: 0.777302759424796 precision: 0.6357279084551812 recall: 1.0\n",
      "valid f1: 0.9048050770625566 precision: 0.8275290215588723 recall: 0.998\n",
      "valid f1: 0.9202127659574468 precision: 0.9829545454545454 recall: 0.865\n"
     ]
    },
    {
     "name": "stdout",
     "output_type": "stream",
     "text": [
      "valid f1: 0.9490156486622917 precision: 0.9582059123343527 recall: 0.94\n",
      "           get new model\n",
      "valid f1: 0.8816254416961131 precision: 0.7895569620253164 recall: 0.998\n",
      "valid f1: 0.9100867183934277 precision: 0.8371116708648195 recall: 0.997\n",
      "valid f1: 0.7463994990607389 precision: 0.998324958123953 recall: 0.596\n",
      "valid f1: 0.9373381667529778 precision: 0.9720730397422127 recall: 0.905\n",
      "valid f1: 0.783030303030303 precision: 0.9938461538461538 recall: 0.646\n",
      "valid f1: 0.3870967741935484 precision: 1.0 recall: 0.24\n",
      "valid f1: 0.6353101567825494 precision: 0.9978586723768736 recall: 0.466\n",
      "valid f1: 0.5074626865671642 precision: 1.0 recall: 0.34\n",
      "valid f1: 0.8298368298368297 precision: 0.994413407821229 recall: 0.712\n",
      "valid f1: 0.9398642095053347 precision: 0.9124293785310734 recall: 0.969\n",
      "valid f1: 0.9029810298102982 precision: 0.9857988165680474 recall: 0.833\n",
      "valid f1: 0.9445005045408679 precision: 0.9531568228105907 recall: 0.936\n",
      "valid f1: 0.6563758389261745 precision: 0.9979591836734694 recall: 0.489\n",
      "valid f1: 0.6741721854304635 precision: 0.9980392156862745 recall: 0.509\n",
      "valid f1: 0.011928429423459244 precision: 1.0 recall: 0.006\n",
      "valid f1: 0.5841584158415841 precision: 0.9975845410628019 recall: 0.413\n",
      "valid f1: 0.6673340006673341 precision: 0.5007511266900351 recall: 1.0\n",
      "valid f1: 0.6653333333333333 precision: 0.998 recall: 0.499\n",
      "valid f1: 0.9376278118609407 precision: 0.9592050209205021 recall: 0.917\n",
      "valid f1: 0.7064641469445426 precision: 0.5461496450027308 recall: 1.0\n",
      "valid f1: 0.8188524590163934 precision: 0.69375 recall: 0.999\n",
      "valid f1: 0.907008703618873 precision: 0.8368554522400676 recall: 0.99\n",
      "valid f1: 0.9295774647887325 precision: 0.9716466739367503 recall: 0.891\n",
      "valid f1: 0.9238721804511277 precision: 0.8714539007092199 recall: 0.983\n",
      "valid f1: 0.9212889593238247 precision: 0.9764837625979843 recall: 0.872\n",
      "valid f1: 0.8733965421081985 precision: 0.987389659520807 recall: 0.783\n",
      "valid f1: 0.9415384615384617 precision: 0.9663157894736842 recall: 0.918\n",
      "valid f1: 0.9210386857445682 precision: 0.979706877113867 recall: 0.869\n",
      "valid f1: 0.9113379903277807 precision: 0.9849012775842044 recall: 0.848\n",
      "valid f1: 0.844520940906483 precision: 0.990578734858681 recall: 0.736\n",
      "valid f1: 0.8311990686845168 precision: 0.9944289693593314 recall: 0.714\n",
      "valid f1: 0.7753357753357754 precision: 0.9952978056426333 recall: 0.635\n",
      "valid f1: 0.6536650975117686 precision: 0.997946611909651 recall: 0.486\n",
      "valid f1: 0.2758620689655173 precision: 1.0 recall: 0.16\n",
      "valid f1: 0.23633156966490304 precision: 1.0 recall: 0.134\n",
      "valid f1: 0.32073887489504616 precision: 1.0 recall: 0.191\n",
      "valid f1: 0.19004524886877827 precision: 1.0 recall: 0.105\n",
      "valid f1: 0.12206572769953053 precision: 1.0 recall: 0.065\n",
      "valid f1: 0.17684594348222427 precision: 1.0 recall: 0.097\n",
      "valid f1: 0.2062780269058296 precision: 1.0 recall: 0.115\n",
      "valid f1: 0.13953488372093023 precision: 1.0 recall: 0.075\n",
      "valid f1: 0.20305480682839175 precision: 1.0 recall: 0.113\n",
      "valid f1: 0.9380445304937076 precision: 0.9090056285178236 recall: 0.969\n",
      "valid f1: 0.9429735234215887 precision: 0.9605809128630706 recall: 0.926\n",
      "valid f1: 0.9341627786417833 precision: 0.9698600645855759 recall: 0.901\n",
      "valid f1: 0.6842285323297982 precision: 0.5200208008320333 recall: 1.0\n",
      "valid f1: 0.9146211312700107 precision: 0.9805491990846682 recall: 0.857\n",
      "valid f1: 0.919893899204244 precision: 0.9796610169491525 recall: 0.867\n",
      "valid f1: 0.8245614035087719 precision: 0.9929577464788732 recall: 0.705\n",
      "valid f1: 0.8944778567523236 precision: 0.9867310012062727 recall: 0.818\n",
      "valid f1: 0.92534174553102 precision: 0.975609756097561 recall: 0.88\n",
      "valid f1: 0.919893899204244 precision: 0.9796610169491525 recall: 0.867\n",
      "valid f1: 0.36467702371218313 precision: 1.0 recall: 0.223\n",
      "valid f1: 0.44236760124610586 precision: 1.0 recall: 0.284\n",
      "valid f1: 0.50187265917603 precision: 1.0 recall: 0.335\n",
      "valid f1: 0.9055225924235508 precision: 0.832913518052057 recall: 0.992\n",
      "valid f1: 0.9270341207349082 precision: 0.9756906077348066 recall: 0.883\n",
      "valid f1: 0.9194915254237288 precision: 0.9774774774774775 recall: 0.868\n",
      "valid f1: 0.7000350017500876 precision: 0.5385029617662898 recall: 1.0\n",
      "valid f1: 0.9059459459459459 precision: 0.9858823529411764 recall: 0.838\n",
      "valid f1: 0.9379168804515138 precision: 0.9631190727081138 recall: 0.914\n",
      "valid f1: 0.7614338689740421 precision: 0.9967637540453075 recall: 0.616\n",
      "valid f1: 0.8090154211150652 precision: 0.9941690962099126 recall: 0.682\n",
      "valid f1: 0.932761087267525 precision: 0.8915223336371924 recall: 0.978\n",
      "valid f1: 0.8271860754247825 precision: 0.7062986553432413 recall: 0.998\n",
      "valid f1: 0.8989130434782608 precision: 0.9845238095238096 recall: 0.827\n",
      "valid f1: 0.697462589459987 precision: 0.9981378026070763 recall: 0.536\n",
      "valid f1: 0.7874396135265701 precision: 0.9939024390243902 recall: 0.652\n",
      "valid f1: 0.5250737463126844 precision: 1.0 recall: 0.356\n",
      "valid f1: 0.8989130434782608 precision: 0.9845238095238096 recall: 0.827\n",
      "valid f1: 0.8998640688717716 precision: 0.8227009113504556 recall: 0.993\n",
      "valid f1: 0.9193473193473194 precision: 0.8611353711790393 recall: 0.986\n",
      "valid f1: 0.68259385665529 precision: 0.5181347150259067 recall: 1.0\n",
      "valid f1: 0.445998445998446 precision: 1.0 recall: 0.287\n"
     ]
    },
    {
     "name": "stderr",
     "output_type": "stream",
     "text": [
      "\r",
      " 20%|████████████████▏                                                                | 1/5 [15:51<1:03:24, 951.22s/it]"
     ]
    },
    {
     "name": "stdout",
     "output_type": "stream",
     "text": [
      "valid f1: 0.8699825479930192 precision: 0.771671826625387 recall: 0.997\n",
      "valid f1: 0.3150800336983993 precision: 1.0 recall: 0.187\n",
      "valid f1: 0.9453993933265925 precision: 0.9560327198364008 recall: 0.935\n",
      "valid f1: 0.7440401505646174 precision: 0.9983164983164983 recall: 0.593\n",
      "valid f1: 0.9394086282113426 precision: 0.9115710253998118 recall: 0.969\n",
      "valid f1: 0.9182590233545648 precision: 0.9785067873303167 recall: 0.865\n",
      "valid f1: 0.8505747126436782 precision: 0.7405485544848036 recall: 0.999\n",
      "valid f1: 0.7726218097447796 precision: 0.6298865069356873 recall: 0.999\n",
      "valid f1: 0.7582542694497154 precision: 0.6110091743119266 recall: 0.999\n",
      "valid f1: 0.8469690546841883 precision: 0.7350993377483444 recall: 0.999\n",
      "valid f1: 0.9431372549019608 precision: 0.925 recall: 0.962\n",
      "valid f1: 0.9431372549019608 precision: 0.925 recall: 0.962\n",
      "valid f1: 0.8933843630399125 precision: 0.985524728588661 recall: 0.817\n",
      "valid f1: 0.8805309734513275 precision: 0.9851485148514851 recall: 0.796\n",
      "valid f1: 0.8877887788778877 precision: 0.9865525672371638 recall: 0.807\n",
      "valid f1: 0.7611428571428571 precision: 0.6147692307692307 recall: 0.999\n",
      "valid f1: 0.8762659621312198 precision: 0.7828481510621558 recall: 0.995\n",
      "valid f1: 0.9160092807424592 precision: 0.8545454545454545 recall: 0.987\n",
      "valid f1: 0.8476877386508272 precision: 0.7361827560795873 recall: 0.999\n",
      "valid f1: 0.8412631578947368 precision: 0.7265454545454545 recall: 0.999\n",
      "valid f1: 0.827671913835957 precision: 0.7065063649222065 recall: 0.999\n",
      "valid f1: 0.9431372549019608 precision: 0.925 recall: 0.962\n",
      "valid f1: 0.875627440044618 precision: 0.9899117276166457 recall: 0.785\n",
      "valid f1: 0.945382323733863 precision: 0.9388560157790927 recall: 0.952\n",
      "valid f1: 0.8505747126436782 precision: 0.7405485544848036 recall: 0.999\n",
      "valid f1: 0.9199812821712681 precision: 0.8645558487247141 recall: 0.983\n",
      "valid f1: 0.8318068276436303 precision: 0.7125534950071327 recall: 0.999\n",
      "valid f1: 0.7158434894162926 precision: 0.998211091234347 recall: 0.558\n",
      "valid f1: 0.9021392808375056 precision: 0.8279030910609858 recall: 0.991\n",
      "valid f1: 0.9128630705394191 precision: 0.8468776732249786 recall: 0.99\n",
      "valid f1: 0.9091743119266055 precision: 0.8398305084745763 recall: 0.991\n",
      "valid f1: 0.8697552447552448 precision: 0.7725155279503105 recall: 0.995\n",
      "valid f1: 0.9087982832618027 precision: 0.9803240740740741 recall: 0.847\n",
      "valid f1: 0.9063509149623251 precision: 0.9813519813519813 recall: 0.842\n",
      "valid f1: 0.7108821635544109 precision: 0.9981916817359855 recall: 0.552\n",
      "valid f1: 0.9326424870466321 precision: 0.967741935483871 recall: 0.9\n",
      "valid f1: 0.8945945945945947 precision: 0.8139344262295082 recall: 0.993\n",
      "valid f1: 0.7183908045977011 precision: 0.5605381165919282 recall: 1.0\n",
      "valid f1: 0.9306551889048303 precision: 0.8918423464711274 recall: 0.973\n",
      "valid f1: 0.9211356466876972 precision: 0.9711751662971175 recall: 0.876\n",
      "valid f1: 0.9302809573361083 precision: 0.9696312364425163 recall: 0.894\n",
      "valid f1: 0.9284595300261097 precision: 0.9715846994535519 recall: 0.889\n",
      "valid f1: 0.9320891653706584 precision: 0.9677072120559742 recall: 0.899\n",
      "valid f1: 0.9356002060793406 precision: 0.9649309245483528 recall: 0.908\n",
      "valid f1: 0.9186915887850468 precision: 0.862280701754386 recall: 0.983\n",
      "valid f1: 0.9354527938342967 precision: 0.9024163568773235 recall: 0.971\n",
      "valid f1: 0.9443339960238569 precision: 0.9387351778656127 recall: 0.95\n",
      "valid f1: 0.92 precision: 0.9711111111111111 recall: 0.874\n",
      "valid f1: 0.9131238447319778 precision: 0.8487972508591065 recall: 0.988\n",
      "valid f1: 0.9419485108531046 precision: 0.9510703363914373 recall: 0.933\n",
      "valid f1: 0.9443609022556391 precision: 0.9467336683417086 recall: 0.942\n",
      "valid f1: 0.9448345035105314 precision: 0.9476861167002012 recall: 0.942\n",
      "valid f1: 0.9011943539630836 precision: 0.9857482185273159 recall: 0.83\n",
      "valid f1: 0.840201850294365 precision: 0.7249637155297532 recall: 0.999\n",
      "valid f1: 0.9386352479135984 precision: 0.9218900675024108 recall: 0.956\n",
      "valid f1: 0.9368318756073858 precision: 0.9111531190926276 recall: 0.964\n",
      "valid f1: 0.6427118644067796 precision: 0.9978947368421053 recall: 0.474\n",
      "valid f1: 0.7412060301507538 precision: 0.9966216216216216 recall: 0.59\n",
      "valid f1: 0.908113917248791 precision: 0.9814169570267132 recall: 0.845\n",
      "valid f1: 0.9379805228088159 precision: 0.9621451104100947 recall: 0.915\n",
      "valid f1: 0.9442755825734549 precision: 0.9568788501026694 recall: 0.932\n",
      "valid f1: 0.8731899956121106 precision: 0.777951524628616 recall: 0.995\n",
      "valid f1: 0.9242352941176469 precision: 0.8728888888888889 recall: 0.982\n",
      "valid f1: 0.8031026252983293 precision: 0.9955621301775148 recall: 0.673\n",
      "valid f1: 0.7432181345224824 precision: 0.5913660555884093 recall: 1.0\n",
      "valid f1: 0.6675567423230975 precision: 0.501002004008016 recall: 1.0\n",
      "valid f1: 0.6666666666666666 precision: 0.5 recall: 1.0\n",
      "valid f1: 0.6823609689525759 precision: 0.5178663904712584 recall: 1.0\n",
      "valid f1: 0.667779632721202 precision: 0.5012531328320802 recall: 1.0\n",
      "valid f1: 0.8697167755991285 precision: 0.7706563706563706 recall: 0.998\n",
      "valid f1: 0.41395717684377475 precision: 1.0 recall: 0.261\n",
      "valid f1: 0.6870491240123668 precision: 0.5232862375719518 recall: 1.0\n",
      "valid f1: 0.8734121769601402 precision: 0.7770849571317225 recall: 0.997\n",
      "valid f1: 0.741839762611276 precision: 0.589622641509434 recall: 1.0\n",
      "valid f1: 0.8776408450704225 precision: 0.7838050314465409 recall: 0.997\n",
      "valid f1: 0.6668889629876625 precision: 0.5002501250625313 recall: 1.0\n",
      "valid f1: 0.9414081733136387 precision: 0.92725509214355 recall: 0.956\n",
      "valid f1: 0.937015503875969 precision: 0.9088345864661654 recall: 0.967\n",
      "valid f1: 0.6805035726437564 precision: 0.5157297576070139 recall: 1.0\n",
      "valid f1: 0.8878005342831701 precision: 0.8001605136436597 recall: 0.997\n",
      "valid f1: 0.6763611768684478 precision: 0.510986203372509 recall: 1.0\n",
      "valid f1: 0.6828269033799932 precision: 0.5184033177812338 recall: 1.0\n",
      "valid f1: 0.6666666666666666 precision: 0.5 recall: 1.0\n",
      "valid f1: 0.6666666666666666 precision: 0.5 recall: 1.0\n",
      "valid f1: 0.6927606511950122 precision: 0.5299417064122947 recall: 1.0\n",
      "valid f1: 0.715307582260372 precision: 0.5567928730512249 recall: 1.0\n",
      "valid f1: 0.678886625933469 precision: 0.513874614594039 recall: 1.0\n",
      "valid f1: 0.940329218106996 precision: 0.9682203389830508 recall: 0.914\n",
      "valid f1: 0.9116835326586936 precision: 0.84412265758092 recall: 0.991\n",
      "valid f1: 0.7160759040458289 precision: 0.5577244841048522 recall: 1.0\n",
      "valid f1: 0.9295774647887325 precision: 0.9716466739367503 recall: 0.891\n",
      "valid f1: 0.0 precision: 0.0 recall: 0.0\n",
      "valid f1: 0.7659900421294523 precision: 0.6207324643078833 recall: 1.0\n",
      "valid f1: 0.6839945280437757 precision: 0.5197505197505198 recall: 1.0\n",
      "valid f1: 0.890673806336457 precision: 0.8041901692183723 recall: 0.998\n",
      "valid f1: 0.923943661971831 precision: 0.8707964601769912 recall: 0.984\n",
      "valid f1: 0.8688340807174889 precision: 0.9885204081632653 recall: 0.775\n",
      "valid f1: 0.7701193685021178 precision: 0.6261740763932373 recall: 1.0\n",
      "valid f1: 0.6823609689525759 precision: 0.5178663904712584 recall: 1.0\n",
      "valid f1: 0.6980802792321118 precision: 0.5361930294906166 recall: 1.0\n",
      "valid f1: 0.6666666666666666 precision: 0.5 recall: 1.0\n",
      "valid f1: 0.6666666666666666 precision: 0.5 recall: 1.0\n",
      "valid f1: 0.6818956699624957 precision: 0.5173305742369374 recall: 1.0\n",
      "valid f1: 0.6154910096818811 precision: 0.9977578475336323 recall: 0.445\n",
      "valid f1: 0.6668889629876625 precision: 0.5002501250625313 recall: 1.0\n",
      "valid f1: 0.9230046948356808 precision: 0.8699115044247787 recall: 0.983\n",
      "valid f1: 0.9264150943396227 precision: 0.8767857142857143 recall: 0.982\n",
      "valid f1: 0.880141530296329 precision: 0.789056304520222 recall: 0.995\n",
      "valid f1: 0.9233193277310925 precision: 0.9723451327433629 recall: 0.879\n",
      "valid f1: 0.7939538583929991 precision: 0.6591809775429326 recall: 0.998\n",
      "valid f1: 0.6668889629876625 precision: 0.5002501250625313 recall: 1.0\n",
      "valid f1: 0.8805309734513274 precision: 0.7896825396825397 recall: 0.995\n",
      "valid f1: 0.667779632721202 precision: 0.5012531328320802 recall: 1.0\n",
      "valid f1: 0.6682258603407952 precision: 0.5017561465127948 recall: 1.0\n",
      "valid f1: 0.6666666666666666 precision: 0.5 recall: 1.0\n",
      "valid f1: 0.8361960620025136 precision: 0.7195385724585436 recall: 0.998\n",
      "valid f1: 0.1343283582089552 precision: 1.0 recall: 0.072\n"
     ]
    },
    {
     "name": "stdout",
     "output_type": "stream",
     "text": [
      "valid f1: 0.9180633147113594 precision: 0.8588850174216028 recall: 0.986\n",
      "valid f1: 0.7067137809187279 precision: 0.546448087431694 recall: 1.0\n",
      "valid f1: 0.6675567423230975 precision: 0.501002004008016 recall: 1.0\n",
      "valid f1: 0.6906077348066298 precision: 0.5274261603375527 recall: 1.0\n",
      "valid f1: 0.7342143906020558 precision: 0.580046403712297 recall: 1.0\n",
      "valid f1: 0.9339080459770115 precision: 0.8961397058823529 recall: 0.975\n",
      "valid f1: 0.0 precision: 0.0 recall: 0.0\n",
      "valid f1: 0.0 precision: 0.0 recall: 0.0\n",
      "valid f1: 0.7176175098672407 precision: 0.5595970900951315 recall: 1.0\n",
      "valid f1: 0.9243065350258579 precision: 0.8722271517302573 recall: 0.983\n",
      "valid f1: 0.0 precision: 0.0 recall: 0.0\n",
      "valid f1: 0.6666666666666666 precision: 0.5 recall: 1.0\n",
      "valid f1: 0.6666666666666666 precision: 0.5 recall: 1.0\n",
      "valid f1: 0.926187118006582 precision: 0.8740017746228926 recall: 0.985\n",
      "valid f1: 0.7687576875768758 precision: 0.9984025559105432 recall: 0.625\n",
      "valid f1: 0.6927606511950122 precision: 0.5299417064122947 recall: 1.0\n",
      "valid f1: 0.46508058326937834 precision: 1.0 recall: 0.303\n",
      "valid f1: 0.25327510917030566 precision: 1.0 recall: 0.145\n",
      "valid f1: 0.0019980019980019984 precision: 1.0 recall: 0.001\n",
      "valid f1: 0.0 precision: 0.0 recall: 0.0\n"
     ]
    },
    {
     "name": "stderr",
     "output_type": "stream",
     "text": [
      "\r",
      " 40%|█████████████████████████████████▏                                                 | 2/5 [27:08<43:27, 869.01s/it]"
     ]
    },
    {
     "name": "stdout",
     "output_type": "stream",
     "text": [
      "valid f1: 0.0 precision: 0.0 recall: 0.0\n"
     ]
    },
    {
     "name": "stderr",
     "output_type": "stream",
     "text": [
      " 40%|█████████████████████████████████▏                                                 | 2/5 [27:13<40:50, 816.75s/it]\n",
      "  1%|▌                                                                              | 15/2000 [00:00<00:13, 146.02it/s]"
     ]
    },
    {
     "name": "stdout",
     "output_type": "stream",
     "text": [
      "valid f1: 0.9506048387096774 precision: 0.9583333333333334 recall: 0.943\n",
      "           get new model\n",
      "start initing valid kernel matrix...\n"
     ]
    },
    {
     "name": "stderr",
     "output_type": "stream",
     "text": [
      "100%|█████████████████████████████████████████████████████████████████████████████| 2000/2000 [00:12<00:00, 157.39it/s]\n",
      "  1%|▌                                                                              | 15/2000 [00:00<00:13, 143.11it/s]"
     ]
    },
    {
     "name": "stdout",
     "output_type": "stream",
     "text": [
      "finish initing valid kernel matrix...\n",
      "start initing kernel matrix...\n"
     ]
    },
    {
     "name": "stderr",
     "output_type": "stream",
     "text": [
      "100%|█████████████████████████████████████████████████████████████████████████████| 2000/2000 [00:07<00:00, 255.92it/s]\n",
      "  2%|█▋                                                                             | 43/2000 [00:00<00:04, 426.89it/s]"
     ]
    },
    {
     "name": "stdout",
     "output_type": "stream",
     "text": [
      "finish initing kernel matrix...\n",
      "start initing E...\n"
     ]
    },
    {
     "name": "stderr",
     "output_type": "stream",
     "text": [
      "100%|█████████████████████████████████████████████████████████████████████████████| 2000/2000 [00:04<00:00, 448.04it/s]\n",
      "  0%|                                                                                            | 0/5 [00:00<?, ?it/s]"
     ]
    },
    {
     "name": "stdout",
     "output_type": "stream",
     "text": [
      "finish initing E...\n",
      "valid f1: 0.0 precision: 0.0 recall: 0.0\n",
      "           get new model\n",
      "valid f1: 0.6626746506986028 precision: 0.9900596421471173 recall: 0.498\n",
      "           get new model\n",
      "valid f1: 0.943843379701185 precision: 0.973432518597237 recall: 0.916\n",
      "           get new model\n",
      "valid f1: 0.021760633036597428 precision: 1.0 recall: 0.011\n",
      "valid f1: 0.06201550387596899 precision: 1.0 recall: 0.032\n",
      "valid f1: 0.7696456086286594 precision: 0.6259398496240601 recall: 0.999\n",
      "valid f1: 0.015873015873015872 precision: 1.0 recall: 0.008\n",
      "valid f1: 0.6684491978609626 precision: 0.5020080321285141 recall: 1.0\n",
      "valid f1: 0.624484181568088 precision: 1.0 recall: 0.454\n",
      "valid f1: 0.9256661991584854 precision: 0.8691834942932397 recall: 0.99\n"
     ]
    },
    {
     "name": "stderr",
     "output_type": "stream",
     "text": [
      "\r",
      "  0%|                                                                                            | 0/5 [00:49<?, ?it/s]"
     ]
    },
    {
     "name": "stdout",
     "output_type": "stream",
     "text": [
      "valid f1: 0.9654491609081934 precision: 0.9532163742690059 recall: 0.978\n",
      "           get new model\n"
     ]
    },
    {
     "name": "stderr",
     "output_type": "stream",
     "text": [
      "\n"
     ]
    }
   ],
   "source": [
    "models = {}\n",
    "\n",
    "for i in range(10):\n",
    "    for j in range(i+1, 10):\n",
    "        \n",
    "        print('* train model of {} and {}'.format(i, j))\n",
    "        \n",
    "        svm = SVM(C=0.001)\n",
    "    \n",
    "        train_data, train_labels = make_data_of_digit_i_and_j(X_train, y_train, i, j)\n",
    "        valid_data, valid_labels = make_data_of_digit_i_and_j(X_valid, y_valid, i, j)\n",
    "        \n",
    "        train_data = np.array(train_data)\n",
    "        valid_data = np.array(valid_data)\n",
    "        \n",
    "        svm.train(train_data, train_labels, valid_data, valid_labels, epochs=5, kernel_type='poly')\n",
    "        \n",
    "        models[str(i) + str(j)] = svm"
   ]
  },
  {
   "cell_type": "code",
   "execution_count": 18,
   "metadata": {
    "scrolled": false
   },
   "outputs": [
    {
     "name": "stdout",
     "output_type": "stream",
     "text": [
      "0.992039800995025\n",
      "0.9734069242348219\n",
      "0.9791136016301578\n",
      "0.968605249613999\n",
      "0.9711209006363191\n",
      "0.965986394557823\n",
      "0.9905800694100148\n",
      "0.9770290964777948\n",
      "0.9546106067845198\n",
      "0.9715447154471545\n",
      "0.9736842105263158\n",
      "0.9523310633839707\n",
      "0.9736040609137055\n",
      "0.9651162790697674\n",
      "0.9601593625498007\n",
      "0.9589570255915016\n",
      "0.9849094567404427\n",
      "0.971201588877855\n",
      "0.975485188968335\n",
      "0.9633401221995926\n",
      "0.9595765158806545\n",
      "0.9623905203503349\n",
      "0.9509946627850557\n",
      "0.968335035750766\n",
      "0.9754098360655737\n",
      "0.9552088575742325\n",
      "0.9675544794188862\n",
      "0.9782823297137216\n",
      "0.9509172037679722\n",
      "0.9595079446437725\n",
      "0.9821428571428571\n",
      "0.9652471855115028\n",
      "0.9734251968503937\n",
      "0.9536489151873767\n",
      "0.9573507275464124\n",
      "0.958783120706575\n",
      "0.9745158002038735\n",
      "0.9528636594019261\n",
      "0.9644879053010809\n",
      "0.9886082218920257\n",
      "0.9748396645288604\n",
      "0.9600385170919596\n",
      "0.9802371541501976\n",
      "0.9506048387096774\n",
      "0.9654491609081934\n"
     ]
    }
   ],
   "source": [
    "for key in models.keys():\n",
    "    print(models[key].best_f1)"
   ]
  },
  {
   "cell_type": "code",
   "execution_count": 25,
   "metadata": {
    "scrolled": false
   },
   "outputs": [
    {
     "name": "stderr",
     "output_type": "stream",
     "text": [
      "100%|██████████████████████████████████████████████████████████████████████████████| 1000/1000 [06:21<00:00,  2.62it/s]"
     ]
    },
    {
     "name": "stdout",
     "output_type": "stream",
     "text": [
      "acc on test data of custom model: 0.87\n"
     ]
    },
    {
     "name": "stderr",
     "output_type": "stream",
     "text": [
      "\n"
     ]
    }
   ],
   "source": [
    "correct = 0\n",
    "correct_list = []\n",
    "error_list = []\n",
    "for i in tqdm(range(len(X_test[:1000]))):\n",
    "    prob_list = []\n",
    "    for key in models.keys():\n",
    "        p = models[key].predict(X_test[i], opt='test')\n",
    "        \n",
    "        py = None\n",
    "        if p == 1:\n",
    "            py = int(key[0])\n",
    "        elif p == -1:\n",
    "            py = int(key[1])\n",
    "        \n",
    "        prob_list.append(py)\n",
    "    \n",
    "    p = Counter(prob_list).most_common(1)[0][0]\n",
    "    \n",
    "    if p == y_test[i]:\n",
    "        correct += 1\n",
    "        correct_list.append(p)\n",
    "    \n",
    "    else:\n",
    "        error_list.append([p, y_test[i]])\n",
    "print('acc on test data of custom model: {}'.format(correct/len(X_test[:1000])))"
   ]
  },
  {
   "cell_type": "code",
   "execution_count": 26,
   "metadata": {},
   "outputs": [],
   "source": [
    "ans = []\n",
    "for i in range(len(X_test[:1000])):\n",
    "    ans.append(y_test[i])"
   ]
  },
  {
   "cell_type": "code",
   "execution_count": 27,
   "metadata": {},
   "outputs": [
    {
     "name": "stdout",
     "output_type": "stream",
     "text": [
      "recall of digit 0: 0.9791666666666666\n",
      "recall of digit 1: 0.9291338582677166\n",
      "recall of digit 2: 0.8409090909090909\n",
      "recall of digit 3: 0.8583333333333333\n",
      "recall of digit 4: 0.9139784946236559\n",
      "recall of digit 5: 0.8636363636363636\n",
      "recall of digit 6: 0.7433628318584071\n",
      "recall of digit 7: 0.8764044943820225\n",
      "recall of digit 8: 0.851063829787234\n",
      "recall of digit 9: 0.8478260869565217\n"
     ]
    }
   ],
   "source": [
    "a = dict(Counter(correct_list))\n",
    "b = dict(Counter(ans))\n",
    "for i in range(10):\n",
    "    if i in a.keys():\n",
    "        print('recall of digit {}: {}'.format(i, a[i]/b[i]))\n",
    "    else:\n",
    "        print('recall of digit {}: {}'.format(i, 0.0))"
   ]
  },
  {
   "cell_type": "code",
   "execution_count": 28,
   "metadata": {},
   "outputs": [
    {
     "data": {
      "text/plain": [
       "Counter({'0->5': 1,\n",
       "         '0->8': 1,\n",
       "         '1->2': 1,\n",
       "         '1->3': 1,\n",
       "         '1->4': 1,\n",
       "         '1->5': 3,\n",
       "         '1->6': 1,\n",
       "         '1->8': 2,\n",
       "         '2->0': 3,\n",
       "         '2->1': 2,\n",
       "         '2->3': 2,\n",
       "         '2->4': 4,\n",
       "         '2->7': 1,\n",
       "         '2->8': 2,\n",
       "         '3->0': 1,\n",
       "         '3->2': 4,\n",
       "         '3->5': 5,\n",
       "         '3->7': 3,\n",
       "         '3->8': 3,\n",
       "         '3->9': 1,\n",
       "         '4->2': 1,\n",
       "         '4->6': 2,\n",
       "         '4->8': 1,\n",
       "         '4->9': 4,\n",
       "         '5->2': 3,\n",
       "         '5->3': 1,\n",
       "         '5->4': 4,\n",
       "         '5->8': 1,\n",
       "         '5->9': 3,\n",
       "         '6->0': 4,\n",
       "         '6->1': 2,\n",
       "         '6->2': 9,\n",
       "         '6->4': 8,\n",
       "         '6->5': 4,\n",
       "         '6->8': 2,\n",
       "         '7->1': 4,\n",
       "         '7->2': 4,\n",
       "         '7->4': 2,\n",
       "         '7->9': 1,\n",
       "         '8->1': 1,\n",
       "         '8->2': 2,\n",
       "         '8->3': 3,\n",
       "         '8->4': 3,\n",
       "         '8->5': 2,\n",
       "         '8->7': 1,\n",
       "         '8->9': 2,\n",
       "         '9->0': 1,\n",
       "         '9->3': 1,\n",
       "         '9->4': 3,\n",
       "         '9->7': 8,\n",
       "         '9->8': 1})"
      ]
     },
     "execution_count": 28,
     "metadata": {},
     "output_type": "execute_result"
    }
   ],
   "source": [
    "s = []\n",
    "for error in error_list:\n",
    "    key = str(error[1]) + '->' + str(error[0])\n",
    "    s.append(key)\n",
    "\n",
    "s.sort()\n",
    "Counter(s)"
   ]
  },
  {
   "cell_type": "code",
   "execution_count": null,
   "metadata": {},
   "outputs": [],
   "source": []
  }
 ],
 "metadata": {
  "kernelspec": {
   "display_name": "Python 3",
   "language": "python",
   "name": "python3"
  },
  "language_info": {
   "codemirror_mode": {
    "name": "ipython",
    "version": 3
   },
   "file_extension": ".py",
   "mimetype": "text/x-python",
   "name": "python",
   "nbconvert_exporter": "python",
   "pygments_lexer": "ipython3",
   "version": "3.7.5"
  }
 },
 "nbformat": 4,
 "nbformat_minor": 4
}
