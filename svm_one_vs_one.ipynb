{
 "cells": [
  {
   "cell_type": "code",
   "execution_count": 1,
   "metadata": {},
   "outputs": [],
   "source": [
    "import numpy as np\n",
    "import matplotlib.pyplot as plt\n",
    "from scipy.io import loadmat\n",
    "from scipy.sparse import coo_matrix\n",
    "from sklearn.utils import shuffle\n",
    "from sklearn.model_selection import train_test_split\n",
    "import copy\n",
    "import pickle\n",
    "import pandas as pd\n",
    "from tqdm import tqdm\n",
    "from typing import Counter\n",
    "import math\n",
    "from sklearn.decomposition import PCA\n",
    "from sklearn.metrics import f1_score, recall_score, precision_score\n",
    "import threading\n",
    "from sklearn.svm import SVC\n",
    "\n",
    "\n",
    "def load_data():\n",
    "    data = loadmat(\"data/mnist_all.mat\")\n",
    "\n",
    "    # print(data.keys())\n",
    "\n",
    "    train_data = pd.DataFrame()\n",
    "    test_data = pd.DataFrame()\n",
    "\n",
    "    for i in range(10):\n",
    "        temp_df = pd.DataFrame(data[\"train\" + str(i)])\n",
    "        temp_df['label'] = i\n",
    "        train_data = train_data.append(temp_df)\n",
    "        temp_df = pd.DataFrame(data[\"test\" + str(i)])\n",
    "        temp_df['label'] = i\n",
    "        test_data = test_data.append(temp_df)\n",
    "\n",
    "    train_data = shuffle(train_data)\n",
    "    test_data = shuffle(test_data)\n",
    "\n",
    "    train_labels = np.array(train_data['label'])\n",
    "    test_labels = np.array(test_data['label'])\n",
    "\n",
    "    train_data = train_data.drop('label', axis=1)\n",
    "    test_data = test_data.drop('label', axis=1)\n",
    "    \n",
    "    train_data = np.array(train_data) / 255\n",
    "    test_data = np.array(test_data) / 255\n",
    "    \n",
    "    pca = PCA(0.95)\n",
    "    pca.fit(train_data)\n",
    "    train_data = pca.transform(train_data)\n",
    "    test_data = pca.transform(test_data)\n",
    "\n",
    "    return train_data, test_data, train_labels, test_labels\n",
    "\n",
    "\n",
    "X_train, X_test, y_train, y_test = load_data()\n",
    "\n",
    "X_train, X_valid, y_train, y_valid = train_test_split(\n",
    "    X_train, y_train, test_size=0.2, random_state=0)"
   ]
  },
  {
   "cell_type": "code",
   "execution_count": 2,
   "metadata": {},
   "outputs": [
    {
     "name": "stdout",
     "output_type": "stream",
     "text": [
      "(48000, 154)\n"
     ]
    }
   ],
   "source": [
    "print(X_train.shape)"
   ]
  },
  {
   "cell_type": "code",
   "execution_count": 3,
   "metadata": {},
   "outputs": [],
   "source": [
    "class SVM:\n",
    "    def __init__(self, C):\n",
    "        self.C = C\n",
    "        self.b = 0\n",
    "    \n",
    "    def train(self, X_data, Y_data, valid_x, valid_y, epochs, kernel_type):\n",
    "        self.x_num = X_data.shape[0]\n",
    "        \n",
    "        self.epochs = epochs\n",
    "        self.X_data = X_data\n",
    "        self.Y_data = Y_data\n",
    "        \n",
    "        self.valid_x  = valid_x\n",
    "        self.valid_y = valid_y\n",
    "        \n",
    "        self.E = np.zeros(self.x_num)\n",
    "        self.alpha = np.zeros(self.x_num)\n",
    "        \n",
    "        self.best_alpha = None\n",
    "        self.best_f1 = 0\n",
    "        self.best_b = None\n",
    "        \n",
    "        self.kernel_type = kernel_type\n",
    "        \n",
    "        self.kernel_matrix = np.zeros(shape=(self.x_num, self.x_num))\n",
    "        \n",
    "        self.valid_kernel_matrix = np.zeros(shape=(self.x_num, len(self.valid_y)))\n",
    "        \n",
    "        self.init_valid_kernel_matrix()\n",
    "        self.init_kernel_matrix()\n",
    "        self.init_E()\n",
    "        \n",
    "        pair_changed = 0\n",
    "        for epoch in tqdm(range(self.epochs)):\n",
    "            for i in range(self.x_num):\n",
    "    \n",
    "                if not ((self.Y_data[i] * self.E[i] < -0.001) and (self.alpha[i] <self.C) or \\\n",
    "                     (self.Y_data[i] * self.E[i] > 0.001) and (self.alpha[i] > 0)):\n",
    "                    continue\n",
    "                \n",
    "                val, j = self.select_j(i)\n",
    "                \n",
    "                while j < self.x_num:\n",
    "                    if i == j:\n",
    "                        j += 1\n",
    "                        continue\n",
    "                    if self.Y_data[i] == self.Y_data[j]:\n",
    "                        L = max(0, self.alpha[j] + self.alpha[i] - self.C)\n",
    "                        H = min(self.C, self.alpha[j] + self.alpha[i])\n",
    "                    else:\n",
    "                        L = max(0, self.alpha[j] - self.alpha[i])\n",
    "                        H = min(self.C, self.C + self.alpha[j] - self.alpha[i])\n",
    "\n",
    "                    if L == H:\n",
    "                        j += 1\n",
    "                        continue\n",
    "                    old_alpha_j = self.alpha[j]\n",
    "                    yita = self.kernel_matrix[i][i] + self.kernel_matrix[j][j] \\\n",
    "                               - 2 * self.kernel_matrix[i][j]\n",
    "\n",
    "                    if yita <= 0:\n",
    "                        j += 1\n",
    "                        continue\n",
    "\n",
    "                    new_alpha_unc_j = old_alpha_j + self.Y_data[j] * (self.E[i] - self.E[j]) / yita\n",
    "\n",
    "                    if new_alpha_unc_j >= H:\n",
    "                        new_alpha_clippd_j = H\n",
    "                    elif new_alpha_unc_j <= L:\n",
    "                        new_alpha_clippd_j = L\n",
    "                    else:\n",
    "                        new_alpha_clippd_j = new_alpha_unc_j\n",
    "\n",
    "                    if(np.abs(old_alpha_j-new_alpha_clippd_j) <= 1e-5):\n",
    "                        j += 1\n",
    "                        continue\n",
    "                    \n",
    "                    break\n",
    "                \n",
    "                if j >= self.x_num:\n",
    "                    continue\n",
    "                    \n",
    "                self.alpha[j] = new_alpha_clippd_j\n",
    "                \n",
    "                old_alpha_i = self.alpha[i]\n",
    "                self.alpha[i] = old_alpha_i + self.Y_data[i] * self.Y_data[j] * (old_alpha_j - self.alpha[j])\n",
    "\n",
    "                old_b = self.b\n",
    "\n",
    "                bi_new = -self.E[i] - self.Y_data[i] * self.kernel_matrix[i][i] * (self.alpha[i] - old_alpha_i) \\\n",
    "                             - self.Y_data[j] * self.kernel_matrix[i][j] * (self.alpha[j] - old_alpha_j) + old_b\n",
    "\n",
    "                bj_new = -self.E[j] - self.Y_data[i] * self.kernel_matrix[i][j] * (self.alpha[i] - old_alpha_i) \\\n",
    "                             - self.Y_data[j] * self.kernel_matrix[j][j] * (self.alpha[j] - old_alpha_j) + old_b\n",
    "                \n",
    "                if self.alpha[i] > 0 and self.alpha[i] < self.C:\n",
    "                    self.b = bi_new\n",
    "                elif self.alpha[j] > 0 and self.alpha[j] < self.C:\n",
    "                    self.b = bj_new\n",
    "                else:\n",
    "                    self.b = (bi_new + bj_new)/2.0\n",
    "\n",
    "                self.update_E(i)\n",
    "                self.update_E(j)\n",
    "\n",
    "                \n",
    "                pair_changed += 1\n",
    "                if pair_changed % 10 == 0:\n",
    "                    state = self.valid()\n",
    "                    if state is True:\n",
    "                        return\n",
    "        \n",
    "\n",
    "    def init_kernel_matrix(self):\n",
    "        print('start initing kernel matrix...')\n",
    "        num = self.x_num\n",
    "        for i in tqdm(range(0, num)):\n",
    "            for j in range(0, num):\n",
    "                if i > j:\n",
    "                    self.kernel_matrix[i][j] = self.kernel_matrix[j][i]\n",
    "                    continue\n",
    "                if self.kernel_type == 'rbf':\n",
    "                    self.kernel_matrix[i][j] = self.rbf_kernel(self.X_data[i], self.X_data[j])\n",
    "                elif self.kernel_type == 'poly':\n",
    "                    self.kernel_matrix[i][j] = self.polynominal_kernel(self.X_data[i], self.X_data[j])\n",
    "        print('finish initing kernel matrix...')\n",
    "    \n",
    "    \n",
    "    def init_valid_kernel_matrix(self):\n",
    "        print('start initing valid kernel matrix...')\n",
    "        for i in tqdm(range(self.x_num)):\n",
    "            for j in range(len(self.valid_y)):\n",
    "                if self.kernel_type == 'rbf':\n",
    "                    self.valid_kernel_matrix[i][j] = self.rbf_kernel(self.X_data[i], self.valid_x[j])\n",
    "                elif self.kernel_type == 'poly':\n",
    "                    self.valid_kernel_matrix[i][j] = self.polynominal_kernel(self.X_data[i], self.valid_x[j])\n",
    "        print('finish initing valid kernel matrix...')\n",
    "        \n",
    "\n",
    "    def update_E(self, index):\n",
    "        \n",
    "        sv = self.get_support_vectors()\n",
    "        s = 0\n",
    "        for i in range(len(sv)):\n",
    "            s += self.Y_data[i]*self.alpha[i]*self.kernel_matrix[i][index]\n",
    "        s += self.b - self.Y_data[index]\n",
    "        \n",
    "       \n",
    "        self.E[index] = s\n",
    "        \n",
    "        \n",
    "\n",
    "    def init_E(self):\n",
    "        print('start initing E...')\n",
    "        for i in tqdm(range(self.x_num)):\n",
    "            self.E[i] = self.g_x_with_kernel_matrix(i) - self.Y_data[i]\n",
    "        print('finish initing E...')\n",
    "    \n",
    "\n",
    "    def select_j(self, i):\n",
    "        max_abs = 0\n",
    "        max_index = -1\n",
    "        for j in range(self.x_num):\n",
    "            if i == j:\n",
    "                continue\n",
    "                \n",
    "            temp_abs = np.abs(self.E[i]-self.E[j])\n",
    "            if temp_abs > max_abs:\n",
    "                max_abs = temp_abs\n",
    "                max_index = j\n",
    "        \n",
    "        return max_abs, max_index\n",
    "    \n",
    "\n",
    "    def predict(self, x, opt):\n",
    "        s = 0\n",
    "        if opt == 'valid':\n",
    "            for i in range(self.x_num):\n",
    "                s += self.alpha[i] * self.Y_data[i] * self.valid_kernel_matrix[i][x]\n",
    "            s += self.b\n",
    "        elif opt == 'test':\n",
    "            for i in range(self.x_num):\n",
    "                if self.kernel_type == 'rbf':\n",
    "                    s += self.best_alpha[i] * self.Y_data[i] * self.rbf_kernel(self.X_data[i], x)\n",
    "                elif self.kernel_type == 'poly':\n",
    "                    s += self.best_alpha[i] * self.Y_data[i] * self.polynominal_kernel(self.X_data[i], x)\n",
    "            s += self.best_b\n",
    "        \n",
    "        return np.sign(s)\n",
    "    \n",
    "\n",
    "    def g_x(self, x):\n",
    "        s = 0\n",
    "        for k in range(self.x_num):\n",
    "            if self.kernel_type == 'rbf':\n",
    "                s += self.alpha[k]*self.Y_data[k]*self.rbf_kernel(x, self.X_data[k])\n",
    "            elif self.kernel_type == 'poly':\n",
    "                s += self.alpha[k]*self.Y_data[k]*self.polynominal_kernel(x, self.X_data[k])\n",
    "        return s + self.b\n",
    "    \n",
    "    \n",
    "\n",
    "    def g_x_with_kernel_matrix(self, i):\n",
    "        s = 0\n",
    "        for k in range(self.x_num):\n",
    "            s += self.alpha[k]*self.Y_data[k]*self.kernel_matrix[i][k]\n",
    "        \n",
    "        return s + self.b\n",
    "    \n",
    "\n",
    "    def rbf_kernel(self, x, z):\n",
    "        gamma = 0.5     # gamma > 0\n",
    "        return np.exp(-gamma*np.linalg.norm(x-z))\n",
    "    \n",
    "\n",
    "    def get_support_vectors(self):\n",
    "        sv = []\n",
    "        for i in range(self.x_num):\n",
    "            if self.alpha[i] > 0 and self.alpha[i] < self.C:\n",
    "                sv.append(i)\n",
    "                \n",
    "        return sv\n",
    "    \n",
    "    \n",
    "    def predict_of_probability(self, x):\n",
    "        s = 0\n",
    "       \n",
    "        for i in range(self.x_num):\n",
    "            if self.kernel_type == 'rbf':\n",
    "                s += self.best_alpha[i] * self.Y_data[i] * self.rbf_kernel(self.X_data[i], x)\n",
    "            elif self.kernel_type == 'poly':\n",
    "                s += self.best_alpha[i] * self.Y_data[i] * self.polynominal_kernel(self.X_data[i], x)\n",
    "                \n",
    "        s += self.best_b\n",
    "        \n",
    "        return s\n",
    "    \n",
    "    \n",
    "    def polynominal_kernel(self, x, z):\n",
    "        return math.pow(np.dot(x, z) + 1, 3)\n",
    "    \n",
    "    \n",
    "    def valid(self):\n",
    "        y_predict = []\n",
    "        for i in range(len(self.valid_x)):\n",
    "            p = self.predict(i, opt='valid')\n",
    "            y_predict.append(p)\n",
    "        \n",
    "        valid_f1 = f1_score(self.valid_y, y_predict)\n",
    "        print('valid f1: {} precision: {} recall: {}'.format(valid_f1 , precision_score(self.valid_y, y_predict) \\\n",
    "                                                           , recall_score(self.valid_y, y_predict)))\n",
    "        \n",
    "        if valid_f1 >= self.best_f1:\n",
    "            self.best_f1 = valid_f1\n",
    "            self.best_alpha = copy.deepcopy(self.alpha)\n",
    "            self.best_b = self.b\n",
    "            print('           get new model')\n",
    "            \n",
    "            if self.best_f1 >= 0.95:\n",
    "                return True\n",
    "            else:\n",
    "                return False"
   ]
  },
  {
   "cell_type": "code",
   "execution_count": 4,
   "metadata": {},
   "outputs": [],
   "source": [
    "def make_data_of_digit_i_and_j(x, y, digit_i, digit_j):\n",
    "    pos_sample_num = 0\n",
    "    neg_sample_num = 0\n",
    "    _data = []\n",
    "    \n",
    "    for i in range(len(x)):\n",
    "        if y[i] == digit_i and pos_sample_num < 1000:\n",
    "            _data.append([x[i], 1])\n",
    "            pos_sample_num += 1\n",
    "\n",
    "        elif y[i] == digit_j and neg_sample_num < 1000:\n",
    "            neg_sample_num += 1\n",
    "            _data.append([x[i], -1])\n",
    "\n",
    "        else:\n",
    "            continue\n",
    "        \n",
    "    shuffle(_data)\n",
    "    data =  []\n",
    "    labels =[]\n",
    "    \n",
    "    for i in range(len(_data)):\n",
    "        data.append(_data[i][0])\n",
    "        labels.append(_data[i][1])\n",
    "    \n",
    "    return data, labels"
   ]
  },
  {
   "cell_type": "code",
   "execution_count": 9,
   "metadata": {},
   "outputs": [
    {
     "name": "stderr",
     "output_type": "stream",
     "text": [
      "  1%|▌                                                                              | 13/2000 [00:00<00:15, 126.55it/s]"
     ]
    },
    {
     "name": "stdout",
     "output_type": "stream",
     "text": [
      "start initing valid kernel matrix...\n"
     ]
    },
    {
     "name": "stderr",
     "output_type": "stream",
     "text": [
      "100%|█████████████████████████████████████████████████████████████████████████████| 2000/2000 [00:18<00:00, 110.19it/s]\n",
      "  0%|▎                                                                                | 9/2000 [00:00<00:25, 79.16it/s]"
     ]
    },
    {
     "name": "stdout",
     "output_type": "stream",
     "text": [
      "finish initing valid kernel matrix...\n",
      "start initing kernel matrix...\n"
     ]
    },
    {
     "name": "stderr",
     "output_type": "stream",
     "text": [
      "100%|█████████████████████████████████████████████████████████████████████████████| 2000/2000 [00:11<00:00, 176.63it/s]\n",
      "  1%|▉                                                                              | 23/2000 [00:00<00:08, 223.90it/s]"
     ]
    },
    {
     "name": "stdout",
     "output_type": "stream",
     "text": [
      "finish initing kernel matrix...\n",
      "start initing E...\n"
     ]
    },
    {
     "name": "stderr",
     "output_type": "stream",
     "text": [
      "100%|█████████████████████████████████████████████████████████████████████████████| 2000/2000 [00:07<00:00, 261.16it/s]\n",
      "  0%|                                                                                            | 0/5 [00:00<?, ?it/s]"
     ]
    },
    {
     "name": "stdout",
     "output_type": "stream",
     "text": [
      "finish initing E...\n",
      "valid f1: 0.6812411847672778 precision: 0.5261437908496732 recall: 0.966\n",
      "           get new model\n",
      "valid f1: 0.6759040216289287 precision: 0.5104645227156712 recall: 1.0\n",
      "valid f1: 0.8311148086522463 precision: 0.7115384615384616 recall: 0.999\n",
      "           get new model\n",
      "valid f1: 0.6798096532970768 precision: 0.5149330587023687 recall: 1.0\n"
     ]
    },
    {
     "name": "stderr",
     "output_type": "stream",
     "text": [
      "  0%|                                                                                            | 0/5 [00:37<?, ?it/s]\n",
      "  0%|▍                                                                               | 10/2000 [00:00<00:21, 93.71it/s]"
     ]
    },
    {
     "name": "stdout",
     "output_type": "stream",
     "text": [
      "valid f1: 0.9715447154471545 precision: 0.987603305785124 recall: 0.956\n",
      "           get new model\n"
     ]
    },
    {
     "name": "stderr",
     "output_type": "stream",
     "text": [
      "100%|█████████████████████████████████████████████████████████████████████████████| 2000/2000 [00:19<00:00, 102.54it/s]\n"
     ]
    },
    {
     "name": "stdout",
     "output_type": "stream",
     "text": [
      "test f1: 0.9720670391061452 precision: 0.9876160990712074 recall: 0.957\n"
     ]
    }
   ],
   "source": [
    "def train_single_model(C, kernel_type):\n",
    "    svm = SVM(C=C)\n",
    "    \n",
    "    train_data, train_labels = make_data_of_digit_i_and_j(X_train, y_train, 1, 2)\n",
    "    valid_data, valid_labels = make_data_of_digit_i_and_j(X_valid, y_valid, 1, 2)\n",
    "    test_data, test_labels = make_data_of_digit_i_and_j(X_test, y_test, 1, 2)\n",
    "    \n",
    "    train_data = np.array(train_data)\n",
    "    valid_data = np.array(valid_data)\n",
    "    test_data = np.array(test_data)\n",
    "    \n",
    "    svm.train(train_data, train_labels, valid_data, valid_labels, epochs=5, kernel_type=kernel_type)\n",
    "        \n",
    "    predict_list = []\n",
    "    for i in tqdm(range(len(test_data))):\n",
    "        p = svm.predict(test_data[i], opt='test')\n",
    "        predict_list.append(p)\n",
    "        \n",
    "    print('test f1: {} precision: {} recall: {}'.format(f1_score(test_labels, predict_list) , \\\n",
    "                                                            precision_score(test_labels, predict_list) \\\n",
    "                                                           , recall_score(test_labels, predict_list)))\n",
    "    \n",
    "# single_model(0.1, 'rbf')\n",
    "train_single_model(0.001, 'poly')\n",
    "# single_model(10, 'rbf')\n",
    "# single_model(100, 'rbf')\n",
    "# single_model(1000, 'rbf')\n",
    "# single_model(10000, 'rbf')\n",
    "# single_model(100000, 'rbf')"
   ]
  },
  {
   "cell_type": "code",
   "execution_count": null,
   "metadata": {
    "scrolled": false
   },
   "outputs": [
    {
     "name": "stderr",
     "output_type": "stream",
     "text": [
      "  1%|▌                                                                              | 14/2000 [00:00<00:14, 137.24it/s]"
     ]
    },
    {
     "name": "stdout",
     "output_type": "stream",
     "text": [
      "start initing valid kernel matrix...\n"
     ]
    },
    {
     "name": "stderr",
     "output_type": "stream",
     "text": [
      "100%|█████████████████████████████████████████████████████████████████████████████| 2000/2000 [00:18<00:00, 105.80it/s]\n",
      "  1%|▍                                                                              | 12/2000 [00:00<00:17, 115.70it/s]"
     ]
    },
    {
     "name": "stdout",
     "output_type": "stream",
     "text": [
      "finish initing valid kernel matrix...\n",
      "start initing kernel matrix...\n"
     ]
    },
    {
     "name": "stderr",
     "output_type": "stream",
     "text": [
      "100%|█████████████████████████████████████████████████████████████████████████████| 2000/2000 [00:10<00:00, 193.65it/s]\n",
      "  2%|█▍                                                                             | 35/2000 [00:00<00:05, 345.72it/s]"
     ]
    },
    {
     "name": "stdout",
     "output_type": "stream",
     "text": [
      "finish initing kernel matrix...\n",
      "start initing E...\n"
     ]
    },
    {
     "name": "stderr",
     "output_type": "stream",
     "text": [
      "100%|█████████████████████████████████████████████████████████████████████████████| 2000/2000 [00:05<00:00, 338.46it/s]\n",
      "  0%|                                                                                            | 0/5 [00:00<?, ?it/s]"
     ]
    },
    {
     "name": "stdout",
     "output_type": "stream",
     "text": [
      "finish initing E...\n",
      "valid f1: 0.707175177763413 precision: 1.0 recall: 0.547\n",
      "           get new model\n"
     ]
    },
    {
     "name": "stderr",
     "output_type": "stream",
     "text": [
      "  0%|                                                                                            | 0/5 [00:12<?, ?it/s]\n",
      "  1%|▌                                                                              | 13/2000 [00:00<00:16, 124.14it/s]"
     ]
    },
    {
     "name": "stdout",
     "output_type": "stream",
     "text": [
      "valid f1: 0.992039800995025 precision: 0.9871287128712871 recall: 0.997\n",
      "           get new model\n",
      "start initing valid kernel matrix...\n"
     ]
    },
    {
     "name": "stderr",
     "output_type": "stream",
     "text": [
      "100%|█████████████████████████████████████████████████████████████████████████████| 2000/2000 [00:16<00:00, 121.22it/s]\n",
      "  1%|▌                                                                              | 13/2000 [00:00<00:16, 121.82it/s]"
     ]
    },
    {
     "name": "stdout",
     "output_type": "stream",
     "text": [
      "finish initing valid kernel matrix...\n",
      "start initing kernel matrix...\n"
     ]
    },
    {
     "name": "stderr",
     "output_type": "stream",
     "text": [
      "100%|█████████████████████████████████████████████████████████████████████████████| 2000/2000 [00:08<00:00, 243.62it/s]\n",
      "  2%|█▊                                                                             | 45/2000 [00:00<00:04, 448.86it/s]"
     ]
    },
    {
     "name": "stdout",
     "output_type": "stream",
     "text": [
      "finish initing kernel matrix...\n",
      "start initing E...\n"
     ]
    },
    {
     "name": "stderr",
     "output_type": "stream",
     "text": [
      "100%|█████████████████████████████████████████████████████████████████████████████| 2000/2000 [00:04<00:00, 440.39it/s]\n",
      "  0%|                                                                                            | 0/5 [00:00<?, ?it/s]"
     ]
    },
    {
     "name": "stdout",
     "output_type": "stream",
     "text": [
      "finish initing E...\n",
      "valid f1: 0.6734006734006733 precision: 0.5076142131979695 recall: 1.0\n",
      "           get new model\n",
      "valid f1: 0.7547169811320755 precision: 0.6060606060606061 recall: 1.0\n",
      "           get new model\n",
      "valid f1: 0.7160759040458289 precision: 0.5577244841048522 recall: 1.0\n"
     ]
    },
    {
     "name": "stderr",
     "output_type": "stream",
     "text": [
      "  0%|                                                                                            | 0/5 [00:19<?, ?it/s]\n",
      "  1%|▋                                                                              | 16/2000 [00:00<00:12, 159.62it/s]"
     ]
    },
    {
     "name": "stdout",
     "output_type": "stream",
     "text": [
      "valid f1: 0.9734069242348219 precision: 0.9768378650553877 recall: 0.97\n",
      "           get new model\n",
      "start initing valid kernel matrix...\n"
     ]
    },
    {
     "name": "stderr",
     "output_type": "stream",
     "text": [
      "100%|█████████████████████████████████████████████████████████████████████████████| 2000/2000 [00:12<00:00, 154.33it/s]\n",
      "  1%|▋                                                                              | 17/2000 [00:00<00:12, 164.68it/s]"
     ]
    },
    {
     "name": "stdout",
     "output_type": "stream",
     "text": [
      "finish initing valid kernel matrix...\n",
      "start initing kernel matrix...\n"
     ]
    },
    {
     "name": "stderr",
     "output_type": "stream",
     "text": [
      "100%|█████████████████████████████████████████████████████████████████████████████| 2000/2000 [00:07<00:00, 254.52it/s]\n",
      "  5%|███▉                                                                           | 99/2000 [00:00<00:03, 487.96it/s]"
     ]
    },
    {
     "name": "stdout",
     "output_type": "stream",
     "text": [
      "finish initing kernel matrix...\n",
      "start initing E...\n"
     ]
    },
    {
     "name": "stderr",
     "output_type": "stream",
     "text": [
      "100%|█████████████████████████████████████████████████████████████████████████████| 2000/2000 [00:04<00:00, 439.20it/s]\n",
      "  0%|                                                                                            | 0/5 [00:00<?, ?it/s]"
     ]
    },
    {
     "name": "stdout",
     "output_type": "stream",
     "text": [
      "finish initing E...\n",
      "valid f1: 0.7518796992481204 precision: 0.6024096385542169 recall: 1.0\n",
      "           get new model\n",
      "valid f1: 0.6851661527920521 precision: 0.5211047420531527 recall: 1.0\n",
      "valid f1: 0.8445984979780474 precision: 1.0 recall: 0.731\n",
      "           get new model\n",
      "valid f1: 0.9361702127659575 precision: 1.0 recall: 0.88\n",
      "           get new model\n",
      "valid f1: 0.6756756756756758 precision: 0.5102040816326531 recall: 1.0\n",
      "valid f1: 0.8221436984687868 precision: 1.0 recall: 0.698\n",
      "valid f1: 0.8233841086867023 precision: 0.6997900629811057 recall: 1.0\n"
     ]
    },
    {
     "name": "stderr",
     "output_type": "stream",
     "text": [
      "  0%|                                                                                            | 0/5 [00:40<?, ?it/s]\n",
      "  0%|                                                                                         | 0/2000 [00:00<?, ?it/s]"
     ]
    },
    {
     "name": "stdout",
     "output_type": "stream",
     "text": [
      "valid f1: 0.9791136016301578 precision: 0.9979231568016614 recall: 0.961\n",
      "           get new model\n",
      "start initing valid kernel matrix...\n"
     ]
    },
    {
     "name": "stderr",
     "output_type": "stream",
     "text": [
      "100%|██████████████████████████████████████████████████████████████████████████████| 2000/2000 [00:28<00:00, 70.07it/s]\n",
      "  1%|▍                                                                              | 12/2000 [00:00<00:17, 114.59it/s]"
     ]
    },
    {
     "name": "stdout",
     "output_type": "stream",
     "text": [
      "finish initing valid kernel matrix...\n",
      "start initing kernel matrix...\n"
     ]
    },
    {
     "name": "stderr",
     "output_type": "stream",
     "text": [
      "100%|█████████████████████████████████████████████████████████████████████████████| 2000/2000 [00:10<00:00, 186.49it/s]\n",
      "  3%|██▌                                                                            | 64/2000 [00:00<00:06, 302.72it/s]"
     ]
    },
    {
     "name": "stdout",
     "output_type": "stream",
     "text": [
      "finish initing kernel matrix...\n",
      "start initing E...\n"
     ]
    },
    {
     "name": "stderr",
     "output_type": "stream",
     "text": [
      "100%|█████████████████████████████████████████████████████████████████████████████| 2000/2000 [00:06<00:00, 331.36it/s]\n",
      "  0%|                                                                                            | 0/5 [00:00<?, ?it/s]"
     ]
    },
    {
     "name": "stdout",
     "output_type": "stream",
     "text": [
      "finish initing E...\n",
      "valid f1: 0.6756756756756758 precision: 0.5102040816326531 recall: 1.0\n",
      "           get new model\n",
      "valid f1: 0.8587699316628702 precision: 0.9973544973544973 recall: 0.754\n",
      "           get new model\n",
      "valid f1: 0.8414351851851852 precision: 0.9986263736263736 recall: 0.727\n"
     ]
    },
    {
     "name": "stderr",
     "output_type": "stream",
     "text": [
      "  0%|                                                                                            | 0/5 [00:26<?, ?it/s]\n",
      "  0%|                                                                                         | 0/2000 [00:00<?, ?it/s]"
     ]
    },
    {
     "name": "stdout",
     "output_type": "stream",
     "text": [
      "valid f1: 0.968605249613999 precision: 0.9978791092258749 recall: 0.941\n",
      "           get new model\n",
      "start initing valid kernel matrix...\n"
     ]
    },
    {
     "name": "stderr",
     "output_type": "stream",
     "text": [
      "100%|█████████████████████████████████████████████████████████████████████████████| 2000/2000 [00:16<00:00, 118.25it/s]\n",
      "  1%|▍                                                                              | 11/2000 [00:00<00:19, 102.12it/s]"
     ]
    },
    {
     "name": "stdout",
     "output_type": "stream",
     "text": [
      "finish initing valid kernel matrix...\n",
      "start initing kernel matrix...\n"
     ]
    },
    {
     "name": "stderr",
     "output_type": "stream",
     "text": [
      "100%|█████████████████████████████████████████████████████████████████████████████| 2000/2000 [00:10<00:00, 191.74it/s]\n",
      "  3%|██▌                                                                            | 66/2000 [00:00<00:06, 317.81it/s]"
     ]
    },
    {
     "name": "stdout",
     "output_type": "stream",
     "text": [
      "finish initing kernel matrix...\n",
      "start initing E...\n"
     ]
    },
    {
     "name": "stderr",
     "output_type": "stream",
     "text": [
      "100%|█████████████████████████████████████████████████████████████████████████████| 2000/2000 [00:05<00:00, 342.27it/s]\n",
      "  0%|                                                                                            | 0/5 [00:00<?, ?it/s]"
     ]
    },
    {
     "name": "stdout",
     "output_type": "stream",
     "text": [
      "finish initing E...\n",
      "valid f1: 0.66711140760507 precision: 0.5005005005005005 recall: 1.0\n",
      "           get new model\n",
      "valid f1: 0.5601719197707736 precision: 0.9873737373737373 recall: 0.391\n",
      "valid f1: 0.875 precision: 0.9789603960396039 recall: 0.791\n",
      "           get new model\n",
      "valid f1: 0.6784260515603798 precision: 0.5133470225872689 recall: 1.0\n",
      "valid f1: 0.3922829581993569 precision: 1.0 recall: 0.244\n",
      "valid f1: 0.6666666666666666 precision: 0.5 recall: 1.0\n",
      "valid f1: 0.18511796733212338 precision: 1.0 recall: 0.102\n",
      "valid f1: 0.8963616317530321 precision: 0.9987714987714987 recall: 0.813\n",
      "           get new model\n",
      "valid f1: 0.7396449704142012 precision: 0.5868544600938967 recall: 1.0\n"
     ]
    },
    {
     "name": "stderr",
     "output_type": "stream",
     "text": [
      "  0%|                                                                                            | 0/5 [01:03<?, ?it/s]\n",
      "  1%|▍                                                                              | 12/2000 [00:00<00:17, 115.69it/s]"
     ]
    },
    {
     "name": "stdout",
     "output_type": "stream",
     "text": [
      "valid f1: 0.9711209006363191 precision: 0.9511025886864813 recall: 0.992\n",
      "           get new model\n",
      "start initing valid kernel matrix...\n"
     ]
    },
    {
     "name": "stderr",
     "output_type": "stream",
     "text": [
      "100%|█████████████████████████████████████████████████████████████████████████████| 2000/2000 [00:17<00:00, 116.94it/s]\n",
      "  1%|▍                                                                              | 11/2000 [00:00<00:18, 109.20it/s]"
     ]
    },
    {
     "name": "stdout",
     "output_type": "stream",
     "text": [
      "finish initing valid kernel matrix...\n",
      "start initing kernel matrix...\n"
     ]
    },
    {
     "name": "stderr",
     "output_type": "stream",
     "text": [
      "100%|█████████████████████████████████████████████████████████████████████████████| 2000/2000 [00:11<00:00, 177.58it/s]\n",
      "  2%|█▍                                                                             | 37/2000 [00:00<00:05, 367.32it/s]"
     ]
    },
    {
     "name": "stdout",
     "output_type": "stream",
     "text": [
      "finish initing kernel matrix...\n",
      "start initing E...\n"
     ]
    },
    {
     "name": "stderr",
     "output_type": "stream",
     "text": [
      "100%|█████████████████████████████████████████████████████████████████████████████| 2000/2000 [00:06<00:00, 329.89it/s]\n",
      "  0%|                                                                                            | 0/5 [00:00<?, ?it/s]"
     ]
    },
    {
     "name": "stdout",
     "output_type": "stream",
     "text": [
      "finish initing E...\n",
      "valid f1: 0.6963788300835655 precision: 0.5341880341880342 recall: 1.0\n",
      "           get new model\n",
      "valid f1: 0.678886625933469 precision: 0.513874614594039 recall: 1.0\n",
      "valid f1: 0.8917826672653794 precision: 0.8092909535452323 recall: 0.993\n",
      "           get new model\n",
      "valid f1: 0.9259606373008433 precision: 0.8712522045855379 recall: 0.988\n",
      "           get new model\n",
      "valid f1: 0.8683181225554107 precision: 0.7678708685626441 recall: 0.999\n",
      "valid f1: 0.9312762973352033 precision: 0.874451273046532 recall: 0.996\n",
      "           get new model\n"
     ]
    },
    {
     "name": "stderr",
     "output_type": "stream",
     "text": [
      "  0%|                                                                                            | 0/5 [00:48<?, ?it/s]\n",
      "  0%|                                                                                         | 0/2000 [00:00<?, ?it/s]"
     ]
    },
    {
     "name": "stdout",
     "output_type": "stream",
     "text": [
      "valid f1: 0.965986394557823 precision: 0.9395085066162571 recall: 0.994\n",
      "           get new model\n",
      "start initing valid kernel matrix...\n"
     ]
    },
    {
     "name": "stderr",
     "output_type": "stream",
     "text": [
      "100%|█████████████████████████████████████████████████████████████████████████████| 2000/2000 [00:17<00:00, 113.63it/s]\n",
      "  1%|▍                                                                              | 12/2000 [00:00<00:17, 114.59it/s]"
     ]
    },
    {
     "name": "stdout",
     "output_type": "stream",
     "text": [
      "finish initing valid kernel matrix...\n",
      "start initing kernel matrix...\n"
     ]
    },
    {
     "name": "stderr",
     "output_type": "stream",
     "text": [
      "100%|█████████████████████████████████████████████████████████████████████████████| 2000/2000 [00:11<00:00, 179.98it/s]\n",
      "  2%|█▏                                                                             | 30/2000 [00:00<00:06, 294.90it/s]"
     ]
    },
    {
     "name": "stdout",
     "output_type": "stream",
     "text": [
      "finish initing kernel matrix...\n",
      "start initing E...\n"
     ]
    },
    {
     "name": "stderr",
     "output_type": "stream",
     "text": [
      "100%|█████████████████████████████████████████████████████████████████████████████| 2000/2000 [00:06<00:00, 324.18it/s]\n",
      "  0%|                                                                                            | 0/5 [00:00<?, ?it/s]"
     ]
    },
    {
     "name": "stdout",
     "output_type": "stream",
     "text": [
      "finish initing E...\n",
      "valid f1: 0.48139711465451784 precision: 1.0 recall: 0.317\n",
      "           get new model\n",
      "valid f1: 0.8166598611678236 precision: 0.6901311249137336 recall: 1.0\n",
      "           get new model\n",
      "valid f1: 0.9317098994176812 precision: 0.9898762654668166 recall: 0.88\n",
      "           get new model\n",
      "valid f1: 0.7317691819911224 precision: 1.0 recall: 0.577\n",
      "valid f1: 0.8172678888231816 precision: 1.0 recall: 0.691\n",
      "valid f1: 0.6394557823129251 precision: 1.0 recall: 0.47\n"
     ]
    },
    {
     "name": "stderr",
     "output_type": "stream",
     "text": [
      "\r",
      "  0%|                                                                                            | 0/5 [00:50<?, ?it/s]"
     ]
    },
    {
     "name": "stdout",
     "output_type": "stream",
     "text": [
      "valid f1: 0.9905800694100148 precision: 0.9823008849557522 recall: 0.999\n",
      "           get new model\n"
     ]
    },
    {
     "name": "stderr",
     "output_type": "stream",
     "text": [
      "\n",
      "  0%|                                                                                         | 0/2000 [00:00<?, ?it/s]"
     ]
    },
    {
     "name": "stdout",
     "output_type": "stream",
     "text": [
      "start initing valid kernel matrix...\n"
     ]
    },
    {
     "name": "stderr",
     "output_type": "stream",
     "text": [
      "100%|██████████████████████████████████████████████████████████████████████████████| 2000/2000 [00:23<00:00, 85.66it/s]\n",
      "  1%|▍                                                                              | 11/2000 [00:00<00:18, 105.04it/s]"
     ]
    },
    {
     "name": "stdout",
     "output_type": "stream",
     "text": [
      "finish initing valid kernel matrix...\n",
      "start initing kernel matrix...\n"
     ]
    },
    {
     "name": "stderr",
     "output_type": "stream",
     "text": [
      "100%|█████████████████████████████████████████████████████████████████████████████| 2000/2000 [00:11<00:00, 181.31it/s]\n",
      "  2%|█▍                                                                             | 36/2000 [00:00<00:05, 350.46it/s]"
     ]
    },
    {
     "name": "stdout",
     "output_type": "stream",
     "text": [
      "finish initing kernel matrix...\n",
      "start initing E...\n"
     ]
    },
    {
     "name": "stderr",
     "output_type": "stream",
     "text": [
      "100%|█████████████████████████████████████████████████████████████████████████████| 2000/2000 [00:06<00:00, 304.66it/s]\n",
      "  0%|                                                                                            | 0/5 [00:00<?, ?it/s]"
     ]
    },
    {
     "name": "stdout",
     "output_type": "stream",
     "text": [
      "finish initing E...\n",
      "valid f1: 0.6738544474393531 precision: 0.508130081300813 recall: 1.0\n",
      "           get new model\n",
      "valid f1: 0.8734622144112478 precision: 0.7789968652037618 recall: 0.994\n",
      "           get new model\n",
      "valid f1: 0.670690811535882 precision: 0.5045408678102926 recall: 1.0\n",
      "valid f1: 0.7047216349541932 precision: 0.544069640914037 recall: 1.0\n",
      "valid f1: 0.9247211895910781 precision: 0.8637152777777778 recall: 0.995\n",
      "           get new model\n"
     ]
    },
    {
     "name": "stderr",
     "output_type": "stream",
     "text": [
      "  0%|                                                                                            | 0/5 [00:41<?, ?it/s]\n",
      "  0%|                                                                                         | 0/2000 [00:00<?, ?it/s]"
     ]
    },
    {
     "name": "stdout",
     "output_type": "stream",
     "text": [
      "valid f1: 0.9770290964777948 precision: 0.9979144942648592 recall: 0.957\n",
      "           get new model\n",
      "start initing valid kernel matrix...\n"
     ]
    },
    {
     "name": "stderr",
     "output_type": "stream",
     "text": [
      "100%|█████████████████████████████████████████████████████████████████████████████| 2000/2000 [00:18<00:00, 107.65it/s]\n",
      "  0%|▎                                                                                | 8/2000 [00:00<00:25, 78.64it/s]"
     ]
    },
    {
     "name": "stdout",
     "output_type": "stream",
     "text": [
      "finish initing valid kernel matrix...\n",
      "start initing kernel matrix...\n"
     ]
    },
    {
     "name": "stderr",
     "output_type": "stream",
     "text": [
      "100%|█████████████████████████████████████████████████████████████████████████████| 2000/2000 [00:10<00:00, 190.57it/s]\n",
      "  2%|█▍                                                                             | 37/2000 [00:00<00:05, 363.72it/s]"
     ]
    },
    {
     "name": "stdout",
     "output_type": "stream",
     "text": [
      "finish initing kernel matrix...\n",
      "start initing E...\n"
     ]
    },
    {
     "name": "stderr",
     "output_type": "stream",
     "text": [
      "100%|█████████████████████████████████████████████████████████████████████████████| 2000/2000 [00:05<00:00, 345.70it/s]\n",
      "  0%|                                                                                            | 0/5 [00:00<?, ?it/s]"
     ]
    },
    {
     "name": "stdout",
     "output_type": "stream",
     "text": [
      "finish initing E...\n",
      "valid f1: 0.7886473429951691 precision: 0.9954268292682927 recall: 0.653\n",
      "           get new model\n",
      "valid f1: 0.8714205502526671 precision: 0.9935979513444302 recall: 0.776\n",
      "           get new model\n",
      "valid f1: 0.7997609085475194 precision: 0.9940564635958395 recall: 0.669\n",
      "valid f1: 0.7995198079231693 precision: 1.0 recall: 0.666\n"
     ]
    },
    {
     "name": "stderr",
     "output_type": "stream",
     "text": [
      "  0%|                                                                                            | 0/5 [00:30<?, ?it/s]\n",
      "  1%|▌                                                                              | 14/2000 [00:00<00:14, 136.29it/s]"
     ]
    },
    {
     "name": "stdout",
     "output_type": "stream",
     "text": [
      "valid f1: 0.9546106067845198 precision: 0.9139981701738334 recall: 0.999\n",
      "           get new model\n",
      "start initing valid kernel matrix...\n"
     ]
    },
    {
     "name": "stderr",
     "output_type": "stream",
     "text": [
      "100%|█████████████████████████████████████████████████████████████████████████████| 2000/2000 [00:16<00:00, 121.38it/s]\n",
      "  1%|▉                                                                              | 25/2000 [00:00<00:16, 118.60it/s]"
     ]
    },
    {
     "name": "stdout",
     "output_type": "stream",
     "text": [
      "finish initing valid kernel matrix...\n",
      "start initing kernel matrix...\n"
     ]
    },
    {
     "name": "stderr",
     "output_type": "stream",
     "text": [
      "100%|█████████████████████████████████████████████████████████████████████████████| 2000/2000 [00:11<00:00, 178.87it/s]\n",
      "  2%|█▎                                                                             | 34/2000 [00:00<00:05, 337.54it/s]"
     ]
    },
    {
     "name": "stdout",
     "output_type": "stream",
     "text": [
      "finish initing kernel matrix...\n",
      "start initing E...\n"
     ]
    },
    {
     "name": "stderr",
     "output_type": "stream",
     "text": [
      "100%|█████████████████████████████████████████████████████████████████████████████| 2000/2000 [00:06<00:00, 317.14it/s]\n",
      "  0%|                                                                                            | 0/5 [00:00<?, ?it/s]"
     ]
    },
    {
     "name": "stdout",
     "output_type": "stream",
     "text": [
      "finish initing E...\n",
      "valid f1: 0.6812411847672778 precision: 0.5261437908496732 recall: 0.966\n",
      "           get new model\n",
      "valid f1: 0.6759040216289287 precision: 0.5104645227156712 recall: 1.0\n",
      "valid f1: 0.8311148086522463 precision: 0.7115384615384616 recall: 0.999\n",
      "           get new model\n",
      "valid f1: 0.6798096532970768 precision: 0.5149330587023687 recall: 1.0\n"
     ]
    },
    {
     "name": "stderr",
     "output_type": "stream",
     "text": [
      "  0%|                                                                                            | 0/5 [00:32<?, ?it/s]\n",
      "  0%|                                                                                         | 0/2000 [00:00<?, ?it/s]"
     ]
    },
    {
     "name": "stdout",
     "output_type": "stream",
     "text": [
      "valid f1: 0.9715447154471545 precision: 0.987603305785124 recall: 0.956\n",
      "           get new model\n",
      "start initing valid kernel matrix...\n"
     ]
    },
    {
     "name": "stderr",
     "output_type": "stream",
     "text": [
      "100%|█████████████████████████████████████████████████████████████████████████████| 2000/2000 [00:16<00:00, 119.92it/s]\n",
      "  1%|▌                                                                              | 13/2000 [00:00<00:16, 122.98it/s]"
     ]
    },
    {
     "name": "stdout",
     "output_type": "stream",
     "text": [
      "finish initing valid kernel matrix...\n",
      "start initing kernel matrix...\n"
     ]
    },
    {
     "name": "stderr",
     "output_type": "stream",
     "text": [
      "100%|█████████████████████████████████████████████████████████████████████████████| 2000/2000 [00:11<00:00, 178.87it/s]\n",
      "  1%|█▏                                                                             | 29/2000 [00:00<00:06, 283.61it/s]"
     ]
    },
    {
     "name": "stdout",
     "output_type": "stream",
     "text": [
      "finish initing kernel matrix...\n",
      "start initing E...\n"
     ]
    },
    {
     "name": "stderr",
     "output_type": "stream",
     "text": [
      "100%|█████████████████████████████████████████████████████████████████████████████| 2000/2000 [00:06<00:00, 316.59it/s]\n",
      "  0%|                                                                                            | 0/5 [00:00<?, ?it/s]"
     ]
    },
    {
     "name": "stdout",
     "output_type": "stream",
     "text": [
      "finish initing E...\n",
      "valid f1: 0.6666666666666666 precision: 0.5 recall: 1.0\n",
      "           get new model\n",
      "valid f1: 0.6666666666666666 precision: 0.5 recall: 1.0\n",
      "           get new model\n",
      "valid f1: 0.6666666666666666 precision: 0.5 recall: 1.0\n",
      "           get new model\n",
      "valid f1: 0.6666666666666666 precision: 0.5 recall: 1.0\n",
      "           get new model\n",
      "valid f1: 0.6666666666666666 precision: 0.5 recall: 1.0\n",
      "           get new model\n",
      "valid f1: 0.6666666666666666 precision: 0.5 recall: 1.0\n",
      "           get new model\n",
      "valid f1: 0.6666666666666666 precision: 0.5 recall: 1.0\n",
      "           get new model\n",
      "valid f1: 0.6666666666666666 precision: 0.5 recall: 1.0\n",
      "           get new model\n",
      "valid f1: 0.6666666666666666 precision: 0.5 recall: 1.0\n",
      "           get new model\n",
      "valid f1: 0.6666666666666666 precision: 0.5 recall: 1.0\n",
      "           get new model\n",
      "valid f1: 0.6666666666666666 precision: 0.5 recall: 1.0\n",
      "           get new model\n",
      "valid f1: 0.6666666666666666 precision: 0.5 recall: 1.0\n",
      "           get new model\n",
      "valid f1: 0.6666666666666666 precision: 0.5 recall: 1.0\n",
      "           get new model\n",
      "valid f1: 0.6666666666666666 precision: 0.5 recall: 1.0\n",
      "           get new model\n",
      "valid f1: 0.6666666666666666 precision: 0.5 recall: 1.0\n",
      "           get new model\n",
      "valid f1: 0.6666666666666666 precision: 0.5 recall: 1.0\n",
      "           get new model\n",
      "valid f1: 0.6666666666666666 precision: 0.5 recall: 1.0\n",
      "           get new model\n",
      "valid f1: 0.6666666666666666 precision: 0.5 recall: 1.0\n",
      "           get new model\n",
      "valid f1: 0.6666666666666666 precision: 0.5 recall: 1.0\n",
      "           get new model\n",
      "valid f1: 0.6666666666666666 precision: 0.5 recall: 1.0\n",
      "           get new model\n",
      "valid f1: 0.6666666666666666 precision: 0.5 recall: 1.0\n",
      "           get new model\n",
      "valid f1: 0.6666666666666666 precision: 0.5 recall: 1.0\n",
      "           get new model\n",
      "valid f1: 0.6666666666666666 precision: 0.5 recall: 1.0\n",
      "           get new model\n",
      "valid f1: 0.6666666666666666 precision: 0.5 recall: 1.0\n",
      "           get new model\n",
      "valid f1: 0.6666666666666666 precision: 0.5 recall: 1.0\n",
      "           get new model\n",
      "valid f1: 0.6666666666666666 precision: 0.5 recall: 1.0\n",
      "           get new model\n",
      "valid f1: 0.6666666666666666 precision: 0.5 recall: 1.0\n",
      "           get new model\n",
      "valid f1: 0.6666666666666666 precision: 0.5 recall: 1.0\n",
      "           get new model\n",
      "valid f1: 0.6666666666666666 precision: 0.5 recall: 1.0\n",
      "           get new model\n",
      "valid f1: 0.6666666666666666 precision: 0.5 recall: 1.0\n",
      "           get new model\n",
      "valid f1: 0.6666666666666666 precision: 0.5 recall: 1.0\n",
      "           get new model\n",
      "valid f1: 0.6666666666666666 precision: 0.5 recall: 1.0\n",
      "           get new model\n",
      "valid f1: 0.6666666666666666 precision: 0.5 recall: 1.0\n",
      "           get new model\n",
      "valid f1: 0.6666666666666666 precision: 0.5 recall: 1.0\n",
      "           get new model\n",
      "valid f1: 0.6666666666666666 precision: 0.5 recall: 1.0\n",
      "           get new model\n",
      "valid f1: 0.6666666666666666 precision: 0.5 recall: 1.0\n",
      "           get new model\n",
      "valid f1: 0.6666666666666666 precision: 0.5 recall: 1.0\n",
      "           get new model\n",
      "valid f1: 0.6666666666666666 precision: 0.5 recall: 1.0\n",
      "           get new model\n",
      "valid f1: 0.6666666666666666 precision: 0.5 recall: 1.0\n",
      "           get new model\n",
      "valid f1: 0.6666666666666666 precision: 0.5 recall: 1.0\n",
      "           get new model\n",
      "valid f1: 0.6666666666666666 precision: 0.5 recall: 1.0\n",
      "           get new model\n",
      "valid f1: 0.6666666666666666 precision: 0.5 recall: 1.0\n",
      "           get new model\n",
      "valid f1: 0.6666666666666666 precision: 0.5 recall: 1.0\n",
      "           get new model\n",
      "valid f1: 0.6666666666666666 precision: 0.5 recall: 1.0\n",
      "           get new model\n",
      "valid f1: 0.6666666666666666 precision: 0.5 recall: 1.0\n",
      "           get new model\n",
      "valid f1: 0.6666666666666666 precision: 0.5 recall: 1.0\n",
      "           get new model\n",
      "valid f1: 0.6666666666666666 precision: 0.5 recall: 1.0\n",
      "           get new model\n",
      "valid f1: 0.6666666666666666 precision: 0.5 recall: 1.0\n",
      "           get new model\n",
      "valid f1: 0.6666666666666666 precision: 0.5 recall: 1.0\n",
      "           get new model\n",
      "valid f1: 0.6666666666666666 precision: 0.5 recall: 1.0\n",
      "           get new model\n",
      "valid f1: 0.6666666666666666 precision: 0.5 recall: 1.0\n",
      "           get new model\n",
      "valid f1: 0.6666666666666666 precision: 0.5 recall: 1.0\n",
      "           get new model\n",
      "valid f1: 0.6666666666666666 precision: 0.5 recall: 1.0\n",
      "           get new model\n",
      "valid f1: 0.6666666666666666 precision: 0.5 recall: 1.0\n",
      "           get new model\n",
      "valid f1: 0.6666666666666666 precision: 0.5 recall: 1.0\n",
      "           get new model\n",
      "valid f1: 0.6666666666666666 precision: 0.5 recall: 1.0\n",
      "           get new model\n",
      "valid f1: 0.6666666666666666 precision: 0.5 recall: 1.0\n",
      "           get new model\n",
      "valid f1: 0.6666666666666666 precision: 0.5 recall: 1.0\n",
      "           get new model\n",
      "valid f1: 0.6666666666666666 precision: 0.5 recall: 1.0\n",
      "           get new model\n",
      "valid f1: 0.6666666666666666 precision: 0.5 recall: 1.0\n",
      "           get new model\n",
      "valid f1: 0.6666666666666666 precision: 0.5 recall: 1.0\n",
      "           get new model\n",
      "valid f1: 0.6666666666666666 precision: 0.5 recall: 1.0\n",
      "           get new model\n",
      "valid f1: 0.6666666666666666 precision: 0.5 recall: 1.0\n",
      "           get new model\n",
      "valid f1: 0.6666666666666666 precision: 0.5 recall: 1.0\n",
      "           get new model\n",
      "valid f1: 0.6666666666666666 precision: 0.5 recall: 1.0\n",
      "           get new model\n",
      "valid f1: 0.6666666666666666 precision: 0.5 recall: 1.0\n",
      "           get new model\n",
      "valid f1: 0.6666666666666666 precision: 0.5 recall: 1.0\n",
      "           get new model\n",
      "valid f1: 0.6666666666666666 precision: 0.5 recall: 1.0\n",
      "           get new model\n",
      "valid f1: 0.6666666666666666 precision: 0.5 recall: 1.0\n",
      "           get new model\n",
      "valid f1: 0.6666666666666666 precision: 0.5 recall: 1.0\n",
      "           get new model\n",
      "valid f1: 0.6666666666666666 precision: 0.5 recall: 1.0\n",
      "           get new model\n",
      "valid f1: 0.6666666666666666 precision: 0.5 recall: 1.0\n",
      "           get new model\n",
      "valid f1: 0.6666666666666666 precision: 0.5 recall: 1.0\n",
      "           get new model\n",
      "valid f1: 0.6666666666666666 precision: 0.5 recall: 1.0\n",
      "           get new model\n",
      "valid f1: 0.6666666666666666 precision: 0.5 recall: 1.0\n",
      "           get new model\n",
      "valid f1: 0.6666666666666666 precision: 0.5 recall: 1.0\n",
      "           get new model\n",
      "valid f1: 0.6666666666666666 precision: 0.5 recall: 1.0\n",
      "           get new model\n",
      "valid f1: 0.6666666666666666 precision: 0.5 recall: 1.0\n",
      "           get new model\n",
      "valid f1: 0.6666666666666666 precision: 0.5 recall: 1.0\n",
      "           get new model\n",
      "valid f1: 0.6666666666666666 precision: 0.5 recall: 1.0\n",
      "           get new model\n",
      "valid f1: 0.6666666666666666 precision: 0.5 recall: 1.0\n",
      "           get new model\n",
      "valid f1: 0.6666666666666666 precision: 0.5 recall: 1.0\n",
      "           get new model\n",
      "valid f1: 0.6666666666666666 precision: 0.5 recall: 1.0\n",
      "           get new model\n",
      "valid f1: 0.6666666666666666 precision: 0.5 recall: 1.0\n",
      "           get new model\n",
      "valid f1: 0.6666666666666666 precision: 0.5 recall: 1.0\n",
      "           get new model\n",
      "valid f1: 0.6666666666666666 precision: 0.5 recall: 1.0\n",
      "           get new model\n",
      "valid f1: 0.6666666666666666 precision: 0.5 recall: 1.0\n",
      "           get new model\n",
      "valid f1: 0.6666666666666666 precision: 0.5 recall: 1.0\n",
      "           get new model\n",
      "valid f1: 0.6666666666666666 precision: 0.5 recall: 1.0\n",
      "           get new model\n",
      "valid f1: 0.6666666666666666 precision: 0.5 recall: 1.0\n",
      "           get new model\n",
      "valid f1: 0.6666666666666666 precision: 0.5 recall: 1.0\n",
      "           get new model\n",
      "valid f1: 0.6666666666666666 precision: 0.5 recall: 1.0\n",
      "           get new model\n",
      "valid f1: 0.6666666666666666 precision: 0.5 recall: 1.0\n",
      "           get new model\n",
      "valid f1: 0.6666666666666666 precision: 0.5 recall: 1.0\n",
      "           get new model\n",
      "valid f1: 0.6666666666666666 precision: 0.5 recall: 1.0\n",
      "           get new model\n",
      "valid f1: 0.6666666666666666 precision: 0.5 recall: 1.0\n",
      "           get new model\n",
      "valid f1: 0.6666666666666666 precision: 0.5 recall: 1.0\n",
      "           get new model\n",
      "valid f1: 0.6666666666666666 precision: 0.5 recall: 1.0\n",
      "           get new model\n",
      "valid f1: 0.6666666666666666 precision: 0.5 recall: 1.0\n",
      "           get new model\n",
      "valid f1: 0.6666666666666666 precision: 0.5 recall: 1.0\n",
      "           get new model\n"
     ]
    },
    {
     "name": "stderr",
     "output_type": "stream",
     "text": [
      "  0%|                                                                                            | 0/5 [11:18<?, ?it/s]\n",
      "  0%|                                                                                         | 0/2000 [00:00<?, ?it/s]"
     ]
    },
    {
     "name": "stdout",
     "output_type": "stream",
     "text": [
      "valid f1: 0.9736842105263158 precision: 0.9496197718631179 recall: 0.999\n",
      "           get new model\n",
      "start initing valid kernel matrix...\n"
     ]
    },
    {
     "name": "stderr",
     "output_type": "stream",
     "text": [
      "100%|██████████████████████████████████████████████████████████████████████████████| 2000/2000 [00:21<00:00, 94.81it/s]\n",
      "  1%|▍                                                                              | 11/2000 [00:00<00:19, 102.13it/s]"
     ]
    },
    {
     "name": "stdout",
     "output_type": "stream",
     "text": [
      "finish initing valid kernel matrix...\n",
      "start initing kernel matrix...\n"
     ]
    },
    {
     "name": "stderr",
     "output_type": "stream",
     "text": [
      "100%|█████████████████████████████████████████████████████████████████████████████| 2000/2000 [00:11<00:00, 174.92it/s]\n",
      "  2%|█▏                                                                             | 31/2000 [00:00<00:06, 304.74it/s]"
     ]
    },
    {
     "name": "stdout",
     "output_type": "stream",
     "text": [
      "finish initing kernel matrix...\n",
      "start initing E...\n"
     ]
    },
    {
     "name": "stderr",
     "output_type": "stream",
     "text": [
      "100%|█████████████████████████████████████████████████████████████████████████████| 2000/2000 [00:06<00:00, 319.41it/s]\n",
      "  0%|                                                                                            | 0/5 [00:00<?, ?it/s]"
     ]
    },
    {
     "name": "stdout",
     "output_type": "stream",
     "text": [
      "finish initing E...\n",
      "valid f1: 0.7024938531787847 precision: 0.5414185165132648 recall: 1.0\n",
      "           get new model\n",
      "valid f1: 0.6759040216289287 precision: 0.5104645227156712 recall: 1.0\n"
     ]
    },
    {
     "name": "stderr",
     "output_type": "stream",
     "text": [
      "  0%|                                                                                            | 0/5 [00:18<?, ?it/s]\n",
      "  0%|                                                                                         | 0/2000 [00:00<?, ?it/s]"
     ]
    },
    {
     "name": "stdout",
     "output_type": "stream",
     "text": [
      "valid f1: 0.9523310633839707 precision: 1.0 recall: 0.909\n",
      "           get new model\n",
      "start initing valid kernel matrix...\n"
     ]
    },
    {
     "name": "stderr",
     "output_type": "stream",
     "text": [
      "100%|█████████████████████████████████████████████████████████████████████████████| 2000/2000 [00:17<00:00, 111.50it/s]\n",
      "  0%|▍                                                                               | 10/2000 [00:00<00:20, 98.78it/s]"
     ]
    },
    {
     "name": "stdout",
     "output_type": "stream",
     "text": [
      "finish initing valid kernel matrix...\n",
      "start initing kernel matrix...\n"
     ]
    },
    {
     "name": "stderr",
     "output_type": "stream",
     "text": [
      "100%|█████████████████████████████████████████████████████████████████████████████| 2000/2000 [00:11<00:00, 169.92it/s]\n",
      "  3%|██▋                                                                            | 69/2000 [00:00<00:05, 348.57it/s]"
     ]
    },
    {
     "name": "stdout",
     "output_type": "stream",
     "text": [
      "finish initing kernel matrix...\n",
      "start initing E...\n"
     ]
    },
    {
     "name": "stderr",
     "output_type": "stream",
     "text": [
      "100%|█████████████████████████████████████████████████████████████████████████████| 2000/2000 [00:05<00:00, 346.73it/s]\n",
      "  0%|                                                                                            | 0/5 [00:00<?, ?it/s]"
     ]
    },
    {
     "name": "stdout",
     "output_type": "stream",
     "text": [
      "finish initing E...\n",
      "valid f1: 0.6666666666666666 precision: 0.5 recall: 1.0\n",
      "           get new model\n",
      "valid f1: 0.6666666666666666 precision: 0.5 recall: 1.0\n",
      "           get new model\n",
      "valid f1: 0.6666666666666666 precision: 0.5 recall: 1.0\n",
      "           get new model\n",
      "valid f1: 0.6666666666666666 precision: 0.5 recall: 1.0\n",
      "           get new model\n",
      "valid f1: 0.6666666666666666 precision: 0.5 recall: 1.0\n",
      "           get new model\n",
      "valid f1: 0.6666666666666666 precision: 0.5 recall: 1.0\n",
      "           get new model\n",
      "valid f1: 0.6666666666666666 precision: 0.5 recall: 1.0\n",
      "           get new model\n",
      "valid f1: 0.6666666666666666 precision: 0.5 recall: 1.0\n",
      "           get new model\n",
      "valid f1: 0.6666666666666666 precision: 0.5 recall: 1.0\n",
      "           get new model\n",
      "valid f1: 0.6666666666666666 precision: 0.5 recall: 1.0\n",
      "           get new model\n",
      "valid f1: 0.6666666666666666 precision: 0.5 recall: 1.0\n",
      "           get new model\n",
      "valid f1: 0.6666666666666666 precision: 0.5 recall: 1.0\n",
      "           get new model\n",
      "valid f1: 0.6666666666666666 precision: 0.5 recall: 1.0\n",
      "           get new model\n",
      "valid f1: 0.6666666666666666 precision: 0.5 recall: 1.0\n",
      "           get new model\n",
      "valid f1: 0.6666666666666666 precision: 0.5 recall: 1.0\n",
      "           get new model\n",
      "valid f1: 0.6666666666666666 precision: 0.5 recall: 1.0\n",
      "           get new model\n",
      "valid f1: 0.6666666666666666 precision: 0.5 recall: 1.0\n",
      "           get new model\n",
      "valid f1: 0.6666666666666666 precision: 0.5 recall: 1.0\n",
      "           get new model\n",
      "valid f1: 0.6666666666666666 precision: 0.5 recall: 1.0\n",
      "           get new model\n",
      "valid f1: 0.6666666666666666 precision: 0.5 recall: 1.0\n",
      "           get new model\n",
      "valid f1: 0.6666666666666666 precision: 0.5 recall: 1.0\n",
      "           get new model\n"
     ]
    }
   ],
   "source": [
    "models = {}\n",
    "\n",
    "for i in range(10):\n",
    "    for j in range(i+1, 10):\n",
    "        \n",
    "        print('* train model of {} and {}'.format(i, j))\n",
    "        \n",
    "        svm = SVM(C=0.001)\n",
    "    \n",
    "        train_data, train_labels = make_data_of_digit_i_and_j(X_train, y_train, i, j)\n",
    "        valid_data, valid_labels = make_data_of_digit_i_and_j(X_valid, y_valid, i, j)\n",
    "        \n",
    "        train_data = np.array(train_data)\n",
    "        valid_data = np.array(valid_data)\n",
    "        \n",
    "        svm.train(train_data, train_labels, valid_data, valid_labels, epochs=5, kernel_type='poly')\n",
    "        \n",
    "        models[str(i) + str(j)] = svm"
   ]
  },
  {
   "cell_type": "code",
   "execution_count": null,
   "metadata": {},
   "outputs": [],
   "source": [
    "for model in models:\n",
    "    print(model.best_f1)"
   ]
  },
  {
   "cell_type": "code",
   "execution_count": null,
   "metadata": {
    "scrolled": false
   },
   "outputs": [],
   "source": [
    "correct = 0\n",
    "correct_list = []\n",
    "error_list = []\n",
    "for i in tqdm(range(len(X_test[:1000]))):\n",
    "    prob_list = []\n",
    "    for j in range(10):\n",
    "        p = models[j].predict_of_probability(X_test[i])\n",
    "        prob_list.append(p)\n",
    "    \n",
    "    p = np.argmax(prob_list)\n",
    "    \n",
    "    if p == y_test[i]:\n",
    "        correct += 1\n",
    "        correct_list.append(p)\n",
    "    \n",
    "    else:\n",
    "        error_list.append([p, y_test[i]])\n",
    "print('acc on test data of custom model: {}'.format(correct/len(X_test[:1000])))"
   ]
  },
  {
   "cell_type": "code",
   "execution_count": null,
   "metadata": {},
   "outputs": [],
   "source": [
    "ans = []\n",
    "for i in range(len(X_test[:1000])):\n",
    "    ans.append(y_test[i])"
   ]
  },
  {
   "cell_type": "code",
   "execution_count": null,
   "metadata": {},
   "outputs": [],
   "source": [
    "a = dict(Counter(correct_list))\n",
    "b = dict(Counter(ans))\n",
    "for i in range(10):\n",
    "    if i in a.keys():\n",
    "        print('recall of digit {}: {}'.format(i, a[i]/b[i]))\n",
    "    else:\n",
    "        print('recall of digit {}: {}'.format(i, 0.0))"
   ]
  },
  {
   "cell_type": "code",
   "execution_count": null,
   "metadata": {},
   "outputs": [],
   "source": [
    "s = []\n",
    "for error in error_list:\n",
    "    key = str(error[1]) + '->' + str(error[0])\n",
    "    s.append(key)\n",
    "\n",
    "s.sort()\n",
    "Counter(s)"
   ]
  }
 ],
 "metadata": {
  "kernelspec": {
   "display_name": "Python 3",
   "language": "python",
   "name": "python3"
  },
  "language_info": {
   "codemirror_mode": {
    "name": "ipython",
    "version": 3
   },
   "file_extension": ".py",
   "mimetype": "text/x-python",
   "name": "python",
   "nbconvert_exporter": "python",
   "pygments_lexer": "ipython3",
   "version": "3.7.5"
  }
 },
 "nbformat": 4,
 "nbformat_minor": 4
}
